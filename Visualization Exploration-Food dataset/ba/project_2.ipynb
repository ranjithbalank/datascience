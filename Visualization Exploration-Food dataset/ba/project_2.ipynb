{
 "cells": [
  {
   "cell_type": "markdown",
   "metadata": {},
   "source": [
    "# British Airways - FORAGE INTERNSHIP"
   ]
  },
  {
   "cell_type": "markdown",
   "metadata": {},
   "source": [
    "# Task 1\n",
    "\n",
    "---\n",
    "\n",
    "## Web scraping and analysis\n",
    "\n",
    "This Jupyter notebook includes some code to get you started with web scraping. We will use a package called `BeautifulSoup` to collect the data from the web. Once you've collected your data and saved it into a local `.csv` file you should start with your analysis.\n",
    "\n",
    "### Scraping data from Skytrax\n",
    "\n",
    "If you visit [https://www.airlinequality.com] you can see that there is a lot of data there. For this task, we are only interested in reviews related to British Airways and the Airline itself.\n",
    "\n",
    "If you navigate to this link: [https://www.airlinequality.com/airline-reviews/british-airways] you will see this data. Now, we can use `Python` and `BeautifulSoup` to collect all the links to the reviews and then to collect the text data on each of the individual review links.\n",
    "\n",
    "### Library Required:"
   ]
  },
  {
   "cell_type": "code",
   "execution_count": 2,
   "metadata": {},
   "outputs": [],
   "source": [
    "import requests"
   ]
  },
  {
   "cell_type": "code",
   "execution_count": 3,
   "metadata": {},
   "outputs": [],
   "source": [
    "from bs4 import BeautifulSoup"
   ]
  },
  {
   "cell_type": "code",
   "execution_count": 4,
   "metadata": {},
   "outputs": [],
   "source": [
    "import pandas as pd"
   ]
  },
  {
   "cell_type": "code",
   "execution_count": 5,
   "metadata": {},
   "outputs": [
    {
     "name": "stdout",
     "output_type": "stream",
     "text": [
      "Scrapping the data 1\n",
      "100 Total Reviews\n",
      "Scrapping the data 2\n",
      "200 Total Reviews\n",
      "Scrapping the data 3\n",
      "300 Total Reviews\n",
      "Scrapping the data 4\n",
      "400 Total Reviews\n",
      "Scrapping the data 5\n",
      "500 Total Reviews\n",
      "Scrapping the data 6\n",
      "600 Total Reviews\n",
      "Scrapping the data 7\n",
      "700 Total Reviews\n",
      "Scrapping the data 8\n",
      "800 Total Reviews\n",
      "Scrapping the data 9\n",
      "900 Total Reviews\n",
      "Scrapping the data 10\n",
      "1000 Total Reviews\n"
     ]
    }
   ],
   "source": [
    "base=\"https://www.airlinequality.com/airline-reviews/british-airways\"\n",
    "pages=10\n",
    "page_size=100\n",
    "\n",
    "review=[]\n",
    "\n",
    "# Loop:\n",
    "for i in range(1, pages + 1):\n",
    "    # printing the required \n",
    "    print(f\"Scrapping the data {i}\")\n",
    "\n",
    "    # scarp the data\n",
    "    url=f\"{base}/page/{i}/?sortby=post_date%3ADesc&pagesize={page_size}\"\n",
    "    \n",
    "\n",
    "    # collect HTML\n",
    "    response=requests.get(url)\n",
    "\n",
    "    # parse content\n",
    "    content=response.content\n",
    "    parsed_content=BeautifulSoup(content,\"html.parser\")\n",
    "\n",
    "    for i in parsed_content.find_all(\"div\", {\"class\": \"text_content\"}):\n",
    "        review.append(i.get_text())\n",
    "    \n",
    "    print(f\"{len(review)} Total Reviews\")"
   ]
  },
  {
   "cell_type": "code",
   "execution_count": 10,
   "metadata": {},
   "outputs": [
    {
     "data": {
      "text/html": [
       "<div>\n",
       "<style scoped>\n",
       "    .dataframe tbody tr th:only-of-type {\n",
       "        vertical-align: middle;\n",
       "    }\n",
       "\n",
       "    .dataframe tbody tr th {\n",
       "        vertical-align: top;\n",
       "    }\n",
       "\n",
       "    .dataframe thead th {\n",
       "        text-align: right;\n",
       "    }\n",
       "</style>\n",
       "<table border=\"1\" class=\"dataframe\">\n",
       "  <thead>\n",
       "    <tr style=\"text-align: right;\">\n",
       "      <th></th>\n",
       "      <th>reviews</th>\n",
       "    </tr>\n",
       "  </thead>\n",
       "  <tbody>\n",
       "    <tr>\n",
       "      <th>0</th>\n",
       "      <td>✅ Trip Verified |  Very inconsiderate PA annou...</td>\n",
       "    </tr>\n",
       "    <tr>\n",
       "      <th>1</th>\n",
       "      <td>✅ Trip Verified |  Absolutely terrible, lost m...</td>\n",
       "    </tr>\n",
       "    <tr>\n",
       "      <th>2</th>\n",
       "      <td>✅ Trip Verified |  We booked premium economy r...</td>\n",
       "    </tr>\n",
       "    <tr>\n",
       "      <th>3</th>\n",
       "      <td>✅ Trip Verified |  We chose Rotterdam and Lond...</td>\n",
       "    </tr>\n",
       "    <tr>\n",
       "      <th>4</th>\n",
       "      <td>✅ Trip Verified | The entire booking and ticke...</td>\n",
       "    </tr>\n",
       "  </tbody>\n",
       "</table>\n",
       "</div>"
      ],
      "text/plain": [
       "                                             reviews\n",
       "0  ✅ Trip Verified |  Very inconsiderate PA annou...\n",
       "1  ✅ Trip Verified |  Absolutely terrible, lost m...\n",
       "2  ✅ Trip Verified |  We booked premium economy r...\n",
       "3  ✅ Trip Verified |  We chose Rotterdam and Lond...\n",
       "4  ✅ Trip Verified | The entire booking and ticke..."
      ]
     },
     "execution_count": 10,
     "metadata": {},
     "output_type": "execute_result"
    }
   ],
   "source": [
    "df=pd.DataFrame()\n",
    "df[\"reviews\"]=review\n",
    "df.head()"
   ]
  },
  {
   "cell_type": "code",
   "execution_count": 12,
   "metadata": {},
   "outputs": [
    {
     "data": {
      "text/plain": [
       "(1000, 1)"
      ]
     },
     "execution_count": 12,
     "metadata": {},
     "output_type": "execute_result"
    }
   ],
   "source": [
    "df.shape"
   ]
  },
  {
   "cell_type": "code",
   "execution_count": null,
   "metadata": {},
   "outputs": [],
   "source": []
  }
 ],
 "metadata": {
  "kernelspec": {
   "display_name": "base",
   "language": "python",
   "name": "python3"
  },
  "language_info": {
   "codemirror_mode": {
    "name": "ipython",
    "version": 3
   },
   "file_extension": ".py",
   "mimetype": "text/x-python",
   "name": "python",
   "nbconvert_exporter": "python",
   "pygments_lexer": "ipython3",
   "version": "3.11.7"
  }
 },
 "nbformat": 4,
 "nbformat_minor": 2
}

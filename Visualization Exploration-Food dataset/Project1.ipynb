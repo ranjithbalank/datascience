{
 "cells": [
  {
   "cell_type": "markdown",
   "metadata": {},
   "source": [
    "# **Visualization Exploration - Foods**"
   ]
  },
  {
   "cell_type": "markdown",
   "metadata": {},
   "source": [
    "## **Libraries**"
   ]
  },
  {
   "cell_type": "markdown",
   "metadata": {},
   "source": [
    "### **Import packages**"
   ]
  },
  {
   "cell_type": "code",
   "execution_count": 1,
   "metadata": {},
   "outputs": [],
   "source": [
    "import numpy as np\n",
    "import pandas as pd\n",
    "import matplotlib.pyplot as plt\n",
    "import seaborn as sns\n",
    "import plotly.express as px"
   ]
  },
  {
   "cell_type": "markdown",
   "metadata": {},
   "source": [
    "## **Dataset**"
   ]
  },
  {
   "cell_type": "code",
   "execution_count": 2,
   "metadata": {},
   "outputs": [],
   "source": [
    "data=pd.read_csv(\"onlinefoods.csv\")"
   ]
  },
  {
   "cell_type": "markdown",
   "metadata": {},
   "source": [
    "## **Data-Cleaning**"
   ]
  },
  {
   "cell_type": "code",
   "execution_count": 3,
   "metadata": {},
   "outputs": [
    {
     "name": "stdout",
     "output_type": "stream",
     "text": [
      "<class 'pandas.core.frame.DataFrame'>\n",
      "RangeIndex: 388 entries, 0 to 387\n",
      "Data columns (total 13 columns):\n",
      " #   Column                      Non-Null Count  Dtype  \n",
      "---  ------                      --------------  -----  \n",
      " 0   Age                         388 non-null    int64  \n",
      " 1   Gender                      388 non-null    object \n",
      " 2   Marital Status              388 non-null    object \n",
      " 3   Occupation                  388 non-null    object \n",
      " 4   Monthly Income              388 non-null    object \n",
      " 5   Educational Qualifications  388 non-null    object \n",
      " 6   Family size                 388 non-null    int64  \n",
      " 7   latitude                    388 non-null    float64\n",
      " 8   longitude                   388 non-null    float64\n",
      " 9   Pin code                    388 non-null    int64  \n",
      " 10  Output                      388 non-null    object \n",
      " 11  Feedback                    388 non-null    object \n",
      " 12  Unnamed: 12                 388 non-null    object \n",
      "dtypes: float64(2), int64(3), object(8)\n",
      "memory usage: 39.5+ KB\n"
     ]
    }
   ],
   "source": [
    "data.info()"
   ]
  },
  {
   "cell_type": "markdown",
   "metadata": {},
   "source": [
    "### **Looking at the Data**"
   ]
  },
  {
   "cell_type": "code",
   "execution_count": 4,
   "metadata": {},
   "outputs": [
    {
     "data": {
      "text/html": [
       "<div>\n",
       "<style scoped>\n",
       "    .dataframe tbody tr th:only-of-type {\n",
       "        vertical-align: middle;\n",
       "    }\n",
       "\n",
       "    .dataframe tbody tr th {\n",
       "        vertical-align: top;\n",
       "    }\n",
       "\n",
       "    .dataframe thead th {\n",
       "        text-align: right;\n",
       "    }\n",
       "</style>\n",
       "<table border=\"1\" class=\"dataframe\">\n",
       "  <thead>\n",
       "    <tr style=\"text-align: right;\">\n",
       "      <th></th>\n",
       "      <th>Age</th>\n",
       "      <th>Gender</th>\n",
       "      <th>Marital Status</th>\n",
       "      <th>Occupation</th>\n",
       "      <th>Monthly Income</th>\n",
       "      <th>Educational Qualifications</th>\n",
       "      <th>Family size</th>\n",
       "      <th>latitude</th>\n",
       "      <th>longitude</th>\n",
       "      <th>Pin code</th>\n",
       "      <th>Output</th>\n",
       "      <th>Feedback</th>\n",
       "      <th>Unnamed: 12</th>\n",
       "    </tr>\n",
       "  </thead>\n",
       "  <tbody>\n",
       "    <tr>\n",
       "      <th>0</th>\n",
       "      <td>20</td>\n",
       "      <td>Female</td>\n",
       "      <td>Single</td>\n",
       "      <td>Student</td>\n",
       "      <td>No Income</td>\n",
       "      <td>Post Graduate</td>\n",
       "      <td>4</td>\n",
       "      <td>12.9766</td>\n",
       "      <td>77.5993</td>\n",
       "      <td>560001</td>\n",
       "      <td>Yes</td>\n",
       "      <td>Positive</td>\n",
       "      <td>Yes</td>\n",
       "    </tr>\n",
       "    <tr>\n",
       "      <th>1</th>\n",
       "      <td>24</td>\n",
       "      <td>Female</td>\n",
       "      <td>Single</td>\n",
       "      <td>Student</td>\n",
       "      <td>Below Rs.10000</td>\n",
       "      <td>Graduate</td>\n",
       "      <td>3</td>\n",
       "      <td>12.9770</td>\n",
       "      <td>77.5773</td>\n",
       "      <td>560009</td>\n",
       "      <td>Yes</td>\n",
       "      <td>Positive</td>\n",
       "      <td>Yes</td>\n",
       "    </tr>\n",
       "    <tr>\n",
       "      <th>2</th>\n",
       "      <td>22</td>\n",
       "      <td>Male</td>\n",
       "      <td>Single</td>\n",
       "      <td>Student</td>\n",
       "      <td>Below Rs.10000</td>\n",
       "      <td>Post Graduate</td>\n",
       "      <td>3</td>\n",
       "      <td>12.9551</td>\n",
       "      <td>77.6593</td>\n",
       "      <td>560017</td>\n",
       "      <td>Yes</td>\n",
       "      <td>Negative</td>\n",
       "      <td>Yes</td>\n",
       "    </tr>\n",
       "    <tr>\n",
       "      <th>3</th>\n",
       "      <td>22</td>\n",
       "      <td>Female</td>\n",
       "      <td>Single</td>\n",
       "      <td>Student</td>\n",
       "      <td>No Income</td>\n",
       "      <td>Graduate</td>\n",
       "      <td>6</td>\n",
       "      <td>12.9473</td>\n",
       "      <td>77.5616</td>\n",
       "      <td>560019</td>\n",
       "      <td>Yes</td>\n",
       "      <td>Positive</td>\n",
       "      <td>Yes</td>\n",
       "    </tr>\n",
       "    <tr>\n",
       "      <th>4</th>\n",
       "      <td>22</td>\n",
       "      <td>Male</td>\n",
       "      <td>Single</td>\n",
       "      <td>Student</td>\n",
       "      <td>Below Rs.10000</td>\n",
       "      <td>Post Graduate</td>\n",
       "      <td>4</td>\n",
       "      <td>12.9850</td>\n",
       "      <td>77.5533</td>\n",
       "      <td>560010</td>\n",
       "      <td>Yes</td>\n",
       "      <td>Positive</td>\n",
       "      <td>Yes</td>\n",
       "    </tr>\n",
       "  </tbody>\n",
       "</table>\n",
       "</div>"
      ],
      "text/plain": [
       "   Age  Gender Marital Status Occupation  Monthly Income  \\\n",
       "0   20  Female         Single    Student       No Income   \n",
       "1   24  Female         Single    Student  Below Rs.10000   \n",
       "2   22    Male         Single    Student  Below Rs.10000   \n",
       "3   22  Female         Single    Student       No Income   \n",
       "4   22    Male         Single    Student  Below Rs.10000   \n",
       "\n",
       "  Educational Qualifications  Family size  latitude  longitude  Pin code  \\\n",
       "0              Post Graduate            4   12.9766    77.5993    560001   \n",
       "1                   Graduate            3   12.9770    77.5773    560009   \n",
       "2              Post Graduate            3   12.9551    77.6593    560017   \n",
       "3                   Graduate            6   12.9473    77.5616    560019   \n",
       "4              Post Graduate            4   12.9850    77.5533    560010   \n",
       "\n",
       "  Output   Feedback Unnamed: 12  \n",
       "0    Yes   Positive         Yes  \n",
       "1    Yes   Positive         Yes  \n",
       "2    Yes  Negative          Yes  \n",
       "3    Yes   Positive         Yes  \n",
       "4    Yes   Positive         Yes  "
      ]
     },
     "execution_count": 4,
     "metadata": {},
     "output_type": "execute_result"
    }
   ],
   "source": [
    "data.head()"
   ]
  },
  {
   "cell_type": "markdown",
   "metadata": {},
   "source": [
    "## **Data Summary**"
   ]
  },
  {
   "cell_type": "code",
   "execution_count": 5,
   "metadata": {},
   "outputs": [
    {
     "data": {
      "text/html": [
       "<div>\n",
       "<style scoped>\n",
       "    .dataframe tbody tr th:only-of-type {\n",
       "        vertical-align: middle;\n",
       "    }\n",
       "\n",
       "    .dataframe tbody tr th {\n",
       "        vertical-align: top;\n",
       "    }\n",
       "\n",
       "    .dataframe thead th {\n",
       "        text-align: right;\n",
       "    }\n",
       "</style>\n",
       "<table border=\"1\" class=\"dataframe\">\n",
       "  <thead>\n",
       "    <tr style=\"text-align: right;\">\n",
       "      <th></th>\n",
       "      <th>Age</th>\n",
       "      <th>Family size</th>\n",
       "      <th>latitude</th>\n",
       "      <th>longitude</th>\n",
       "      <th>Pin code</th>\n",
       "    </tr>\n",
       "  </thead>\n",
       "  <tbody>\n",
       "    <tr>\n",
       "      <th>count</th>\n",
       "      <td>388.000000</td>\n",
       "      <td>388.000000</td>\n",
       "      <td>388.000000</td>\n",
       "      <td>388.000000</td>\n",
       "      <td>388.000000</td>\n",
       "    </tr>\n",
       "    <tr>\n",
       "      <th>mean</th>\n",
       "      <td>24.628866</td>\n",
       "      <td>3.280928</td>\n",
       "      <td>12.972058</td>\n",
       "      <td>77.600160</td>\n",
       "      <td>560040.113402</td>\n",
       "    </tr>\n",
       "    <tr>\n",
       "      <th>std</th>\n",
       "      <td>2.975593</td>\n",
       "      <td>1.351025</td>\n",
       "      <td>0.044489</td>\n",
       "      <td>0.051354</td>\n",
       "      <td>31.399609</td>\n",
       "    </tr>\n",
       "    <tr>\n",
       "      <th>min</th>\n",
       "      <td>18.000000</td>\n",
       "      <td>1.000000</td>\n",
       "      <td>12.865200</td>\n",
       "      <td>77.484200</td>\n",
       "      <td>560001.000000</td>\n",
       "    </tr>\n",
       "    <tr>\n",
       "      <th>25%</th>\n",
       "      <td>23.000000</td>\n",
       "      <td>2.000000</td>\n",
       "      <td>12.936900</td>\n",
       "      <td>77.565275</td>\n",
       "      <td>560010.750000</td>\n",
       "    </tr>\n",
       "    <tr>\n",
       "      <th>50%</th>\n",
       "      <td>24.000000</td>\n",
       "      <td>3.000000</td>\n",
       "      <td>12.977000</td>\n",
       "      <td>77.592100</td>\n",
       "      <td>560033.500000</td>\n",
       "    </tr>\n",
       "    <tr>\n",
       "      <th>75%</th>\n",
       "      <td>26.000000</td>\n",
       "      <td>4.000000</td>\n",
       "      <td>12.997025</td>\n",
       "      <td>77.630900</td>\n",
       "      <td>560068.000000</td>\n",
       "    </tr>\n",
       "    <tr>\n",
       "      <th>max</th>\n",
       "      <td>33.000000</td>\n",
       "      <td>6.000000</td>\n",
       "      <td>13.102000</td>\n",
       "      <td>77.758200</td>\n",
       "      <td>560109.000000</td>\n",
       "    </tr>\n",
       "  </tbody>\n",
       "</table>\n",
       "</div>"
      ],
      "text/plain": [
       "              Age  Family size    latitude   longitude       Pin code\n",
       "count  388.000000   388.000000  388.000000  388.000000     388.000000\n",
       "mean    24.628866     3.280928   12.972058   77.600160  560040.113402\n",
       "std      2.975593     1.351025    0.044489    0.051354      31.399609\n",
       "min     18.000000     1.000000   12.865200   77.484200  560001.000000\n",
       "25%     23.000000     2.000000   12.936900   77.565275  560010.750000\n",
       "50%     24.000000     3.000000   12.977000   77.592100  560033.500000\n",
       "75%     26.000000     4.000000   12.997025   77.630900  560068.000000\n",
       "max     33.000000     6.000000   13.102000   77.758200  560109.000000"
      ]
     },
     "execution_count": 5,
     "metadata": {},
     "output_type": "execute_result"
    }
   ],
   "source": [
    "data.describe()"
   ]
  },
  {
   "cell_type": "markdown",
   "metadata": {},
   "source": [
    "### **Check for the Null Values**"
   ]
  },
  {
   "cell_type": "code",
   "execution_count": 6,
   "metadata": {},
   "outputs": [
    {
     "name": "stdout",
     "output_type": "stream",
     "text": [
      "Age                           0\n",
      "Gender                        0\n",
      "Marital Status                0\n",
      "Occupation                    0\n",
      "Monthly Income                0\n",
      "Educational Qualifications    0\n",
      "Family size                   0\n",
      "latitude                      0\n",
      "longitude                     0\n",
      "Pin code                      0\n",
      "Output                        0\n",
      "Feedback                      0\n",
      "Unnamed: 12                   0\n",
      "dtype: int64\n"
     ]
    }
   ],
   "source": [
    "print(data.isnull().sum())"
   ]
  },
  {
   "cell_type": "markdown",
   "metadata": {},
   "source": [
    "## **Analyze**    "
   ]
  },
  {
   "cell_type": "markdown",
   "metadata": {},
   "source": [
    "### **Age Distribution**"
   ]
  },
  {
   "cell_type": "code",
   "execution_count": 7,
   "metadata": {},
   "outputs": [
    {
     "name": "stderr",
     "output_type": "stream",
     "text": [
      "c:\\Users\\Ranjithbalan\\anaconda3\\Lib\\site-packages\\seaborn\\_oldcore.py:1119: FutureWarning: use_inf_as_na option is deprecated and will be removed in a future version. Convert inf values to NaN before operating instead.\n",
      "  with pd.option_context('mode.use_inf_as_na', True):\n"
     ]
    },
    {
     "data": {
      "image/png": "[encoded data removed]",
      "text/plain": [
       "<Figure size 640x480 with 1 Axes>"
      ]
     },
     "metadata": {},
     "output_type": "display_data"
    }
   ],
   "source": [
    "sns.histplot(data[\"Age\"], bins=5,kde=True)\n",
    "plt.xlabel(\"Age of the Order Persons\")\n",
    "plt.ylabel('Frequency')\n",
    "plt.title(\"Age\")\n",
    "plt.show()"
   ]
  },
  {
   "cell_type": "markdown",
   "metadata": {},
   "source": [
    "### **Gender Distribution**"
   ]
  },
  {
   "cell_type": "code",
   "execution_count": 8,
   "metadata": {},
   "outputs": [
    {
     "data": {
      "image/png": "[encoded data removed]",
      "text/plain": [
       "<Figure size 640x480 with 1 Axes>"
      ]
     },
     "metadata": {},
     "output_type": "display_data"
    }
   ],
   "source": [
    "\n",
    "sns.countplot(data,x=\"Gender\",palette=\"pastel\")\n",
    "plt.title('Gender Distribution')\n",
    "plt.xlabel('Gender')\n",
    "plt.ylabel('Count')\n",
    "plt.show()"
   ]
  },
  {
   "cell_type": "markdown",
   "metadata": {},
   "source": [
    "### **Marital Status Distribution** "
   ]
  },
  {
   "cell_type": "code",
   "execution_count": 9,
   "metadata": {},
   "outputs": [
    {
     "data": {
      "image/png": "[encoded data removed]",
      "text/plain": [
       "<Figure size 640x480 with 1 Axes>"
      ]
     },
     "metadata": {},
     "output_type": "display_data"
    }
   ],
   "source": [
    "sns.countplot(data,x=\"Marital Status\", palette=\"pastel\")\n",
    "plt.title('Marital Status Distribution')\n",
    "# plt.xlabel('Marital Status')\n",
    "# plt.ylabel('Count')\n",
    "plt.show()"
   ]
  },
  {
   "cell_type": "markdown",
   "metadata": {},
   "source": [
    "### **Occupational Distribution** "
   ]
  },
  {
   "cell_type": "code",
   "execution_count": 10,
   "metadata": {},
   "outputs": [
    {
     "data": {
      "image/png": "[encoded data removed]",
      "text/plain": [
       "<Figure size 640x480 with 1 Axes>"
      ]
     },
     "metadata": {},
     "output_type": "display_data"
    }
   ],
   "source": [
    "sns.countplot(data,x=\"Occupation\",palette=\"pastel\")\n",
    "plt.title('Occupational Distribution')\n",
    "plt.show()"
   ]
  },
  {
   "cell_type": "markdown",
   "metadata": {},
   "source": [
    "### **Educational Qualification**"
   ]
  },
  {
   "cell_type": "code",
   "execution_count": 11,
   "metadata": {},
   "outputs": [
    {
     "data": {
      "image/png": "[encoded data removed]",
      "text/plain": [
       "<Figure size 640x480 with 1 Axes>"
      ]
     },
     "metadata": {},
     "output_type": "display_data"
    }
   ],
   "source": [
    "sns.countplot(data,x=\"Educational Qualifications\",palette=\"pastel\")\n",
    "plt.title(\"Educational Distribution\")\n",
    "plt.show()"
   ]
  },
  {
   "cell_type": "markdown",
   "metadata": {},
   "source": [
    "### **Family Distribution**"
   ]
  },
  {
   "cell_type": "code",
   "execution_count": 12,
   "metadata": {},
   "outputs": [
    {
     "name": "stderr",
     "output_type": "stream",
     "text": [
      "c:\\Users\\Ranjithbalan\\anaconda3\\Lib\\site-packages\\seaborn\\_oldcore.py:1119: FutureWarning: use_inf_as_na option is deprecated and will be removed in a future version. Convert inf values to NaN before operating instead.\n",
      "  with pd.option_context('mode.use_inf_as_na', True):\n"
     ]
    },
    {
     "data": {
      "image/png": "[encoded data removed]",
      "text/plain": [
       "<Figure size 640x480 with 1 Axes>"
      ]
     },
     "metadata": {},
     "output_type": "display_data"
    }
   ],
   "source": [
    "sns.histplot(data[\"Family size\"],bins=5,kde=True)\n",
    "plt.title(\"Family Distribution\")\n",
    "plt.show()"
   ]
  },
  {
   "cell_type": "markdown",
   "metadata": {},
   "source": [
    "### **Location of Customers**"
   ]
  },
  {
   "cell_type": "code",
   "execution_count": 13,
   "metadata": {},
   "outputs": [
    {
     "data": {
      "image/png": "[encoded data removed]",
      "text/plain": [
       "<Figure size 640x480 with 1 Axes>"
      ]
     },
     "metadata": {},
     "output_type": "display_data"
    }
   ],
   "source": [
    "plt.scatter(data[\"longitude\"],data[\"latitude\"])\n",
    "plt.title(\"Location of Customer\")\n",
    "plt.xlabel('Longitude')\n",
    "plt.ylabel('Latitude')\n",
    "plt.show()"
   ]
  },
  {
   "cell_type": "markdown",
   "metadata": {},
   "source": [
    "### **Pincode Distribution**"
   ]
  },
  {
   "cell_type": "code",
   "execution_count": 30,
   "metadata": {},
   "outputs": [
    {
     "data": {
      "image/png": "[encoded data removed]",
      "text/plain": [
       "<Figure size 640x480 with 1 Axes>"
      ]
     },
     "metadata": {},
     "output_type": "display_data"
    }
   ],
   "source": [
    "sns.countplot(data, y='Pin code', palette='Dark2', order=data['Pin code'].value_counts().index[:10])\n",
    "plt.title(\"Pincode Distribution\")\n",
    "plt.show()"
   ]
  },
  {
   "cell_type": "markdown",
   "metadata": {},
   "source": [
    "### **Order Distribution**"
   ]
  },
  {
   "cell_type": "code",
   "execution_count": 15,
   "metadata": {},
   "outputs": [
    {
     "data": {
      "image/png": "[encoded data removed]",
      "text/plain": [
       "<Figure size 640x480 with 1 Axes>"
      ]
     },
     "metadata": {},
     "output_type": "display_data"
    }
   ],
   "source": [
    "sns.countplot(data,x=\"Output\")\n",
    "plt.title(\"Order Distribution\")\n",
    "plt.show()"
   ]
  },
  {
   "cell_type": "markdown",
   "metadata": {},
   "source": [
    "### **Feedback Distribution**"
   ]
  },
  {
   "cell_type": "code",
   "execution_count": 16,
   "metadata": {},
   "outputs": [
    {
     "data": {
      "image/png": "[encoded data removed]",
      "text/plain": [
       "<Figure size 640x480 with 1 Axes>"
      ]
     },
     "metadata": {},
     "output_type": "display_data"
    }
   ],
   "source": [
    "sns.countplot(data,x=\"Feedback\")\n",
    "plt.title(\"Feedback-Distribution\")\n",
    "plt.show()"
   ]
  },
  {
   "cell_type": "markdown",
   "metadata": {},
   "source": [
    "### **Income Analysis**"
   ]
  },
  {
   "cell_type": "code",
   "execution_count": 17,
   "metadata": {},
   "outputs": [
    {
     "data": {
      "image/png": "[encoded data removed]",
      "text/plain": [
       "<Figure size 1000x600 with 1 Axes>"
      ]
     },
     "metadata": {},
     "output_type": "display_data"
    }
   ],
   "source": [
    "plt.figure(figsize=(10,6))\n",
    "colors = {'Male': 'blue', 'Female': 'red'}\n",
    "plt.scatter(data['Monthly Income'], data['Family size'], c=data['Gender'].map(colors), alpha=0.5)\n",
    "plt.title('Monthly Income vs. Family Size (Colored by Gender)')\n",
    "plt.xlabel('Monthly Income')\n",
    "plt.ylabel('Family Size')\n",
    "plt.legend(colors,loc=(1.1,0.7))\n",
    "plt.tight_layout()\n",
    "plt.show()"
   ]
  },
  {
   "cell_type": "markdown",
   "metadata": {},
   "source": [
    "### **Order Status by Gender** "
   ]
  },
  {
   "cell_type": "code",
   "execution_count": 18,
   "metadata": {},
   "outputs": [
    {
     "data": {
      "image/png": "[encoded data removed]",
      "text/plain": [
       "<Figure size 640x480 with 1 Axes>"
      ]
     },
     "metadata": {},
     "output_type": "display_data"
    }
   ],
   "source": [
    "sns.countplot(data, x='Output', hue='Gender')\n",
    "plt.title('Order Status Distribution by Gender')\n",
    "plt.xlabel('Order Status')\n",
    "plt.ylabel('Count')\n",
    "plt.legend(title='Gender')\n",
    "plt.show()"
   ]
  },
  {
   "cell_type": "markdown",
   "metadata": {},
   "source": [
    "### **Feedback Distribution by Age Group**\n"
   ]
  },
  {
   "cell_type": "code",
   "execution_count": 19,
   "metadata": {},
   "outputs": [
    {
     "data": {
      "image/png": "[encoded data removed]",
      "text/plain": [
       "<Figure size 640x480 with 1 Axes>"
      ]
     },
     "metadata": {},
     "output_type": "display_data"
    }
   ],
   "source": [
    "sns.boxplot(data, x='Feedback', y='Age', palette='Dark2')\n",
    "plt.title('Feedback Distribution by Age Group')\n",
    "plt.xlabel('Feedback')\n",
    "plt.ylabel('Age')\n",
    "plt.show()"
   ]
  },
  {
   "cell_type": "markdown",
   "metadata": {},
   "source": [
    "### **Family Size Distribution by Marital Status**"
   ]
  },
  {
   "cell_type": "code",
   "execution_count": 20,
   "metadata": {},
   "outputs": [
    {
     "data": {
      "image/png": "[encoded data removed]",
      "text/plain": [
       "<Figure size 640x480 with 1 Axes>"
      ]
     },
     "metadata": {},
     "output_type": "display_data"
    }
   ],
   "source": [
    "sns.boxplot(data, x='Family size', y='Marital Status', palette='pastel')\n",
    "plt.title('Family Size Distribution by Marital Status')\n",
    "plt.xlabel('Family Size')\n",
    "plt.ylabel('Marital Status')\n",
    "plt.show()"
   ]
  },
  {
   "cell_type": "markdown",
   "metadata": {},
   "source": [
    "### **Order Status Distribution by Educational Qualifications**"
   ]
  },
  {
   "cell_type": "code",
   "execution_count": 21,
   "metadata": {},
   "outputs": [
    {
     "data": {
      "image/png": "[encoded data removed]",
      "text/plain": [
       "<Figure size 640x480 with 1 Axes>"
      ]
     },
     "metadata": {},
     "output_type": "display_data"
    }
   ],
   "source": [
    "sns.countplot(data, x='Output', hue='Educational Qualifications')\n",
    "plt.title('Order Status Distribution by Educational Qualifications')\n",
    "plt.xlabel('Order Status')\n",
    "plt.ylabel('Count')\n",
    "plt.legend(title='Educational Qualifications')\n",
    "plt.show()\n"
   ]
  },
  {
   "cell_type": "markdown",
   "metadata": {},
   "source": [
    "### **Family Size Distribution by Gender**"
   ]
  },
  {
   "cell_type": "code",
   "execution_count": 22,
   "metadata": {},
   "outputs": [
    {
     "data": {
      "image/png": "[encoded data removed]",
      "text/plain": [
       "<Figure size 640x480 with 1 Axes>"
      ]
     },
     "metadata": {},
     "output_type": "display_data"
    }
   ],
   "source": [
    "sns.boxplot(data, x='Family size', y='Gender')\n",
    "plt.title('Family Size Distribution by Gender')\n",
    "plt.xlabel('Family Size')\n",
    "plt.ylabel('Gender')\n",
    "plt.show()"
   ]
  },
  {
   "cell_type": "markdown",
   "metadata": {},
   "source": [
    "### **Create  scatter plot**\n"
   ]
  },
  {
   "cell_type": "code",
   "execution_count": 23,
   "metadata": {},
   "outputs": [
    {
     "data": {
      "application/vnd.plotly.v1+json": {
       "config": {
        "plotlyServerURL": "https://plot.ly"
       },
       "data": [
        {
         "customdata": [
          [
           "Student",
           "Single",
           "Post Graduate"
          ],
          [
           "Student",
           "Single",
           "Graduate"
          ],
          [
           "Student",
           "Single",
           "Graduate"
          ],
          [
           "Employee",
           "Married",
           "Post Graduate"
          ],
          [
           "Student",
           "Single",
           "Post Graduate"
          ],
          [
           "Student",
           "Single",
           "Post Graduate"
          ],
          [
           "Student",
           "Single",
           "Post Graduate"
          ],
          [
           "Student",
           "Single",
           "Post Graduate"
          ],
          [
           "Self Employeed",
           "Single",
           "Post Graduate"
          ],
          [
           "Student",
           "Single",
           "Post Graduate"
          ],
          [
           "Employee",
           "Single",
           "Post Graduate"
          ],
          [
           "Student",
           "Single",
           "Graduate"
          ],
          [
           "Student",
           "Single",
           "Post Graduate"
          ],
          [
           "Student",
           "Single",
           "Graduate"
          ],
          [
           "Student",
           "Single",
           "Post Graduate"
          ],
          [
           "Employee",
           "Single",
           "Graduate"
          ],
          [
           "Employee",
           "Single",
           "Graduate"
          ],
          [
           "Student",
           "Single",
           "Post Graduate"
          ],
          [
           "Student",
           "Single",
           "Post Graduate"
          ],
          [
           "House wife",
           "Prefer not to say",
           "Graduate"
          ],
          [
           "Student",
           "Single",
           "Post Graduate"
          ],
          [
           "Student",
           "Single",
           "Post Graduate"
          ],
          [
           "Student",
           "Single",
           "Post Graduate"
          ],
          [
           "Self Employeed",
           "Married",
           "Post Graduate"
          ],
          [
           "Student",
           "Single",
           "Post Graduate"
          ],
          [
           "Student",
           "Single",
           "Graduate"
          ],
          [
           "Student",
           "Single",
           "Post Graduate"
          ],
          [
           "Student",
           "Single",
           "Graduate"
          ],
          [
           "Student",
           "Single",
           "Post Graduate"
          ],
          [
           "Student",
           "Married",
           "Graduate"
          ],
          [
           "Student",
           "Single",
           "Post Graduate"
          ],
          [
           "Student",
           "Single",
           "Graduate"
          ],
          [
           "Student",
           "Single",
           "Post Graduate"
          ],
          [
           "Student",
           "Single",
           "Post Graduate"
          ],
          [
           "Student",
           "Single",
           "Post Graduate"
          ],
          [
           "Employee",
           "Married",
           "Ph.D"
          ],
          [
           "Student",
           "Single",
           "Post Graduate"
          ],
          [
           "Student",
           "Single",
           "Post Graduate"
          ],
          [
           "Student",
           "Single",
           "Post Graduate"
          ],
          [
           "Student",
           "Single",
           "Post Graduate"
          ],
          [
           "Student",
           "Single",
           "Post Graduate"
          ],
          [
           "Student",
           "Single",
           "Post Graduate"
          ],
          [
           "Employee",
           "Prefer not to say",
           "Post Graduate"
          ],
          [
           "Student",
           "Single",
           "Post Graduate"
          ],
          [
           "Student",
           "Single",
           "Graduate"
          ],
          [
           "Student",
           "Single",
           "Graduate"
          ],
          [
           "House wife",
           "Married",
           "Uneducated"
          ],
          [
           "Student",
           "Single",
           "Post Graduate"
          ],
          [
           "Employee",
           "Single",
           "Graduate"
          ],
          [
           "Student",
           "Single",
           "Ph.D"
          ],
          [
           "Student",
           "Single",
           "Graduate"
          ],
          [
           "Employee",
           "Married",
           "Graduate"
          ],
          [
           "House wife",
           "Married",
           "School"
          ],
          [
           "Employee",
           "Married",
           "Graduate"
          ],
          [
           "Self Employeed",
           "Married",
           "Graduate"
          ],
          [
           "Self Employeed",
           "Single",
           "Post Graduate"
          ],
          [
           "Self Employeed",
           "Married",
           "Graduate"
          ],
          [
           "Student",
           "Single",
           "Post Graduate"
          ],
          [
           "Employee",
           "Married",
           "Graduate"
          ],
          [
           "Student",
           "Single",
           "Graduate"
          ],
          [
           "Employee",
           "Married",
           "Post Graduate"
          ],
          [
           "Employee",
           "Single",
           "Graduate"
          ],
          [
           "Student",
           "Single",
           "Post Graduate"
          ],
          [
           "Student",
           "Single",
           "Graduate"
          ],
          [
           "House wife",
           "Married",
           "School"
          ],
          [
           "Student",
           "Single",
           "Post Graduate"
          ],
          [
           "Student",
           "Single",
           "Post Graduate"
          ],
          [
           "Self Employeed",
           "Married",
           "Graduate"
          ],
          [
           "Student",
           "Single",
           "Post Graduate"
          ],
          [
           "House wife",
           "Married",
           "Graduate"
          ],
          [
           "Student",
           "Single",
           "Graduate"
          ],
          [
           "Employee",
           "Married",
           "Graduate"
          ],
          [
           "Student",
           "Single",
           "Ph.D"
          ],
          [
           "Student",
           "Single",
           "Post Graduate"
          ],
          [
           "Student",
           "Married",
           "Ph.D"
          ],
          [
           "Student",
           "Single",
           "Post Graduate"
          ],
          [
           "Employee",
           "Single",
           "Graduate"
          ],
          [
           "Self Employeed",
           "Married",
           "Post Graduate"
          ],
          [
           "Employee",
           "Married",
           "Graduate"
          ],
          [
           "Employee",
           "Single",
           "Graduate"
          ],
          [
           "House wife",
           "Married",
           "School"
          ],
          [
           "Employee",
           "Married",
           "Post Graduate"
          ],
          [
           "Employee",
           "Married",
           "Ph.D"
          ],
          [
           "Self Employeed",
           "Married",
           "Graduate"
          ],
          [
           "Student",
           "Single",
           "Graduate"
          ],
          [
           "House wife",
           "Married",
           "School"
          ],
          [
           "Student",
           "Single",
           "Graduate"
          ],
          [
           "Employee",
           "Single",
           "Graduate"
          ],
          [
           "Student",
           "Single",
           "Ph.D"
          ],
          [
           "Student",
           "Single",
           "Graduate"
          ],
          [
           "Employee",
           "Married",
           "Graduate"
          ],
          [
           "Employee",
           "Single",
           "Post Graduate"
          ],
          [
           "House wife",
           "Married",
           "Graduate"
          ],
          [
           "Self Employeed",
           "Married",
           "Graduate"
          ],
          [
           "Student",
           "Single",
           "Post Graduate"
          ],
          [
           "Student",
           "Single",
           "Graduate"
          ],
          [
           "Student",
           "Married",
           "Post Graduate"
          ],
          [
           "Student",
           "Single",
           "Post Graduate"
          ],
          [
           "Self Employeed",
           "Married",
           "Graduate"
          ],
          [
           "Self Employeed",
           "Single",
           "Post Graduate"
          ],
          [
           "Student",
           "Single",
           "Post Graduate"
          ],
          [
           "Student",
           "Single",
           "Graduate"
          ],
          [
           "Student",
           "Single",
           "Post Graduate"
          ],
          [
           "Employee",
           "Married",
           "Graduate"
          ],
          [
           "Employee",
           "Single",
           "Post Graduate"
          ],
          [
           "Employee",
           "Married",
           "Ph.D"
          ],
          [
           "House wife",
           "Married",
           "School"
          ],
          [
           "Employee",
           "Married",
           "Post Graduate"
          ],
          [
           "Employee",
           "Married",
           "Post Graduate"
          ],
          [
           "Employee",
           "Prefer not to say",
           "Graduate"
          ],
          [
           "Employee",
           "Single",
           "Graduate"
          ],
          [
           "Employee",
           "Single",
           "Post Graduate"
          ],
          [
           "Employee",
           "Single",
           "Post Graduate"
          ],
          [
           "Employee",
           "Single",
           "Graduate"
          ],
          [
           "Employee",
           "Married",
           "Post Graduate"
          ],
          [
           "Student",
           "Single",
           "Post Graduate"
          ],
          [
           "Student",
           "Single",
           "Graduate"
          ],
          [
           "Employee",
           "Prefer not to say",
           "Graduate"
          ],
          [
           "Student",
           "Single",
           "Graduate"
          ],
          [
           "Employee",
           "Single",
           "Graduate"
          ],
          [
           "Employee",
           "Married",
           "Post Graduate"
          ],
          [
           "Student",
           "Single",
           "Ph.D"
          ],
          [
           "Student",
           "Single",
           "Graduate"
          ],
          [
           "Employee",
           "Married",
           "Graduate"
          ],
          [
           "Student",
           "Single",
           "Post Graduate"
          ],
          [
           "Student",
           "Single",
           "Graduate"
          ],
          [
           "Self Employeed",
           "Married",
           "Graduate"
          ],
          [
           "Employee",
           "Married",
           "Graduate"
          ],
          [
           "Student",
           "Single",
           "Post Graduate"
          ],
          [
           "Employee",
           "Married",
           "Graduate"
          ],
          [
           "Employee",
           "Prefer not to say",
           "Post Graduate"
          ],
          [
           "Student",
           "Married",
           "Ph.D"
          ],
          [
           "Employee",
           "Single",
           "Post Graduate"
          ],
          [
           "Student",
           "Single",
           "Graduate"
          ],
          [
           "Employee",
           "Married",
           "Post Graduate"
          ],
          [
           "Student",
           "Single",
           "Post Graduate"
          ],
          [
           "Student",
           "Single",
           "Post Graduate"
          ],
          [
           "Student",
           "Single",
           "Post Graduate"
          ],
          [
           "Student",
           "Single",
           "Post Graduate"
          ],
          [
           "Student",
           "Married",
           "Post Graduate"
          ],
          [
           "Student",
           "Single",
           "Post Graduate"
          ],
          [
           "Self Employeed",
           "Married",
           "Graduate"
          ],
          [
           "Self Employeed",
           "Single",
           "Post Graduate"
          ],
          [
           "Student",
           "Single",
           "Post Graduate"
          ],
          [
           "Student",
           "Single",
           "Graduate"
          ],
          [
           "Employee",
           "Single",
           "Graduate"
          ],
          [
           "Student",
           "Single",
           "Ph.D"
          ],
          [
           "Student",
           "Single",
           "Graduate"
          ],
          [
           "Employee",
           "Married",
           "Graduate"
          ],
          [
           "Employee",
           "Single",
           "Post Graduate"
          ],
          [
           "Employee",
           "Single",
           "Graduate"
          ],
          [
           "Student",
           "Single",
           "Ph.D"
          ],
          [
           "Student",
           "Single",
           "Graduate"
          ],
          [
           "Employee",
           "Married",
           "Graduate"
          ],
          [
           "Self Employeed",
           "Married",
           "Graduate"
          ],
          [
           "Self Employeed",
           "Single",
           "Post Graduate"
          ],
          [
           "Student",
           "Single",
           "Post Graduate"
          ],
          [
           "Student",
           "Single",
           "Graduate"
          ],
          [
           "Student",
           "Single",
           "Post Graduate"
          ],
          [
           "Employee",
           "Married",
           "Graduate"
          ],
          [
           "Employee",
           "Single",
           "Post Graduate"
          ],
          [
           "Employee",
           "Married",
           "Post Graduate"
          ],
          [
           "Student",
           "Single",
           "Post Graduate"
          ],
          [
           "Student",
           "Single",
           "Post Graduate"
          ],
          [
           "Student",
           "Single",
           "Post Graduate"
          ],
          [
           "Student",
           "Single",
           "Post Graduate"
          ]
         ],
         "hovertemplate": "Gender=Female<br>Monthly Income=%{x}<br>Age=%{y}<br>Family Size=%{marker.size}<br>Occupation=%{customdata[0]}<br>Marital Status=%{customdata[1]}<br>Educational Qualifications=%{customdata[2]}<extra></extra>",
         "legendgroup": "Female",
         "marker": {
          "color": "red",
          "size": [
           4,
           3,
           6,
           2,
           3,
           2,
           4,
           5,
           5,
           6,
           2,
           3,
           1,
           4,
           5,
           3,
           5,
           5,
           2,
           5,
           3,
           4,
           5,
           2,
           3,
           3,
           5,
           5,
           2,
           2,
           1,
           3,
           2,
           4,
           4,
           4,
           3,
           3,
           3,
           3,
           3,
           4,
           5,
           3,
           5,
           5,
           3,
           3,
           3,
           3,
           5,
           4,
           5,
           5,
           5,
           3,
           3,
           4,
           1,
           4,
           2,
           3,
           4,
           3,
           5,
           4,
           4,
           5,
           4,
           3,
           2,
           3,
           5,
           5,
           3,
           3,
           6,
           3,
           3,
           4,
           5,
           2,
           5,
           2,
           3,
           6,
           2,
           4,
           3,
           1,
           4,
           4,
           5,
           3,
           1,
           2,
           2,
           3,
           5,
           3,
           3,
           2,
           2,
           6,
           2,
           3,
           6,
           6,
           2,
           3,
           2,
           2,
           2,
           2,
           2,
           4,
           2,
           4,
           2,
           3,
           2,
           2,
           2,
           5,
           3,
           2,
           6,
           3,
           5,
           1,
           3,
           5,
           6,
           6,
           2,
           3,
           2,
           4,
           5,
           2,
           3,
           5,
           3,
           3,
           2,
           4,
           3,
           1,
           4,
           4,
           4,
           3,
           1,
           4,
           5,
           3,
           3,
           2,
           2,
           6,
           2,
           2,
           3,
           2,
           4,
           5
          ],
          "sizemode": "area",
          "sizeref": 0.015,
          "symbol": "circle"
         },
         "mode": "markers",
         "name": "Female",
         "orientation": "v",
         "showlegend": true,
         "type": "scatter",
         "x": [
          "No Income",
          "Below Rs.10000",
          "No Income",
          "More than 50000",
          "No Income",
          "No Income",
          "No Income",
          "No Income",
          "10001 to 25000",
          "No Income",
          "25001 to 50000",
          "No Income",
          "Below Rs.10000",
          "No Income",
          "No Income",
          "10001 to 25000",
          "10001 to 25000",
          "10001 to 25000",
          "No Income",
          "No Income",
          "No Income",
          "No Income",
          "No Income",
          "10001 to 25000",
          "No Income",
          "No Income",
          "10001 to 25000",
          "No Income",
          "No Income",
          "No Income",
          "No Income",
          "No Income",
          "No Income",
          "No Income",
          "No Income",
          "More than 50000",
          "10001 to 25000",
          "No Income",
          "25001 to 50000",
          "No Income",
          "No Income",
          "No Income",
          "25001 to 50000",
          "No Income",
          "No Income",
          "No Income",
          "No Income",
          "10001 to 25000",
          "10001 to 25000",
          "No Income",
          "No Income",
          "25001 to 50000",
          "No Income",
          "25001 to 50000",
          "More than 50000",
          "25001 to 50000",
          "25001 to 50000",
          "No Income",
          "More than 50000",
          "No Income",
          "25001 to 50000",
          "More than 50000",
          "Below Rs.10000",
          "No Income",
          "No Income",
          "No Income",
          "No Income",
          "10001 to 25000",
          "No Income",
          "No Income",
          "No Income",
          "25001 to 50000",
          "No Income",
          "No Income",
          "Below Rs.10000",
          "No Income",
          "10001 to 25000",
          "25001 to 50000",
          "More than 50000",
          "25001 to 50000",
          "No Income",
          "25001 to 50000",
          "More than 50000",
          "More than 50000",
          "No Income",
          "No Income",
          "No Income",
          "25001 to 50000",
          "No Income",
          "No Income",
          "25001 to 50000",
          "10001 to 25000",
          "No Income",
          "25001 to 50000",
          "No Income",
          "No Income",
          "No Income",
          "No Income",
          "10001 to 25000",
          "25001 to 50000",
          "No Income",
          "No Income",
          "No Income",
          "Below Rs.10000",
          "25001 to 50000",
          "25001 to 50000",
          "No Income",
          "25001 to 50000",
          "25001 to 50000",
          "10001 to 25000",
          "25001 to 50000",
          "25001 to 50000",
          "25001 to 50000",
          "Below Rs.10000",
          "10001 to 25000",
          "No Income",
          "No Income",
          "10001 to 25000",
          "No Income",
          "25001 to 50000",
          "10001 to 25000",
          "No Income",
          "10001 to 25000",
          "25001 to 50000",
          "No Income",
          "No Income",
          "More than 50000",
          "25001 to 50000",
          "No Income",
          "More than 50000",
          "25001 to 50000",
          "Below Rs.10000",
          "More than 50000",
          "No Income",
          "More than 50000",
          "No Income",
          "No Income",
          "No Income",
          "No Income",
          "No Income",
          "No Income",
          "10001 to 25000",
          "25001 to 50000",
          "No Income",
          "No Income",
          "25001 to 50000",
          "No Income",
          "No Income",
          "25001 to 50000",
          "10001 to 25000",
          "25001 to 50000",
          "No Income",
          "No Income",
          "25001 to 50000",
          "10001 to 25000",
          "25001 to 50000",
          "No Income",
          "No Income",
          "No Income",
          "Below Rs.10000",
          "25001 to 50000",
          "More than 50000",
          "No Income",
          "No Income",
          "No Income",
          "No Income"
         ],
         "xaxis": "x",
         "y": [
          20,
          24,
          22,
          27,
          24,
          23,
          23,
          22,
          23,
          24,
          28,
          23,
          21,
          22,
          22,
          23,
          22,
          22,
          22,
          32,
          23,
          23,
          22,
          27,
          24,
          23,
          22,
          23,
          23,
          28,
          22,
          24,
          23,
          23,
          23,
          24,
          24,
          25,
          24,
          22,
          23,
          24,
          27,
          24,
          23,
          23,
          32,
          24,
          22,
          24,
          23,
          25,
          31,
          32,
          27,
          26,
          27,
          23,
          32,
          19,
          27,
          26,
          22,
          22,
          30,
          24,
          23,
          24,
          23,
          32,
          20,
          26,
          27,
          24,
          26,
          25,
          23,
          25,
          29,
          22,
          32,
          26,
          31,
          24,
          22,
          23,
          23,
          22,
          25,
          23,
          29,
          24,
          31,
          27,
          21,
          23,
          25,
          21,
          26,
          24,
          23,
          22,
          23,
          26,
          23,
          29,
          30,
          28,
          24,
          23,
          24,
          25,
          26,
          21,
          24,
          23,
          22,
          23,
          21,
          24,
          26,
          26,
          25,
          28,
          25,
          20,
          27,
          25,
          24,
          25,
          25,
          24,
          25,
          22,
          27,
          24,
          23,
          23,
          22,
          25,
          21,
          26,
          24,
          23,
          22,
          22,
          25,
          23,
          29,
          24,
          22,
          25,
          23,
          29,
          26,
          24,
          23,
          22,
          23,
          26,
          23,
          27,
          24,
          23,
          23,
          22
         ],
         "yaxis": "y"
        },
        {
         "customdata": [
          [
           "Student",
           "Single",
           "Post Graduate"
          ],
          [
           "Student",
           "Single",
           "Post Graduate"
          ],
          [
           "Student",
           "Single",
           "Graduate"
          ],
          [
           "Student",
           "Single",
           "Post Graduate"
          ],
          [
           "Student",
           "Single",
           "Post Graduate"
          ],
          [
           "Student",
           "Single",
           "Graduate"
          ],
          [
           "Student",
           "Single",
           "Graduate"
          ],
          [
           "Student",
           "Single",
           "Post Graduate"
          ],
          [
           "Student",
           "Single",
           "Post Graduate"
          ],
          [
           "Student",
           "Single",
           "Graduate"
          ],
          [
           "Student",
           "Single",
           "Post Graduate"
          ],
          [
           "Student",
           "Single",
           "Post Graduate"
          ],
          [
           "Student",
           "Single",
           "Post Graduate"
          ],
          [
           "Student",
           "Single",
           "Post Graduate"
          ],
          [
           "Student",
           "Single",
           "Post Graduate"
          ],
          [
           "Employee",
           "Married",
           "Ph.D"
          ],
          [
           "Student",
           "Single",
           "Post Graduate"
          ],
          [
           "Student",
           "Single",
           "Post Graduate"
          ],
          [
           "Self Employeed",
           "Married",
           "Uneducated"
          ],
          [
           "Student",
           "Single",
           "Graduate"
          ],
          [
           "Student",
           "Single",
           "Post Graduate"
          ],
          [
           "Student",
           "Single",
           "Graduate"
          ],
          [
           "Student",
           "Single",
           "Post Graduate"
          ],
          [
           "Student",
           "Single",
           "Post Graduate"
          ],
          [
           "Student",
           "Single",
           "Post Graduate"
          ],
          [
           "Student",
           "Single",
           "Post Graduate"
          ],
          [
           "Employee",
           "Married",
           "Ph.D"
          ],
          [
           "Student",
           "Single",
           "Post Graduate"
          ],
          [
           "Student",
           "Single",
           "Post Graduate"
          ],
          [
           "Student",
           "Single",
           "Post Graduate"
          ],
          [
           "Student",
           "Single",
           "Post Graduate"
          ],
          [
           "Student",
           "Single",
           "Graduate"
          ],
          [
           "Student",
           "Single",
           "Post Graduate"
          ],
          [
           "Employee",
           "Single",
           "Graduate"
          ],
          [
           "Student",
           "Single",
           "Graduate"
          ],
          [
           "Student",
           "Single",
           "Post Graduate"
          ],
          [
           "Student",
           "Single",
           "Post Graduate"
          ],
          [
           "Student",
           "Single",
           "Post Graduate"
          ],
          [
           "Student",
           "Single",
           "Graduate"
          ],
          [
           "Student",
           "Single",
           "Post Graduate"
          ],
          [
           "Student",
           "Single",
           "Post Graduate"
          ],
          [
           "Student",
           "Single",
           "Post Graduate"
          ],
          [
           "Student",
           "Single",
           "Post Graduate"
          ],
          [
           "Student",
           "Single",
           "Post Graduate"
          ],
          [
           "Student",
           "Single",
           "Post Graduate"
          ],
          [
           "Student",
           "Single",
           "Graduate"
          ],
          [
           "Student",
           "Single",
           "Post Graduate"
          ],
          [
           "Self Employeed",
           "Married",
           "Graduate"
          ],
          [
           "Self Employeed",
           "Single",
           "Ph.D"
          ],
          [
           "Student",
           "Single",
           "Post Graduate"
          ],
          [
           "Student",
           "Single",
           "Post Graduate"
          ],
          [
           "Student",
           "Single",
           "Graduate"
          ],
          [
           "Employee",
           "Married",
           "Graduate"
          ],
          [
           "Student",
           "Single",
           "Post Graduate"
          ],
          [
           "Employee",
           "Single",
           "Graduate"
          ],
          [
           "Employee",
           "Married",
           "Graduate"
          ],
          [
           "Employee",
           "Single",
           "Post Graduate"
          ],
          [
           "Student",
           "Single",
           "Post Graduate"
          ],
          [
           "Employee",
           "Single",
           "Graduate"
          ],
          [
           "Student",
           "Single",
           "Graduate"
          ],
          [
           "Student",
           "Single",
           "Post Graduate"
          ],
          [
           "Student",
           "Single",
           "Post Graduate"
          ],
          [
           "Student",
           "Single",
           "Post Graduate"
          ],
          [
           "Employee",
           "Single",
           "Post Graduate"
          ],
          [
           "Self Employeed",
           "Prefer not to say",
           "Ph.D"
          ],
          [
           "Employee",
           "Single",
           "Graduate"
          ],
          [
           "Self Employeed",
           "Single",
           "Graduate"
          ],
          [
           "Employee",
           "Married",
           "Ph.D"
          ],
          [
           "Self Employeed",
           "Married",
           "Ph.D"
          ],
          [
           "Student",
           "Single",
           "Post Graduate"
          ],
          [
           "Student",
           "Single",
           "Post Graduate"
          ],
          [
           "Student",
           "Single",
           "Post Graduate"
          ],
          [
           "Employee",
           "Married",
           "Post Graduate"
          ],
          [
           "Student",
           "Single",
           "Post Graduate"
          ],
          [
           "Student",
           "Single",
           "Graduate"
          ],
          [
           "Self Employeed",
           "Single",
           "Graduate"
          ],
          [
           "Employee",
           "Married",
           "Ph.D"
          ],
          [
           "Student",
           "Single",
           "Post Graduate"
          ],
          [
           "Employee",
           "Married",
           "Graduate"
          ],
          [
           "Student",
           "Single",
           "Post Graduate"
          ],
          [
           "Employee",
           "Single",
           "Post Graduate"
          ],
          [
           "Student",
           "Single",
           "Post Graduate"
          ],
          [
           "Employee",
           "Married",
           "Graduate"
          ],
          [
           "Student",
           "Single",
           "Post Graduate"
          ],
          [
           "Student",
           "Single",
           "Post Graduate"
          ],
          [
           "Student",
           "Single",
           "Graduate"
          ],
          [
           "Student",
           "Single",
           "Graduate"
          ],
          [
           "Employee",
           "Single",
           "Post Graduate"
          ],
          [
           "Employee",
           "Married",
           "Ph.D"
          ],
          [
           "Student",
           "Single",
           "Graduate"
          ],
          [
           "Employee",
           "Single",
           "Post Graduate"
          ],
          [
           "Employee",
           "Single",
           "Graduate"
          ],
          [
           "Employee",
           "Single",
           "Post Graduate"
          ],
          [
           "Employee",
           "Single",
           "Ph.D"
          ],
          [
           "Self Employeed",
           "Married",
           "School"
          ],
          [
           "Student",
           "Single",
           "Graduate"
          ],
          [
           "Student",
           "Single",
           "Post Graduate"
          ],
          [
           "Employee",
           "Prefer not to say",
           "Post Graduate"
          ],
          [
           "Employee",
           "Single",
           "Graduate"
          ],
          [
           "Student",
           "Single",
           "Graduate"
          ],
          [
           "Self Employeed",
           "Married",
           "Post Graduate"
          ],
          [
           "Employee",
           "Single",
           "Post Graduate"
          ],
          [
           "Student",
           "Single",
           "Graduate"
          ],
          [
           "Student",
           "Single",
           "Graduate"
          ],
          [
           "Employee",
           "Married",
           "Post Graduate"
          ],
          [
           "Student",
           "Single",
           "Post Graduate"
          ],
          [
           "Employee",
           "Single",
           "Graduate"
          ],
          [
           "Self Employeed",
           "Married",
           "School"
          ],
          [
           "Student",
           "Single",
           "Post Graduate"
          ],
          [
           "Employee",
           "Single",
           "Post Graduate"
          ],
          [
           "Employee",
           "Single",
           "Graduate"
          ],
          [
           "Student",
           "Single",
           "Graduate"
          ],
          [
           "Employee",
           "Married",
           "Post Graduate"
          ],
          [
           "Student",
           "Single",
           "Post Graduate"
          ],
          [
           "Student",
           "Single",
           "Post Graduate"
          ],
          [
           "Employee",
           "Married",
           "Graduate"
          ],
          [
           "Student",
           "Single",
           "Graduate"
          ],
          [
           "Employee",
           "Married",
           "Graduate"
          ],
          [
           "Self Employeed",
           "Single",
           "Graduate"
          ],
          [
           "Self Employeed",
           "Married",
           "Graduate"
          ],
          [
           "Self Employeed",
           "Single",
           "Graduate"
          ],
          [
           "Student",
           "Single",
           "Graduate"
          ],
          [
           "Student",
           "Single",
           "Graduate"
          ],
          [
           "Self Employeed",
           "Married",
           "School"
          ],
          [
           "Employee",
           "Married",
           "Post Graduate"
          ],
          [
           "Employee",
           "Single",
           "Graduate"
          ],
          [
           "Employee",
           "Married",
           "Graduate"
          ],
          [
           "Employee",
           "Married",
           "Graduate"
          ],
          [
           "Self Employeed",
           "Single",
           "Post Graduate"
          ],
          [
           "Student",
           "Single",
           "Post Graduate"
          ],
          [
           "Employee",
           "Married",
           "Graduate"
          ],
          [
           "Self Employeed",
           "Single",
           "Graduate"
          ],
          [
           "Student",
           "Single",
           "Graduate"
          ],
          [
           "Self Employeed",
           "Prefer not to say",
           "Post Graduate"
          ],
          [
           "Employee",
           "Married",
           "Ph.D"
          ],
          [
           "Employee",
           "Single",
           "Graduate"
          ],
          [
           "Student",
           "Single",
           "Graduate"
          ],
          [
           "Student",
           "Single",
           "Graduate"
          ],
          [
           "Employee",
           "Married",
           "Graduate"
          ],
          [
           "Employee",
           "Married",
           "Post Graduate"
          ],
          [
           "Employee",
           "Married",
           "Graduate"
          ],
          [
           "Self Employeed",
           "Married",
           "Graduate"
          ],
          [
           "Student",
           "Single",
           "Graduate"
          ],
          [
           "Self Employeed",
           "Single",
           "School"
          ],
          [
           "Employee",
           "Prefer not to say",
           "Graduate"
          ],
          [
           "Student",
           "Single",
           "Graduate"
          ],
          [
           "Student",
           "Single",
           "Graduate"
          ],
          [
           "Employee",
           "Single",
           "Graduate"
          ],
          [
           "Self Employeed",
           "Married",
           "Graduate"
          ],
          [
           "Student",
           "Single",
           "Post Graduate"
          ],
          [
           "Self Employeed",
           "Married",
           "School"
          ],
          [
           "Student",
           "Single",
           "Post Graduate"
          ],
          [
           "Self Employeed",
           "Married",
           "Graduate"
          ],
          [
           "Student",
           "Single",
           "Graduate"
          ],
          [
           "Self Employeed",
           "Married",
           "Post Graduate"
          ],
          [
           "Employee",
           "Married",
           "Graduate"
          ],
          [
           "Student",
           "Single",
           "Graduate"
          ],
          [
           "Employee",
           "Single",
           "Graduate"
          ],
          [
           "Self Employeed",
           "Married",
           "Graduate"
          ],
          [
           "Student",
           "Married",
           "Graduate"
          ],
          [
           "Employee",
           "Married",
           "Post Graduate"
          ],
          [
           "Employee",
           "Married",
           "Graduate"
          ],
          [
           "Student",
           "Single",
           "Graduate"
          ],
          [
           "Student",
           "Single",
           "Graduate"
          ],
          [
           "Student",
           "Single",
           "Post Graduate"
          ],
          [
           "Employee",
           "Single",
           "Graduate"
          ],
          [
           "Employee",
           "Single",
           "Post Graduate"
          ],
          [
           "Student",
           "Single",
           "Post Graduate"
          ],
          [
           "Student",
           "Single",
           "Post Graduate"
          ],
          [
           "Student",
           "Single",
           "Graduate"
          ],
          [
           "Student",
           "Single",
           "Post Graduate"
          ],
          [
           "Employee",
           "Married",
           "Graduate"
          ],
          [
           "Self Employeed",
           "Single",
           "Post Graduate"
          ],
          [
           "Student",
           "Single",
           "Post Graduate"
          ],
          [
           "Employee",
           "Married",
           "Graduate"
          ],
          [
           "Self Employeed",
           "Single",
           "Graduate"
          ],
          [
           "Student",
           "Single",
           "Graduate"
          ],
          [
           "Self Employeed",
           "Prefer not to say",
           "Post Graduate"
          ],
          [
           "Employee",
           "Married",
           "Ph.D"
          ],
          [
           "Employee",
           "Single",
           "Graduate"
          ],
          [
           "Student",
           "Single",
           "Graduate"
          ],
          [
           "Student",
           "Single",
           "Graduate"
          ],
          [
           "Employee",
           "Married",
           "Graduate"
          ],
          [
           "Employee",
           "Married",
           "Post Graduate"
          ],
          [
           "Employee",
           "Married",
           "Graduate"
          ],
          [
           "Student",
           "Single",
           "Graduate"
          ],
          [
           "Employee",
           "Married",
           "Graduate"
          ],
          [
           "Self Employeed",
           "Single",
           "Graduate"
          ],
          [
           "Self Employeed",
           "Married",
           "Graduate"
          ],
          [
           "Self Employeed",
           "Single",
           "Graduate"
          ],
          [
           "Student",
           "Single",
           "Graduate"
          ],
          [
           "Student",
           "Single",
           "Graduate"
          ],
          [
           "Self Employeed",
           "Married",
           "School"
          ],
          [
           "Employee",
           "Married",
           "Post Graduate"
          ],
          [
           "Employee",
           "Single",
           "Graduate"
          ],
          [
           "Employee",
           "Married",
           "Graduate"
          ],
          [
           "Student",
           "Single",
           "Graduate"
          ],
          [
           "Employee",
           "Married",
           "Graduate"
          ],
          [
           "Self Employeed",
           "Single",
           "Graduate"
          ],
          [
           "Self Employeed",
           "Married",
           "Graduate"
          ],
          [
           "Self Employeed",
           "Single",
           "Graduate"
          ],
          [
           "Student",
           "Single",
           "Graduate"
          ],
          [
           "Student",
           "Single",
           "Post Graduate"
          ],
          [
           "Employee",
           "Married",
           "Graduate"
          ],
          [
           "Self Employeed",
           "Single",
           "Graduate"
          ],
          [
           "Student",
           "Single",
           "Graduate"
          ],
          [
           "Self Employeed",
           "Prefer not to say",
           "Post Graduate"
          ],
          [
           "Employee",
           "Married",
           "Ph.D"
          ],
          [
           "Employee",
           "Single",
           "Graduate"
          ],
          [
           "Student",
           "Single",
           "Graduate"
          ],
          [
           "Student",
           "Single",
           "Graduate"
          ],
          [
           "Employee",
           "Married",
           "Graduate"
          ],
          [
           "Employee",
           "Married",
           "Post Graduate"
          ],
          [
           "Employee",
           "Married",
           "Graduate"
          ],
          [
           "Self Employeed",
           "Married",
           "Graduate"
          ],
          [
           "Student",
           "Single",
           "Graduate"
          ],
          [
           "Self Employeed",
           "Single",
           "School"
          ],
          [
           "Employee",
           "Prefer not to say",
           "Graduate"
          ],
          [
           "Student",
           "Single",
           "Post Graduate"
          ],
          [
           "Student",
           "Single",
           "Graduate"
          ],
          [
           "Student",
           "Single",
           "Post Graduate"
          ],
          [
           "Student",
           "Single",
           "Post Graduate"
          ]
         ],
         "hovertemplate": "Gender=Male<br>Monthly Income=%{x}<br>Age=%{y}<br>Family Size=%{marker.size}<br>Occupation=%{customdata[0]}<br>Marital Status=%{customdata[1]}<br>Educational Qualifications=%{customdata[2]}<extra></extra>",
         "legendgroup": "Male",
         "marker": {
          "color": "blue",
          "size": [
           3,
           4,
           3,
           2,
           5,
           4,
           4,
           3,
           4,
           4,
           3,
           3,
           3,
           4,
           4,
           4,
           3,
           5,
           4,
           3,
           4,
           5,
           2,
           3,
           2,
           3,
           5,
           4,
           5,
           3,
           1,
           4,
           6,
           4,
           4,
           2,
           4,
           4,
           4,
           5,
           4,
           3,
           3,
           3,
           5,
           1,
           5,
           2,
           1,
           2,
           1,
           1,
           5,
           2,
           2,
           3,
           2,
           1,
           2,
           5,
           4,
           1,
           2,
           2,
           2,
           3,
           3,
           5,
           6,
           3,
           4,
           3,
           3,
           2,
           2,
           3,
           5,
           3,
           2,
           3,
           3,
           3,
           4,
           4,
           3,
           2,
           2,
           3,
           5,
           2,
           3,
           4,
           3,
           4,
           2,
           2,
           1,
           1,
           2,
           2,
           3,
           1,
           3,
           2,
           1,
           2,
           2,
           6,
           3,
           2,
           2,
           6,
           6,
           2,
           5,
           4,
           2,
           4,
           2,
           6,
           3,
           2,
           3,
           3,
           5,
           2,
           4,
           5,
           2,
           2,
           3,
           6,
           5,
           2,
           3,
           3,
           3,
           2,
           2,
           6,
           3,
           1,
           3,
           3,
           1,
           6,
           3,
           2,
           3,
           2,
           6,
           3,
           6,
           2,
           4,
           3,
           3,
           2,
           3,
           2,
           3,
           5,
           6,
           4,
           3,
           1,
           2,
           3,
           4,
           3,
           2,
           5,
           2,
           2,
           3,
           6,
           5,
           2,
           3,
           3,
           3,
           2,
           2,
           6,
           4,
           2,
           4,
           2,
           6,
           3,
           2,
           3,
           3,
           5,
           2,
           4,
           2,
           4,
           2,
           6,
           3,
           2,
           2,
           3,
           6,
           5,
           2,
           3,
           3,
           3,
           2,
           2,
           6,
           3,
           1,
           3,
           3,
           1,
           4,
           3,
           2,
           5
          ],
          "sizemode": "area",
          "sizeref": 0.015,
          "symbol": "circle"
         },
         "mode": "markers",
         "name": "Male",
         "orientation": "v",
         "showlegend": true,
         "type": "scatter",
         "x": [
          "Below Rs.10000",
          "Below Rs.10000",
          "No Income",
          "Below Rs.10000",
          "No Income",
          "No Income",
          "No Income",
          "No Income",
          "No Income",
          "No Income",
          "Below Rs.10000",
          "No Income",
          "No Income",
          "Below Rs.10000",
          "No Income",
          "More than 50000",
          "10001 to 25000",
          "No Income",
          "More than 50000",
          "No Income",
          "No Income",
          "No Income",
          "No Income",
          "No Income",
          "No Income",
          "No Income",
          "More than 50000",
          "No Income",
          "No Income",
          "No Income",
          "25001 to 50000",
          "No Income",
          "No Income",
          "10001 to 25000",
          "No Income",
          "No Income",
          "No Income",
          "No Income",
          "No Income",
          "No Income",
          "10001 to 25000",
          "No Income",
          "No Income",
          "No Income",
          "No Income",
          "No Income",
          "No Income",
          "10001 to 25000",
          "10001 to 25000",
          "No Income",
          "No Income",
          "No Income",
          "25001 to 50000",
          "No Income",
          "25001 to 50000",
          "More than 50000",
          "More than 50000",
          "No Income",
          "Below Rs.10000",
          "No Income",
          "No Income",
          "No Income",
          "Below Rs.10000",
          "10001 to 25000",
          "More than 50000",
          "25001 to 50000",
          "25001 to 50000",
          "More than 50000",
          "More than 50000",
          "No Income",
          "No Income",
          "No Income",
          "More than 50000",
          "No Income",
          "No Income",
          "25001 to 50000",
          "More than 50000",
          "No Income",
          "25001 to 50000",
          "No Income",
          "10001 to 25000",
          "More than 50000",
          "10001 to 25000",
          "No Income",
          "More than 50000",
          "No Income",
          "No Income",
          "25001 to 50000",
          "More than 50000",
          "No Income",
          "More than 50000",
          "10001 to 25000",
          "25001 to 50000",
          "More than 50000",
          "More than 50000",
          "No Income",
          "No Income",
          "25001 to 50000",
          "Below Rs.10000",
          "No Income",
          "More than 50000",
          "Below Rs.10000",
          "Below Rs.10000",
          "No Income",
          "More than 50000",
          "No Income",
          "10001 to 25000",
          "More than 50000",
          "No Income",
          "25001 to 50000",
          "25001 to 50000",
          "No Income",
          "More than 50000",
          "No Income",
          "No Income",
          "More than 50000",
          "No Income",
          "25001 to 50000",
          "More than 50000",
          "25001 to 50000",
          "10001 to 25000",
          "No Income",
          "No Income",
          "10001 to 25000",
          "25001 to 50000",
          "10001 to 25000",
          "10001 to 25000",
          "More than 50000",
          "10001 to 25000",
          "No Income",
          "25001 to 50000",
          "More than 50000",
          "No Income",
          "More than 50000",
          "More than 50000",
          "25001 to 50000",
          "No Income",
          "No Income",
          "25001 to 50000",
          "More than 50000",
          "25001 to 50000",
          "More than 50000",
          "No Income",
          "More than 50000",
          "Below Rs.10000",
          "No Income",
          "No Income",
          "10001 to 25000",
          "More than 50000",
          "No Income",
          "25001 to 50000",
          "No Income",
          "More than 50000",
          "No Income",
          "More than 50000",
          "10001 to 25000",
          "25001 to 50000",
          "10001 to 25000",
          "25001 to 50000",
          "No Income",
          "More than 50000",
          "More than 50000",
          "No Income",
          "No Income",
          "No Income",
          "10001 to 25000",
          "25001 to 50000",
          "Below Rs.10000",
          "Below Rs.10000",
          "No Income",
          "Below Rs.10000",
          "More than 50000",
          "10001 to 25000",
          "No Income",
          "25001 to 50000",
          "More than 50000",
          "No Income",
          "More than 50000",
          "More than 50000",
          "25001 to 50000",
          "No Income",
          "No Income",
          "25001 to 50000",
          "More than 50000",
          "More than 50000",
          "No Income",
          "25001 to 50000",
          "More than 50000",
          "25001 to 50000",
          "10001 to 25000",
          "No Income",
          "No Income",
          "10001 to 25000",
          "25001 to 50000",
          "10001 to 25000",
          "More than 50000",
          "No Income",
          "25001 to 50000",
          "More than 50000",
          "25001 to 50000",
          "10001 to 25000",
          "No Income",
          "No Income",
          "25001 to 50000",
          "More than 50000",
          "No Income",
          "More than 50000",
          "More than 50000",
          "25001 to 50000",
          "No Income",
          "No Income",
          "25001 to 50000",
          "More than 50000",
          "25001 to 50000",
          "More than 50000",
          "No Income",
          "More than 50000",
          "Below Rs.10000",
          "Below Rs.10000",
          "No Income",
          "Below Rs.10000",
          "No Income"
         ],
         "xaxis": "x",
         "y": [
          22,
          22,
          22,
          23,
          23,
          21,
          25,
          24,
          22,
          23,
          21,
          25,
          22,
          22,
          22,
          25,
          25,
          25,
          30,
          23,
          23,
          22,
          23,
          24,
          25,
          22,
          31,
          25,
          23,
          22,
          23,
          23,
          25,
          24,
          22,
          23,
          26,
          26,
          21,
          24,
          24,
          23,
          22,
          23,
          24,
          25,
          25,
          28,
          26,
          22,
          23,
          25,
          26,
          23,
          26,
          28,
          26,
          25,
          25,
          18,
          21,
          25,
          25,
          23,
          24,
          25,
          26,
          32,
          24,
          23,
          25,
          23,
          28,
          23,
          19,
          25,
          33,
          23,
          25,
          24,
          25,
          23,
          32,
          22,
          23,
          20,
          21,
          25,
          27,
          21,
          26,
          25,
          26,
          27,
          25,
          20,
          22,
          27,
          24,
          22,
          26,
          26,
          23,
          22,
          28,
          22,
          25,
          31,
          24,
          24,
          26,
          19,
          25,
          23,
          24,
          26,
          20,
          29,
          25,
          27,
          25,
          21,
          23,
          32,
          28,
          26,
          26,
          32,
          28,
          24,
          32,
          29,
          21,
          26,
          25,
          29,
          22,
          24,
          27,
          32,
          28,
          30,
          21,
          25,
          31,
          21,
          20,
          22,
          27,
          23,
          30,
          23,
          30,
          21,
          25,
          26,
          22,
          23,
          25,
          22,
          24,
          30,
          19,
          23,
          24,
          22,
          28,
          22,
          22,
          22,
          23,
          32,
          28,
          24,
          32,
          29,
          21,
          26,
          21,
          29,
          22,
          24,
          27,
          32,
          26,
          20,
          29,
          25,
          27,
          25,
          21,
          23,
          22,
          28,
          26,
          26,
          20,
          29,
          25,
          27,
          25,
          21,
          24,
          32,
          29,
          21,
          26,
          31,
          29,
          22,
          24,
          27,
          30,
          28,
          30,
          21,
          25,
          31,
          22,
          22,
          23,
          23
         ],
         "yaxis": "y"
        }
       ],
       "layout": {
        "hoverlabel": {
         "font": {
          "size": 14
         }
        },
        "legend": {
         "itemsizing": "constant",
         "title": {
          "font": {
           "size": 16
          },
          "text": "Gender"
         },
         "tracegroupgap": 0
        },
        "template": {
         "data": {
          "bar": [
           {
            "error_x": {
             "color": "#2a3f5f"
            },
            "error_y": {
             "color": "#2a3f5f"
            },
            "marker": {
             "line": {
              "color": "#E5ECF6",
              "width": 0.5
             },
             "pattern": {
              "fillmode": "overlay",
              "size": 10,
              "solidity": 0.2
             }
            },
            "type": "bar"
           }
          ],
          "barpolar": [
           {
            "marker": {
             "line": {
              "color": "#E5ECF6",
              "width": 0.5
             },
             "pattern": {
              "fillmode": "overlay",
              "size": 10,
              "solidity": 0.2
             }
            },
            "type": "barpolar"
           }
          ],
          "carpet": [
           {
            "aaxis": {
             "endlinecolor": "#2a3f5f",
             "gridcolor": "white",
             "linecolor": "white",
             "minorgridcolor": "white",
             "startlinecolor": "#2a3f5f"
            },
            "baxis": {
             "endlinecolor": "#2a3f5f",
             "gridcolor": "white",
             "linecolor": "white",
             "minorgridcolor": "white",
             "startlinecolor": "#2a3f5f"
            },
            "type": "carpet"
           }
          ],
          "choropleth": [
           {
            "colorbar": {
             "outlinewidth": 0,
             "ticks": ""
            },
            "type": "choropleth"
           }
          ],
          "contour": [
           {
            "colorbar": {
             "outlinewidth": 0,
             "ticks": ""
            },
            "colorscale": [
             [
              0,
              "#0d0887"
             ],
             [
              0.1111111111111111,
              "#46039f"
             ],
             [
              0.2222222222222222,
              "#7201a8"
             ],
             [
              0.3333333333333333,
              "#9c179e"
             ],
             [
              0.4444444444444444,
              "#bd3786"
             ],
             [
              0.5555555555555556,
              "#d8576b"
             ],
             [
              0.6666666666666666,
              "#ed7953"
             ],
             [
              0.7777777777777778,
              "#fb9f3a"
             ],
             [
              0.8888888888888888,
              "#fdca26"
             ],
             [
              1,
              "#f0f921"
             ]
            ],
            "type": "contour"
           }
          ],
          "contourcarpet": [
           {
            "colorbar": {
             "outlinewidth": 0,
             "ticks": ""
            },
            "type": "contourcarpet"
           }
          ],
          "heatmap": [
           {
            "colorbar": {
             "outlinewidth": 0,
             "ticks": ""
            },
            "colorscale": [
             [
              0,
              "#0d0887"
             ],
             [
              0.1111111111111111,
              "#46039f"
             ],
             [
              0.2222222222222222,
              "#7201a8"
             ],
             [
              0.3333333333333333,
              "#9c179e"
             ],
             [
              0.4444444444444444,
              "#bd3786"
             ],
             [
              0.5555555555555556,
              "#d8576b"
             ],
             [
              0.6666666666666666,
              "#ed7953"
             ],
             [
              0.7777777777777778,
              "#fb9f3a"
             ],
             [
              0.8888888888888888,
              "#fdca26"
             ],
             [
              1,
              "#f0f921"
             ]
            ],
            "type": "heatmap"
           }
          ],
          "heatmapgl": [
           {
            "colorbar": {
             "outlinewidth": 0,
             "ticks": ""
            },
            "colorscale": [
             [
              0,
              "#0d0887"
             ],
             [
              0.1111111111111111,
              "#46039f"
             ],
             [
              0.2222222222222222,
              "#7201a8"
             ],
             [
              0.3333333333333333,
              "#9c179e"
             ],
             [
              0.4444444444444444,
              "#bd3786"
             ],
             [
              0.5555555555555556,
              "#d8576b"
             ],
             [
              0.6666666666666666,
              "#ed7953"
             ],
             [
              0.7777777777777778,
              "#fb9f3a"
             ],
             [
              0.8888888888888888,
              "#fdca26"
             ],
             [
              1,
              "#f0f921"
             ]
            ],
            "type": "heatmapgl"
           }
          ],
          "histogram": [
           {
            "marker": {
             "pattern": {
              "fillmode": "overlay",
              "size": 10,
              "solidity": 0.2
             }
            },
            "type": "histogram"
           }
          ],
          "histogram2d": [
           {
            "colorbar": {
             "outlinewidth": 0,
             "ticks": ""
            },
            "colorscale": [
             [
              0,
              "#0d0887"
             ],
             [
              0.1111111111111111,
              "#46039f"
             ],
             [
              0.2222222222222222,
              "#7201a8"
             ],
             [
              0.3333333333333333,
              "#9c179e"
             ],
             [
              0.4444444444444444,
              "#bd3786"
             ],
             [
              0.5555555555555556,
              "#d8576b"
             ],
             [
              0.6666666666666666,
              "#ed7953"
             ],
             [
              0.7777777777777778,
              "#fb9f3a"
             ],
             [
              0.8888888888888888,
              "#fdca26"
             ],
             [
              1,
              "#f0f921"
             ]
            ],
            "type": "histogram2d"
           }
          ],
          "histogram2dcontour": [
           {
            "colorbar": {
             "outlinewidth": 0,
             "ticks": ""
            },
            "colorscale": [
             [
              0,
              "#0d0887"
             ],
             [
              0.1111111111111111,
              "#46039f"
             ],
             [
              0.2222222222222222,
              "#7201a8"
             ],
             [
              0.3333333333333333,
              "#9c179e"
             ],
             [
              0.4444444444444444,
              "#bd3786"
             ],
             [
              0.5555555555555556,
              "#d8576b"
             ],
             [
              0.6666666666666666,
              "#ed7953"
             ],
             [
              0.7777777777777778,
              "#fb9f3a"
             ],
             [
              0.8888888888888888,
              "#fdca26"
             ],
             [
              1,
              "#f0f921"
             ]
            ],
            "type": "histogram2dcontour"
           }
          ],
          "mesh3d": [
           {
            "colorbar": {
             "outlinewidth": 0,
             "ticks": ""
            },
            "type": "mesh3d"
           }
          ],
          "parcoords": [
           {
            "line": {
             "colorbar": {
              "outlinewidth": 0,
              "ticks": ""
             }
            },
            "type": "parcoords"
           }
          ],
          "pie": [
           {
            "automargin": true,
            "type": "pie"
           }
          ],
          "scatter": [
           {
            "fillpattern": {
             "fillmode": "overlay",
             "size": 10,
             "solidity": 0.2
            },
            "type": "scatter"
           }
          ],
          "scatter3d": [
           {
            "line": {
             "colorbar": {
              "outlinewidth": 0,
              "ticks": ""
             }
            },
            "marker": {
             "colorbar": {
              "outlinewidth": 0,
              "ticks": ""
             }
            },
            "type": "scatter3d"
           }
          ],
          "scattercarpet": [
           {
            "marker": {
             "colorbar": {
              "outlinewidth": 0,
              "ticks": ""
             }
            },
            "type": "scattercarpet"
           }
          ],
          "scattergeo": [
           {
            "marker": {
             "colorbar": {
              "outlinewidth": 0,
              "ticks": ""
             }
            },
            "type": "scattergeo"
           }
          ],
          "scattergl": [
           {
            "marker": {
             "colorbar": {
              "outlinewidth": 0,
              "ticks": ""
             }
            },
            "type": "scattergl"
           }
          ],
          "scattermapbox": [
           {
            "marker": {
             "colorbar": {
              "outlinewidth": 0,
              "ticks": ""
             }
            },
            "type": "scattermapbox"
           }
          ],
          "scatterpolar": [
           {
            "marker": {
             "colorbar": {
              "outlinewidth": 0,
              "ticks": ""
             }
            },
            "type": "scatterpolar"
           }
          ],
          "scatterpolargl": [
           {
            "marker": {
             "colorbar": {
              "outlinewidth": 0,
              "ticks": ""
             }
            },
            "type": "scatterpolargl"
           }
          ],
          "scatterternary": [
           {
            "marker": {
             "colorbar": {
              "outlinewidth": 0,
              "ticks": ""
             }
            },
            "type": "scatterternary"
           }
          ],
          "surface": [
           {
            "colorbar": {
             "outlinewidth": 0,
             "ticks": ""
            },
            "colorscale": [
             [
              0,
              "#0d0887"
             ],
             [
              0.1111111111111111,
              "#46039f"
             ],
             [
              0.2222222222222222,
              "#7201a8"
             ],
             [
              0.3333333333333333,
              "#9c179e"
             ],
             [
              0.4444444444444444,
              "#bd3786"
             ],
             [
              0.5555555555555556,
              "#d8576b"
             ],
             [
              0.6666666666666666,
              "#ed7953"
             ],
             [
              0.7777777777777778,
              "#fb9f3a"
             ],
             [
              0.8888888888888888,
              "#fdca26"
             ],
             [
              1,
              "#f0f921"
             ]
            ],
            "type": "surface"
           }
          ],
          "table": [
           {
            "cells": {
             "fill": {
              "color": "#EBF0F8"
             },
             "line": {
              "color": "white"
             }
            },
            "header": {
             "fill": {
              "color": "#C8D4E3"
             },
             "line": {
              "color": "white"
             }
            },
            "type": "table"
           }
          ]
         },
         "layout": {
          "annotationdefaults": {
           "arrowcolor": "#2a3f5f",
           "arrowhead": 0,
           "arrowwidth": 1
          },
          "autotypenumbers": "strict",
          "coloraxis": {
           "colorbar": {
            "outlinewidth": 0,
            "ticks": ""
           }
          },
          "colorscale": {
           "diverging": [
            [
             0,
             "#8e0152"
            ],
            [
             0.1,
             "#c51b7d"
            ],
            [
             0.2,
             "#de77ae"
            ],
            [
             0.3,
             "#f1b6da"
            ],
            [
             0.4,
             "#fde0ef"
            ],
            [
             0.5,
             "#f7f7f7"
            ],
            [
             0.6,
             "#e6f5d0"
            ],
            [
             0.7,
             "#b8e186"
            ],
            [
             0.8,
             "#7fbc41"
            ],
            [
             0.9,
             "#4d9221"
            ],
            [
             1,
             "#276419"
            ]
           ],
           "sequential": [
            [
             0,
             "#0d0887"
            ],
            [
             0.1111111111111111,
             "#46039f"
            ],
            [
             0.2222222222222222,
             "#7201a8"
            ],
            [
             0.3333333333333333,
             "#9c179e"
            ],
            [
             0.4444444444444444,
             "#bd3786"
            ],
            [
             0.5555555555555556,
             "#d8576b"
            ],
            [
             0.6666666666666666,
             "#ed7953"
            ],
            [
             0.7777777777777778,
             "#fb9f3a"
            ],
            [
             0.8888888888888888,
             "#fdca26"
            ],
            [
             1,
             "#f0f921"
            ]
           ],
           "sequentialminus": [
            [
             0,
             "#0d0887"
            ],
            [
             0.1111111111111111,
             "#46039f"
            ],
            [
             0.2222222222222222,
             "#7201a8"
            ],
            [
             0.3333333333333333,
             "#9c179e"
            ],
            [
             0.4444444444444444,
             "#bd3786"
            ],
            [
             0.5555555555555556,
             "#d8576b"
            ],
            [
             0.6666666666666666,
             "#ed7953"
            ],
            [
             0.7777777777777778,
             "#fb9f3a"
            ],
            [
             0.8888888888888888,
             "#fdca26"
            ],
            [
             1,
             "#f0f921"
            ]
           ]
          },
          "colorway": [
           "#636efa",
           "#EF553B",
           "#00cc96",
           "#ab63fa",
           "#FFA15A",
           "#19d3f3",
           "#FF6692",
           "#B6E880",
           "#FF97FF",
           "#FECB52"
          ],
          "font": {
           "color": "#2a3f5f"
          },
          "geo": {
           "bgcolor": "white",
           "lakecolor": "white",
           "landcolor": "#E5ECF6",
           "showlakes": true,
           "showland": true,
           "subunitcolor": "white"
          },
          "hoverlabel": {
           "align": "left"
          },
          "hovermode": "closest",
          "mapbox": {
           "style": "light"
          },
          "paper_bgcolor": "white",
          "plot_bgcolor": "#E5ECF6",
          "polar": {
           "angularaxis": {
            "gridcolor": "white",
            "linecolor": "white",
            "ticks": ""
           },
           "bgcolor": "#E5ECF6",
           "radialaxis": {
            "gridcolor": "white",
            "linecolor": "white",
            "ticks": ""
           }
          },
          "scene": {
           "xaxis": {
            "backgroundcolor": "#E5ECF6",
            "gridcolor": "white",
            "gridwidth": 2,
            "linecolor": "white",
            "showbackground": true,
            "ticks": "",
            "zerolinecolor": "white"
           },
           "yaxis": {
            "backgroundcolor": "#E5ECF6",
            "gridcolor": "white",
            "gridwidth": 2,
            "linecolor": "white",
            "showbackground": true,
            "ticks": "",
            "zerolinecolor": "white"
           },
           "zaxis": {
            "backgroundcolor": "#E5ECF6",
            "gridcolor": "white",
            "gridwidth": 2,
            "linecolor": "white",
            "showbackground": true,
            "ticks": "",
            "zerolinecolor": "white"
           }
          },
          "shapedefaults": {
           "line": {
            "color": "#2a3f5f"
           }
          },
          "ternary": {
           "aaxis": {
            "gridcolor": "white",
            "linecolor": "white",
            "ticks": ""
           },
           "baxis": {
            "gridcolor": "white",
            "linecolor": "white",
            "ticks": ""
           },
           "bgcolor": "#E5ECF6",
           "caxis": {
            "gridcolor": "white",
            "linecolor": "white",
            "ticks": ""
           }
          },
          "title": {
           "x": 0.05
          },
          "xaxis": {
           "automargin": true,
           "gridcolor": "white",
           "linecolor": "white",
           "ticks": "",
           "title": {
            "standoff": 15
           },
           "zerolinecolor": "white",
           "zerolinewidth": 2
          },
          "yaxis": {
           "automargin": true,
           "gridcolor": "white",
           "linecolor": "white",
           "ticks": "",
           "title": {
            "standoff": 15
           },
           "zerolinecolor": "white",
           "zerolinewidth": 2
          }
         }
        },
        "title": {
         "font": {
          "size": 20
         },
         "text": "Monthly Income vs. Age (Colored by Gender, Sized by Family Size)"
        },
        "xaxis": {
         "anchor": "y",
         "domain": [
          0,
          1
         ],
         "title": {
          "font": {
           "size": 16
          },
          "text": "Monthly Income"
         }
        },
        "yaxis": {
         "anchor": "x",
         "domain": [
          0,
          1
         ],
         "title": {
          "font": {
           "size": 16
          },
          "text": "Age"
         }
        }
       }
      }
     },
     "metadata": {},
     "output_type": "display_data"
    }
   ],
   "source": [
    "fig = px.scatter(data, x='Monthly Income', y='Age', color='Gender', size='Family size',\n",
    "                 hover_data=['Occupation', 'Marital Status', 'Educational Qualifications'],\n",
    "                 title='Monthly Income vs. Age (Colored by Gender, Sized by Family Size)',\n",
    "                 labels={'Monthly Income': 'Monthly Income', 'Age': 'Age', 'Family size': 'Family Size'},\n",
    "                 color_discrete_map={'Male': 'blue', 'Female': 'red'})\n",
    "\n",
    "# Customize layout\n",
    "fig.update_layout(\n",
    "    title=dict(font=dict(size=20)),\n",
    "    xaxis=dict(title=dict(font=dict(size=16))),\n",
    "    yaxis=dict(title=dict(font=dict(size=16))),\n",
    "    legend=dict(title=dict(font=dict(size=16))),\n",
    "    hoverlabel=dict(font=dict(size=14))\n",
    ")\n",
    "\n",
    "# Show the plot\n",
    "fig.show()"
   ]
  },
  {
   "cell_type": "markdown",
   "metadata": {},
   "source": [
    "### **Visualize the distribution of educational qualifications by gender**"
   ]
  },
  {
   "cell_type": "code",
   "execution_count": 24,
   "metadata": {},
   "outputs": [
    {
     "data": {
      "application/vnd.plotly.v1+json": {
       "config": {
        "plotlyServerURL": "https://plot.ly"
       },
       "data": [
        {
         "alignmentgroup": "True",
         "hovertemplate": "Gender=Female<br>Educational Qualifications=%{x}<br>Count=%{y}<extra></extra>",
         "legendgroup": "Female",
         "marker": {
          "color": "#636efa",
          "pattern": {
           "shape": ""
          }
         },
         "name": "Female",
         "offsetgroup": "Female",
         "orientation": "v",
         "showlegend": true,
         "textposition": "auto",
         "type": "bar",
         "x": [
          "Post Graduate",
          "Graduate",
          "Graduate",
          "Post Graduate",
          "Post Graduate",
          "Post Graduate",
          "Post Graduate",
          "Post Graduate",
          "Post Graduate",
          "Post Graduate",
          "Post Graduate",
          "Graduate",
          "Post Graduate",
          "Graduate",
          "Post Graduate",
          "Graduate",
          "Graduate",
          "Post Graduate",
          "Post Graduate",
          "Graduate",
          "Post Graduate",
          "Post Graduate",
          "Post Graduate",
          "Post Graduate",
          "Post Graduate",
          "Graduate",
          "Post Graduate",
          "Graduate",
          "Post Graduate",
          "Graduate",
          "Post Graduate",
          "Graduate",
          "Post Graduate",
          "Post Graduate",
          "Post Graduate",
          "Ph.D",
          "Post Graduate",
          "Post Graduate",
          "Post Graduate",
          "Post Graduate",
          "Post Graduate",
          "Post Graduate",
          "Post Graduate",
          "Post Graduate",
          "Graduate",
          "Graduate",
          "Uneducated",
          "Post Graduate",
          "Graduate",
          "Ph.D",
          "Graduate",
          "Graduate",
          "School",
          "Graduate",
          "Graduate",
          "Post Graduate",
          "Graduate",
          "Post Graduate",
          "Graduate",
          "Graduate",
          "Post Graduate",
          "Graduate",
          "Post Graduate",
          "Graduate",
          "School",
          "Post Graduate",
          "Post Graduate",
          "Graduate",
          "Post Graduate",
          "Graduate",
          "Graduate",
          "Graduate",
          "Ph.D",
          "Post Graduate",
          "Ph.D",
          "Post Graduate",
          "Graduate",
          "Post Graduate",
          "Graduate",
          "Graduate",
          "School",
          "Post Graduate",
          "Ph.D",
          "Graduate",
          "Graduate",
          "School",
          "Graduate",
          "Graduate",
          "Ph.D",
          "Graduate",
          "Graduate",
          "Post Graduate",
          "Graduate",
          "Graduate",
          "Post Graduate",
          "Graduate",
          "Post Graduate",
          "Post Graduate",
          "Graduate",
          "Post Graduate",
          "Post Graduate",
          "Graduate",
          "Post Graduate",
          "Graduate",
          "Post Graduate",
          "Ph.D",
          "School",
          "Post Graduate",
          "Post Graduate",
          "Graduate",
          "Graduate",
          "Post Graduate",
          "Post Graduate",
          "Graduate",
          "Post Graduate",
          "Post Graduate",
          "Graduate",
          "Graduate",
          "Graduate",
          "Graduate",
          "Post Graduate",
          "Ph.D",
          "Graduate",
          "Graduate",
          "Post Graduate",
          "Graduate",
          "Graduate",
          "Graduate",
          "Post Graduate",
          "Graduate",
          "Post Graduate",
          "Ph.D",
          "Post Graduate",
          "Graduate",
          "Post Graduate",
          "Post Graduate",
          "Post Graduate",
          "Post Graduate",
          "Post Graduate",
          "Post Graduate",
          "Post Graduate",
          "Graduate",
          "Post Graduate",
          "Post Graduate",
          "Graduate",
          "Graduate",
          "Ph.D",
          "Graduate",
          "Graduate",
          "Post Graduate",
          "Graduate",
          "Ph.D",
          "Graduate",
          "Graduate",
          "Graduate",
          "Post Graduate",
          "Post Graduate",
          "Graduate",
          "Post Graduate",
          "Graduate",
          "Post Graduate",
          "Post Graduate",
          "Post Graduate",
          "Post Graduate",
          "Post Graduate",
          "Post Graduate"
         ],
         "xaxis": "x",
         "y": [
          1,
          1,
          1,
          1,
          1,
          1,
          1,
          1,
          1,
          1,
          1,
          1,
          1,
          1,
          1,
          1,
          1,
          1,
          1,
          1,
          1,
          1,
          1,
          1,
          1,
          1,
          1,
          1,
          1,
          1,
          1,
          1,
          1,
          1,
          1,
          1,
          1,
          1,
          1,
          1,
          1,
          1,
          1,
          1,
          1,
          1,
          1,
          1,
          1,
          1,
          1,
          1,
          1,
          1,
          1,
          1,
          1,
          1,
          1,
          1,
          1,
          1,
          1,
          1,
          1,
          1,
          1,
          1,
          1,
          1,
          1,
          1,
          1,
          1,
          1,
          1,
          1,
          1,
          1,
          1,
          1,
          1,
          1,
          1,
          1,
          1,
          1,
          1,
          1,
          1,
          1,
          1,
          1,
          1,
          1,
          1,
          1,
          1,
          1,
          1,
          1,
          1,
          1,
          1,
          1,
          1,
          1,
          1,
          1,
          1,
          1,
          1,
          1,
          1,
          1,
          1,
          1,
          1,
          1,
          1,
          1,
          1,
          1,
          1,
          1,
          1,
          1,
          1,
          1,
          1,
          1,
          1,
          1,
          1,
          1,
          1,
          1,
          1,
          1,
          1,
          1,
          1,
          1,
          1,
          1,
          1,
          1,
          1,
          1,
          1,
          1,
          1,
          1,
          1,
          1,
          1,
          1,
          1,
          1,
          1,
          1,
          1,
          1,
          1,
          1,
          1
         ],
         "yaxis": "y"
        },
        {
         "alignmentgroup": "True",
         "hovertemplate": "Gender=Male<br>Educational Qualifications=%{x}<br>Count=%{y}<extra></extra>",
         "legendgroup": "Male",
         "marker": {
          "color": "#EF553B",
          "pattern": {
           "shape": ""
          }
         },
         "name": "Male",
         "offsetgroup": "Male",
         "orientation": "v",
         "showlegend": true,
         "textposition": "auto",
         "type": "bar",
         "x": [
          "Post Graduate",
          "Post Graduate",
          "Graduate",
          "Post Graduate",
          "Post Graduate",
          "Graduate",
          "Graduate",
          "Post Graduate",
          "Post Graduate",
          "Graduate",
          "Post Graduate",
          "Post Graduate",
          "Post Graduate",
          "Post Graduate",
          "Post Graduate",
          "Ph.D",
          "Post Graduate",
          "Post Graduate",
          "Uneducated",
          "Graduate",
          "Post Graduate",
          "Graduate",
          "Post Graduate",
          "Post Graduate",
          "Post Graduate",
          "Post Graduate",
          "Ph.D",
          "Post Graduate",
          "Post Graduate",
          "Post Graduate",
          "Post Graduate",
          "Graduate",
          "Post Graduate",
          "Graduate",
          "Graduate",
          "Post Graduate",
          "Post Graduate",
          "Post Graduate",
          "Graduate",
          "Post Graduate",
          "Post Graduate",
          "Post Graduate",
          "Post Graduate",
          "Post Graduate",
          "Post Graduate",
          "Graduate",
          "Post Graduate",
          "Graduate",
          "Ph.D",
          "Post Graduate",
          "Post Graduate",
          "Graduate",
          "Graduate",
          "Post Graduate",
          "Graduate",
          "Graduate",
          "Post Graduate",
          "Post Graduate",
          "Graduate",
          "Graduate",
          "Post Graduate",
          "Post Graduate",
          "Post Graduate",
          "Post Graduate",
          "Ph.D",
          "Graduate",
          "Graduate",
          "Ph.D",
          "Ph.D",
          "Post Graduate",
          "Post Graduate",
          "Post Graduate",
          "Post Graduate",
          "Post Graduate",
          "Graduate",
          "Graduate",
          "Ph.D",
          "Post Graduate",
          "Graduate",
          "Post Graduate",
          "Post Graduate",
          "Post Graduate",
          "Graduate",
          "Post Graduate",
          "Post Graduate",
          "Graduate",
          "Graduate",
          "Post Graduate",
          "Ph.D",
          "Graduate",
          "Post Graduate",
          "Graduate",
          "Post Graduate",
          "Ph.D",
          "School",
          "Graduate",
          "Post Graduate",
          "Post Graduate",
          "Graduate",
          "Graduate",
          "Post Graduate",
          "Post Graduate",
          "Graduate",
          "Graduate",
          "Post Graduate",
          "Post Graduate",
          "Graduate",
          "School",
          "Post Graduate",
          "Post Graduate",
          "Graduate",
          "Graduate",
          "Post Graduate",
          "Post Graduate",
          "Post Graduate",
          "Graduate",
          "Graduate",
          "Graduate",
          "Graduate",
          "Graduate",
          "Graduate",
          "Graduate",
          "Graduate",
          "School",
          "Post Graduate",
          "Graduate",
          "Graduate",
          "Graduate",
          "Post Graduate",
          "Post Graduate",
          "Graduate",
          "Graduate",
          "Graduate",
          "Post Graduate",
          "Ph.D",
          "Graduate",
          "Graduate",
          "Graduate",
          "Graduate",
          "Post Graduate",
          "Graduate",
          "Graduate",
          "Graduate",
          "School",
          "Graduate",
          "Graduate",
          "Graduate",
          "Graduate",
          "Graduate",
          "Post Graduate",
          "School",
          "Post Graduate",
          "Graduate",
          "Graduate",
          "Post Graduate",
          "Graduate",
          "Graduate",
          "Graduate",
          "Graduate",
          "Graduate",
          "Post Graduate",
          "Graduate",
          "Graduate",
          "Graduate",
          "Post Graduate",
          "Graduate",
          "Post Graduate",
          "Post Graduate",
          "Post Graduate",
          "Graduate",
          "Post Graduate",
          "Graduate",
          "Post Graduate",
          "Post Graduate",
          "Graduate",
          "Graduate",
          "Graduate",
          "Post Graduate",
          "Ph.D",
          "Graduate",
          "Graduate",
          "Graduate",
          "Graduate",
          "Post Graduate",
          "Graduate",
          "Graduate",
          "Graduate",
          "Graduate",
          "Graduate",
          "Graduate",
          "Graduate",
          "Graduate",
          "School",
          "Post Graduate",
          "Graduate",
          "Graduate",
          "Graduate",
          "Graduate",
          "Graduate",
          "Graduate",
          "Graduate",
          "Graduate",
          "Post Graduate",
          "Graduate",
          "Graduate",
          "Graduate",
          "Post Graduate",
          "Ph.D",
          "Graduate",
          "Graduate",
          "Graduate",
          "Graduate",
          "Post Graduate",
          "Graduate",
          "Graduate",
          "Graduate",
          "School",
          "Graduate",
          "Post Graduate",
          "Graduate",
          "Post Graduate",
          "Post Graduate"
         ],
         "xaxis": "x",
         "y": [
          1,
          1,
          1,
          1,
          1,
          1,
          1,
          1,
          1,
          1,
          1,
          1,
          1,
          1,
          1,
          1,
          1,
          1,
          1,
          1,
          1,
          1,
          1,
          1,
          1,
          1,
          1,
          1,
          1,
          1,
          1,
          1,
          1,
          1,
          1,
          1,
          1,
          1,
          1,
          1,
          1,
          1,
          1,
          1,
          1,
          1,
          1,
          1,
          1,
          1,
          1,
          1,
          1,
          1,
          1,
          1,
          1,
          1,
          1,
          1,
          1,
          1,
          1,
          1,
          1,
          1,
          1,
          1,
          1,
          1,
          1,
          1,
          1,
          1,
          1,
          1,
          1,
          1,
          1,
          1,
          1,
          1,
          1,
          1,
          1,
          1,
          1,
          1,
          1,
          1,
          1,
          1,
          1,
          1,
          1,
          1,
          1,
          1,
          1,
          1,
          1,
          1,
          1,
          1,
          1,
          1,
          1,
          1,
          1,
          1,
          1,
          1,
          1,
          1,
          1,
          1,
          1,
          1,
          1,
          1,
          1,
          1,
          1,
          1,
          1,
          1,
          1,
          1,
          1,
          1,
          1,
          1,
          1,
          1,
          1,
          1,
          1,
          1,
          1,
          1,
          1,
          1,
          1,
          1,
          1,
          1,
          1,
          1,
          1,
          1,
          1,
          1,
          1,
          1,
          1,
          1,
          1,
          1,
          1,
          1,
          1,
          1,
          1,
          1,
          1,
          1,
          1,
          1,
          1,
          1,
          1,
          1,
          1,
          1,
          1,
          1,
          1,
          1,
          1,
          1,
          1,
          1,
          1,
          1,
          1,
          1,
          1,
          1,
          1,
          1,
          1,
          1,
          1,
          1,
          1,
          1,
          1,
          1,
          1,
          1,
          1,
          1,
          1,
          1,
          1,
          1,
          1,
          1,
          1,
          1,
          1,
          1,
          1,
          1,
          1,
          1,
          1,
          1,
          1,
          1,
          1,
          1
         ],
         "yaxis": "y"
        }
       ],
       "layout": {
        "barmode": "relative",
        "legend": {
         "title": {
          "font": {
           "size": 16
          },
          "text": "Gender"
         },
         "tracegroupgap": 0
        },
        "template": {
         "data": {
          "bar": [
           {
            "error_x": {
             "color": "#2a3f5f"
            },
            "error_y": {
             "color": "#2a3f5f"
            },
            "marker": {
             "line": {
              "color": "#E5ECF6",
              "width": 0.5
             },
             "pattern": {
              "fillmode": "overlay",
              "size": 10,
              "solidity": 0.2
             }
            },
            "type": "bar"
           }
          ],
          "barpolar": [
           {
            "marker": {
             "line": {
              "color": "#E5ECF6",
              "width": 0.5
             },
             "pattern": {
              "fillmode": "overlay",
              "size": 10,
              "solidity": 0.2
             }
            },
            "type": "barpolar"
           }
          ],
          "carpet": [
           {
            "aaxis": {
             "endlinecolor": "#2a3f5f",
             "gridcolor": "white",
             "linecolor": "white",
             "minorgridcolor": "white",
             "startlinecolor": "#2a3f5f"
            },
            "baxis": {
             "endlinecolor": "#2a3f5f",
             "gridcolor": "white",
             "linecolor": "white",
             "minorgridcolor": "white",
             "startlinecolor": "#2a3f5f"
            },
            "type": "carpet"
           }
          ],
          "choropleth": [
           {
            "colorbar": {
             "outlinewidth": 0,
             "ticks": ""
            },
            "type": "choropleth"
           }
          ],
          "contour": [
           {
            "colorbar": {
             "outlinewidth": 0,
             "ticks": ""
            },
            "colorscale": [
             [
              0,
              "#0d0887"
             ],
             [
              0.1111111111111111,
              "#46039f"
             ],
             [
              0.2222222222222222,
              "#7201a8"
             ],
             [
              0.3333333333333333,
              "#9c179e"
             ],
             [
              0.4444444444444444,
              "#bd3786"
             ],
             [
              0.5555555555555556,
              "#d8576b"
             ],
             [
              0.6666666666666666,
              "#ed7953"
             ],
             [
              0.7777777777777778,
              "#fb9f3a"
             ],
             [
              0.8888888888888888,
              "#fdca26"
             ],
             [
              1,
              "#f0f921"
             ]
            ],
            "type": "contour"
           }
          ],
          "contourcarpet": [
           {
            "colorbar": {
             "outlinewidth": 0,
             "ticks": ""
            },
            "type": "contourcarpet"
           }
          ],
          "heatmap": [
           {
            "colorbar": {
             "outlinewidth": 0,
             "ticks": ""
            },
            "colorscale": [
             [
              0,
              "#0d0887"
             ],
             [
              0.1111111111111111,
              "#46039f"
             ],
             [
              0.2222222222222222,
              "#7201a8"
             ],
             [
              0.3333333333333333,
              "#9c179e"
             ],
             [
              0.4444444444444444,
              "#bd3786"
             ],
             [
              0.5555555555555556,
              "#d8576b"
             ],
             [
              0.6666666666666666,
              "#ed7953"
             ],
             [
              0.7777777777777778,
              "#fb9f3a"
             ],
             [
              0.8888888888888888,
              "#fdca26"
             ],
             [
              1,
              "#f0f921"
             ]
            ],
            "type": "heatmap"
           }
          ],
          "heatmapgl": [
           {
            "colorbar": {
             "outlinewidth": 0,
             "ticks": ""
            },
            "colorscale": [
             [
              0,
              "#0d0887"
             ],
             [
              0.1111111111111111,
              "#46039f"
             ],
             [
              0.2222222222222222,
              "#7201a8"
             ],
             [
              0.3333333333333333,
              "#9c179e"
             ],
             [
              0.4444444444444444,
              "#bd3786"
             ],
             [
              0.5555555555555556,
              "#d8576b"
             ],
             [
              0.6666666666666666,
              "#ed7953"
             ],
             [
              0.7777777777777778,
              "#fb9f3a"
             ],
             [
              0.8888888888888888,
              "#fdca26"
             ],
             [
              1,
              "#f0f921"
             ]
            ],
            "type": "heatmapgl"
           }
          ],
          "histogram": [
           {
            "marker": {
             "pattern": {
              "fillmode": "overlay",
              "size": 10,
              "solidity": 0.2
             }
            },
            "type": "histogram"
           }
          ],
          "histogram2d": [
           {
            "colorbar": {
             "outlinewidth": 0,
             "ticks": ""
            },
            "colorscale": [
             [
              0,
              "#0d0887"
             ],
             [
              0.1111111111111111,
              "#46039f"
             ],
             [
              0.2222222222222222,
              "#7201a8"
             ],
             [
              0.3333333333333333,
              "#9c179e"
             ],
             [
              0.4444444444444444,
              "#bd3786"
             ],
             [
              0.5555555555555556,
              "#d8576b"
             ],
             [
              0.6666666666666666,
              "#ed7953"
             ],
             [
              0.7777777777777778,
              "#fb9f3a"
             ],
             [
              0.8888888888888888,
              "#fdca26"
             ],
             [
              1,
              "#f0f921"
             ]
            ],
            "type": "histogram2d"
           }
          ],
          "histogram2dcontour": [
           {
            "colorbar": {
             "outlinewidth": 0,
             "ticks": ""
            },
            "colorscale": [
             [
              0,
              "#0d0887"
             ],
             [
              0.1111111111111111,
              "#46039f"
             ],
             [
              0.2222222222222222,
              "#7201a8"
             ],
             [
              0.3333333333333333,
              "#9c179e"
             ],
             [
              0.4444444444444444,
              "#bd3786"
             ],
             [
              0.5555555555555556,
              "#d8576b"
             ],
             [
              0.6666666666666666,
              "#ed7953"
             ],
             [
              0.7777777777777778,
              "#fb9f3a"
             ],
             [
              0.8888888888888888,
              "#fdca26"
             ],
             [
              1,
              "#f0f921"
             ]
            ],
            "type": "histogram2dcontour"
           }
          ],
          "mesh3d": [
           {
            "colorbar": {
             "outlinewidth": 0,
             "ticks": ""
            },
            "type": "mesh3d"
           }
          ],
          "parcoords": [
           {
            "line": {
             "colorbar": {
              "outlinewidth": 0,
              "ticks": ""
             }
            },
            "type": "parcoords"
           }
          ],
          "pie": [
           {
            "automargin": true,
            "type": "pie"
           }
          ],
          "scatter": [
           {
            "fillpattern": {
             "fillmode": "overlay",
             "size": 10,
             "solidity": 0.2
            },
            "type": "scatter"
           }
          ],
          "scatter3d": [
           {
            "line": {
             "colorbar": {
              "outlinewidth": 0,
              "ticks": ""
             }
            },
            "marker": {
             "colorbar": {
              "outlinewidth": 0,
              "ticks": ""
             }
            },
            "type": "scatter3d"
           }
          ],
          "scattercarpet": [
           {
            "marker": {
             "colorbar": {
              "outlinewidth": 0,
              "ticks": ""
             }
            },
            "type": "scattercarpet"
           }
          ],
          "scattergeo": [
           {
            "marker": {
             "colorbar": {
              "outlinewidth": 0,
              "ticks": ""
             }
            },
            "type": "scattergeo"
           }
          ],
          "scattergl": [
           {
            "marker": {
             "colorbar": {
              "outlinewidth": 0,
              "ticks": ""
             }
            },
            "type": "scattergl"
           }
          ],
          "scattermapbox": [
           {
            "marker": {
             "colorbar": {
              "outlinewidth": 0,
              "ticks": ""
             }
            },
            "type": "scattermapbox"
           }
          ],
          "scatterpolar": [
           {
            "marker": {
             "colorbar": {
              "outlinewidth": 0,
              "ticks": ""
             }
            },
            "type": "scatterpolar"
           }
          ],
          "scatterpolargl": [
           {
            "marker": {
             "colorbar": {
              "outlinewidth": 0,
              "ticks": ""
             }
            },
            "type": "scatterpolargl"
           }
          ],
          "scatterternary": [
           {
            "marker": {
             "colorbar": {
              "outlinewidth": 0,
              "ticks": ""
             }
            },
            "type": "scatterternary"
           }
          ],
          "surface": [
           {
            "colorbar": {
             "outlinewidth": 0,
             "ticks": ""
            },
            "colorscale": [
             [
              0,
              "#0d0887"
             ],
             [
              0.1111111111111111,
              "#46039f"
             ],
             [
              0.2222222222222222,
              "#7201a8"
             ],
             [
              0.3333333333333333,
              "#9c179e"
             ],
             [
              0.4444444444444444,
              "#bd3786"
             ],
             [
              0.5555555555555556,
              "#d8576b"
             ],
             [
              0.6666666666666666,
              "#ed7953"
             ],
             [
              0.7777777777777778,
              "#fb9f3a"
             ],
             [
              0.8888888888888888,
              "#fdca26"
             ],
             [
              1,
              "#f0f921"
             ]
            ],
            "type": "surface"
           }
          ],
          "table": [
           {
            "cells": {
             "fill": {
              "color": "#EBF0F8"
             },
             "line": {
              "color": "white"
             }
            },
            "header": {
             "fill": {
              "color": "#C8D4E3"
             },
             "line": {
              "color": "white"
             }
            },
            "type": "table"
           }
          ]
         },
         "layout": {
          "annotationdefaults": {
           "arrowcolor": "#2a3f5f",
           "arrowhead": 0,
           "arrowwidth": 1
          },
          "autotypenumbers": "strict",
          "coloraxis": {
           "colorbar": {
            "outlinewidth": 0,
            "ticks": ""
           }
          },
          "colorscale": {
           "diverging": [
            [
             0,
             "#8e0152"
            ],
            [
             0.1,
             "#c51b7d"
            ],
            [
             0.2,
             "#de77ae"
            ],
            [
             0.3,
             "#f1b6da"
            ],
            [
             0.4,
             "#fde0ef"
            ],
            [
             0.5,
             "#f7f7f7"
            ],
            [
             0.6,
             "#e6f5d0"
            ],
            [
             0.7,
             "#b8e186"
            ],
            [
             0.8,
             "#7fbc41"
            ],
            [
             0.9,
             "#4d9221"
            ],
            [
             1,
             "#276419"
            ]
           ],
           "sequential": [
            [
             0,
             "#0d0887"
            ],
            [
             0.1111111111111111,
             "#46039f"
            ],
            [
             0.2222222222222222,
             "#7201a8"
            ],
            [
             0.3333333333333333,
             "#9c179e"
            ],
            [
             0.4444444444444444,
             "#bd3786"
            ],
            [
             0.5555555555555556,
             "#d8576b"
            ],
            [
             0.6666666666666666,
             "#ed7953"
            ],
            [
             0.7777777777777778,
             "#fb9f3a"
            ],
            [
             0.8888888888888888,
             "#fdca26"
            ],
            [
             1,
             "#f0f921"
            ]
           ],
           "sequentialminus": [
            [
             0,
             "#0d0887"
            ],
            [
             0.1111111111111111,
             "#46039f"
            ],
            [
             0.2222222222222222,
             "#7201a8"
            ],
            [
             0.3333333333333333,
             "#9c179e"
            ],
            [
             0.4444444444444444,
             "#bd3786"
            ],
            [
             0.5555555555555556,
             "#d8576b"
            ],
            [
             0.6666666666666666,
             "#ed7953"
            ],
            [
             0.7777777777777778,
             "#fb9f3a"
            ],
            [
             0.8888888888888888,
             "#fdca26"
            ],
            [
             1,
             "#f0f921"
            ]
           ]
          },
          "colorway": [
           "#636efa",
           "#EF553B",
           "#00cc96",
           "#ab63fa",
           "#FFA15A",
           "#19d3f3",
           "#FF6692",
           "#B6E880",
           "#FF97FF",
           "#FECB52"
          ],
          "font": {
           "color": "#2a3f5f"
          },
          "geo": {
           "bgcolor": "white",
           "lakecolor": "white",
           "landcolor": "#E5ECF6",
           "showlakes": true,
           "showland": true,
           "subunitcolor": "white"
          },
          "hoverlabel": {
           "align": "left"
          },
          "hovermode": "closest",
          "mapbox": {
           "style": "light"
          },
          "paper_bgcolor": "white",
          "plot_bgcolor": "#E5ECF6",
          "polar": {
           "angularaxis": {
            "gridcolor": "white",
            "linecolor": "white",
            "ticks": ""
           },
           "bgcolor": "#E5ECF6",
           "radialaxis": {
            "gridcolor": "white",
            "linecolor": "white",
            "ticks": ""
           }
          },
          "scene": {
           "xaxis": {
            "backgroundcolor": "#E5ECF6",
            "gridcolor": "white",
            "gridwidth": 2,
            "linecolor": "white",
            "showbackground": true,
            "ticks": "",
            "zerolinecolor": "white"
           },
           "yaxis": {
            "backgroundcolor": "#E5ECF6",
            "gridcolor": "white",
            "gridwidth": 2,
            "linecolor": "white",
            "showbackground": true,
            "ticks": "",
            "zerolinecolor": "white"
           },
           "zaxis": {
            "backgroundcolor": "#E5ECF6",
            "gridcolor": "white",
            "gridwidth": 2,
            "linecolor": "white",
            "showbackground": true,
            "ticks": "",
            "zerolinecolor": "white"
           }
          },
          "shapedefaults": {
           "line": {
            "color": "#2a3f5f"
           }
          },
          "ternary": {
           "aaxis": {
            "gridcolor": "white",
            "linecolor": "white",
            "ticks": ""
           },
           "baxis": {
            "gridcolor": "white",
            "linecolor": "white",
            "ticks": ""
           },
           "bgcolor": "#E5ECF6",
           "caxis": {
            "gridcolor": "white",
            "linecolor": "white",
            "ticks": ""
           }
          },
          "title": {
           "x": 0.05
          },
          "xaxis": {
           "automargin": true,
           "gridcolor": "white",
           "linecolor": "white",
           "ticks": "",
           "title": {
            "standoff": 15
           },
           "zerolinecolor": "white",
           "zerolinewidth": 2
          },
          "yaxis": {
           "automargin": true,
           "gridcolor": "white",
           "linecolor": "white",
           "ticks": "",
           "title": {
            "standoff": 15
           },
           "zerolinecolor": "white",
           "zerolinewidth": 2
          }
         }
        },
        "title": {
         "font": {
          "size": 20
         },
         "text": "Distribution of Educational Qualifications by Gender"
        },
        "xaxis": {
         "anchor": "y",
         "domain": [
          0,
          1
         ],
         "title": {
          "font": {
           "size": 16
          },
          "text": "Educational Qualifications"
         }
        },
        "yaxis": {
         "anchor": "x",
         "domain": [
          0,
          1
         ],
         "title": {
          "font": {
           "size": 16
          },
          "text": "Count"
         }
        }
       }
      }
     },
     "metadata": {},
     "output_type": "display_data"
    }
   ],
   "source": [
    "fig = px.bar(data, x='Educational Qualifications', color='Gender', \n",
    "             title='Distribution of Educational Qualifications by Gender',\n",
    "             labels={'Educational Qualifications': 'Educational Qualifications', 'Gender': 'Gender', 'count': 'Count'})\n",
    "\n",
    "# Customize layout\n",
    "fig.update_layout(\n",
    "    title=dict(font=dict(size=20)),\n",
    "    xaxis=dict(title=dict(font=dict(size=16))),\n",
    "    yaxis=dict(title=dict(font=dict(size=16))),\n",
    "    legend=dict(title=dict(font=dict(size=16))),\n",
    ")\n",
    "\n",
    "# Show the plot\n",
    "fig.show()"
   ]
  },
  {
   "cell_type": "markdown",
   "metadata": {},
   "source": [
    "### **Monthly Income Distribution by Occupation (Colored by Gender)**"
   ]
  },
  {
   "cell_type": "code",
   "execution_count": 25,
   "metadata": {},
   "outputs": [
    {
     "data": {
      "application/vnd.plotly.v1+json": {
       "config": {
        "plotlyServerURL": "https://plot.ly"
       },
       "data": [
        {
         "alignmentgroup": "True",
         "hovertemplate": "Gender=Female<br>Occupation=%{x}<br>Monthly Income=%{y}<extra></extra>",
         "legendgroup": "Female",
         "marker": {
          "color": "#636efa"
         },
         "name": "Female",
         "notched": false,
         "offsetgroup": "Female",
         "orientation": "v",
         "showlegend": true,
         "type": "box",
         "x": [
          "Student",
          "Student",
          "Student",
          "Employee",
          "Student",
          "Student",
          "Student",
          "Student",
          "Self Employeed",
          "Student",
          "Employee",
          "Student",
          "Student",
          "Student",
          "Student",
          "Employee",
          "Employee",
          "Student",
          "Student",
          "House wife",
          "Student",
          "Student",
          "Student",
          "Self Employeed",
          "Student",
          "Student",
          "Student",
          "Student",
          "Student",
          "Student",
          "Student",
          "Student",
          "Student",
          "Student",
          "Student",
          "Employee",
          "Student",
          "Student",
          "Student",
          "Student",
          "Student",
          "Student",
          "Employee",
          "Student",
          "Student",
          "Student",
          "House wife",
          "Student",
          "Employee",
          "Student",
          "Student",
          "Employee",
          "House wife",
          "Employee",
          "Self Employeed",
          "Self Employeed",
          "Self Employeed",
          "Student",
          "Employee",
          "Student",
          "Employee",
          "Employee",
          "Student",
          "Student",
          "House wife",
          "Student",
          "Student",
          "Self Employeed",
          "Student",
          "House wife",
          "Student",
          "Employee",
          "Student",
          "Student",
          "Student",
          "Student",
          "Employee",
          "Self Employeed",
          "Employee",
          "Employee",
          "House wife",
          "Employee",
          "Employee",
          "Self Employeed",
          "Student",
          "House wife",
          "Student",
          "Employee",
          "Student",
          "Student",
          "Employee",
          "Employee",
          "House wife",
          "Self Employeed",
          "Student",
          "Student",
          "Student",
          "Student",
          "Self Employeed",
          "Self Employeed",
          "Student",
          "Student",
          "Student",
          "Employee",
          "Employee",
          "Employee",
          "House wife",
          "Employee",
          "Employee",
          "Employee",
          "Employee",
          "Employee",
          "Employee",
          "Employee",
          "Employee",
          "Student",
          "Student",
          "Employee",
          "Student",
          "Employee",
          "Employee",
          "Student",
          "Student",
          "Employee",
          "Student",
          "Student",
          "Self Employeed",
          "Employee",
          "Student",
          "Employee",
          "Employee",
          "Student",
          "Employee",
          "Student",
          "Employee",
          "Student",
          "Student",
          "Student",
          "Student",
          "Student",
          "Student",
          "Self Employeed",
          "Self Employeed",
          "Student",
          "Student",
          "Employee",
          "Student",
          "Student",
          "Employee",
          "Employee",
          "Employee",
          "Student",
          "Student",
          "Employee",
          "Self Employeed",
          "Self Employeed",
          "Student",
          "Student",
          "Student",
          "Employee",
          "Employee",
          "Employee",
          "Student",
          "Student",
          "Student",
          "Student"
         ],
         "x0": " ",
         "xaxis": "x",
         "y": [
          "No Income",
          "Below Rs.10000",
          "No Income",
          "More than 50000",
          "No Income",
          "No Income",
          "No Income",
          "No Income",
          "10001 to 25000",
          "No Income",
          "25001 to 50000",
          "No Income",
          "Below Rs.10000",
          "No Income",
          "No Income",
          "10001 to 25000",
          "10001 to 25000",
          "10001 to 25000",
          "No Income",
          "No Income",
          "No Income",
          "No Income",
          "No Income",
          "10001 to 25000",
          "No Income",
          "No Income",
          "10001 to 25000",
          "No Income",
          "No Income",
          "No Income",
          "No Income",
          "No Income",
          "No Income",
          "No Income",
          "No Income",
          "More than 50000",
          "10001 to 25000",
          "No Income",
          "25001 to 50000",
          "No Income",
          "No Income",
          "No Income",
          "25001 to 50000",
          "No Income",
          "No Income",
          "No Income",
          "No Income",
          "10001 to 25000",
          "10001 to 25000",
          "No Income",
          "No Income",
          "25001 to 50000",
          "No Income",
          "25001 to 50000",
          "More than 50000",
          "25001 to 50000",
          "25001 to 50000",
          "No Income",
          "More than 50000",
          "No Income",
          "25001 to 50000",
          "More than 50000",
          "Below Rs.10000",
          "No Income",
          "No Income",
          "No Income",
          "No Income",
          "10001 to 25000",
          "No Income",
          "No Income",
          "No Income",
          "25001 to 50000",
          "No Income",
          "No Income",
          "Below Rs.10000",
          "No Income",
          "10001 to 25000",
          "25001 to 50000",
          "More than 50000",
          "25001 to 50000",
          "No Income",
          "25001 to 50000",
          "More than 50000",
          "More than 50000",
          "No Income",
          "No Income",
          "No Income",
          "25001 to 50000",
          "No Income",
          "No Income",
          "25001 to 50000",
          "10001 to 25000",
          "No Income",
          "25001 to 50000",
          "No Income",
          "No Income",
          "No Income",
          "No Income",
          "10001 to 25000",
          "25001 to 50000",
          "No Income",
          "No Income",
          "No Income",
          "Below Rs.10000",
          "25001 to 50000",
          "25001 to 50000",
          "No Income",
          "25001 to 50000",
          "25001 to 50000",
          "10001 to 25000",
          "25001 to 50000",
          "25001 to 50000",
          "25001 to 50000",
          "Below Rs.10000",
          "10001 to 25000",
          "No Income",
          "No Income",
          "10001 to 25000",
          "No Income",
          "25001 to 50000",
          "10001 to 25000",
          "No Income",
          "10001 to 25000",
          "25001 to 50000",
          "No Income",
          "No Income",
          "More than 50000",
          "25001 to 50000",
          "No Income",
          "More than 50000",
          "25001 to 50000",
          "Below Rs.10000",
          "More than 50000",
          "No Income",
          "More than 50000",
          "No Income",
          "No Income",
          "No Income",
          "No Income",
          "No Income",
          "No Income",
          "10001 to 25000",
          "25001 to 50000",
          "No Income",
          "No Income",
          "25001 to 50000",
          "No Income",
          "No Income",
          "25001 to 50000",
          "10001 to 25000",
          "25001 to 50000",
          "No Income",
          "No Income",
          "25001 to 50000",
          "10001 to 25000",
          "25001 to 50000",
          "No Income",
          "No Income",
          "No Income",
          "Below Rs.10000",
          "25001 to 50000",
          "More than 50000",
          "No Income",
          "No Income",
          "No Income",
          "No Income"
         ],
         "y0": " ",
         "yaxis": "y"
        },
        {
         "alignmentgroup": "True",
         "hovertemplate": "Gender=Male<br>Occupation=%{x}<br>Monthly Income=%{y}<extra></extra>",
         "legendgroup": "Male",
         "marker": {
          "color": "#EF553B"
         },
         "name": "Male",
         "notched": false,
         "offsetgroup": "Male",
         "orientation": "v",
         "showlegend": true,
         "type": "box",
         "x": [
          "Student",
          "Student",
          "Student",
          "Student",
          "Student",
          "Student",
          "Student",
          "Student",
          "Student",
          "Student",
          "Student",
          "Student",
          "Student",
          "Student",
          "Student",
          "Employee",
          "Student",
          "Student",
          "Self Employeed",
          "Student",
          "Student",
          "Student",
          "Student",
          "Student",
          "Student",
          "Student",
          "Employee",
          "Student",
          "Student",
          "Student",
          "Student",
          "Student",
          "Student",
          "Employee",
          "Student",
          "Student",
          "Student",
          "Student",
          "Student",
          "Student",
          "Student",
          "Student",
          "Student",
          "Student",
          "Student",
          "Student",
          "Student",
          "Self Employeed",
          "Self Employeed",
          "Student",
          "Student",
          "Student",
          "Employee",
          "Student",
          "Employee",
          "Employee",
          "Employee",
          "Student",
          "Employee",
          "Student",
          "Student",
          "Student",
          "Student",
          "Employee",
          "Self Employeed",
          "Employee",
          "Self Employeed",
          "Employee",
          "Self Employeed",
          "Student",
          "Student",
          "Student",
          "Employee",
          "Student",
          "Student",
          "Self Employeed",
          "Employee",
          "Student",
          "Employee",
          "Student",
          "Employee",
          "Student",
          "Employee",
          "Student",
          "Student",
          "Student",
          "Student",
          "Employee",
          "Employee",
          "Student",
          "Employee",
          "Employee",
          "Employee",
          "Employee",
          "Self Employeed",
          "Student",
          "Student",
          "Employee",
          "Employee",
          "Student",
          "Self Employeed",
          "Employee",
          "Student",
          "Student",
          "Employee",
          "Student",
          "Employee",
          "Self Employeed",
          "Student",
          "Employee",
          "Employee",
          "Student",
          "Employee",
          "Student",
          "Student",
          "Employee",
          "Student",
          "Employee",
          "Self Employeed",
          "Self Employeed",
          "Self Employeed",
          "Student",
          "Student",
          "Self Employeed",
          "Employee",
          "Employee",
          "Employee",
          "Employee",
          "Self Employeed",
          "Student",
          "Employee",
          "Self Employeed",
          "Student",
          "Self Employeed",
          "Employee",
          "Employee",
          "Student",
          "Student",
          "Employee",
          "Employee",
          "Employee",
          "Self Employeed",
          "Student",
          "Self Employeed",
          "Employee",
          "Student",
          "Student",
          "Employee",
          "Self Employeed",
          "Student",
          "Self Employeed",
          "Student",
          "Self Employeed",
          "Student",
          "Self Employeed",
          "Employee",
          "Student",
          "Employee",
          "Self Employeed",
          "Student",
          "Employee",
          "Employee",
          "Student",
          "Student",
          "Student",
          "Employee",
          "Employee",
          "Student",
          "Student",
          "Student",
          "Student",
          "Employee",
          "Self Employeed",
          "Student",
          "Employee",
          "Self Employeed",
          "Student",
          "Self Employeed",
          "Employee",
          "Employee",
          "Student",
          "Student",
          "Employee",
          "Employee",
          "Employee",
          "Student",
          "Employee",
          "Self Employeed",
          "Self Employeed",
          "Self Employeed",
          "Student",
          "Student",
          "Self Employeed",
          "Employee",
          "Employee",
          "Employee",
          "Student",
          "Employee",
          "Self Employeed",
          "Self Employeed",
          "Self Employeed",
          "Student",
          "Student",
          "Employee",
          "Self Employeed",
          "Student",
          "Self Employeed",
          "Employee",
          "Employee",
          "Student",
          "Student",
          "Employee",
          "Employee",
          "Employee",
          "Self Employeed",
          "Student",
          "Self Employeed",
          "Employee",
          "Student",
          "Student",
          "Student",
          "Student"
         ],
         "x0": " ",
         "xaxis": "x",
         "y": [
          "Below Rs.10000",
          "Below Rs.10000",
          "No Income",
          "Below Rs.10000",
          "No Income",
          "No Income",
          "No Income",
          "No Income",
          "No Income",
          "No Income",
          "Below Rs.10000",
          "No Income",
          "No Income",
          "Below Rs.10000",
          "No Income",
          "More than 50000",
          "10001 to 25000",
          "No Income",
          "More than 50000",
          "No Income",
          "No Income",
          "No Income",
          "No Income",
          "No Income",
          "No Income",
          "No Income",
          "More than 50000",
          "No Income",
          "No Income",
          "No Income",
          "25001 to 50000",
          "No Income",
          "No Income",
          "10001 to 25000",
          "No Income",
          "No Income",
          "No Income",
          "No Income",
          "No Income",
          "No Income",
          "10001 to 25000",
          "No Income",
          "No Income",
          "No Income",
          "No Income",
          "No Income",
          "No Income",
          "10001 to 25000",
          "10001 to 25000",
          "No Income",
          "No Income",
          "No Income",
          "25001 to 50000",
          "No Income",
          "25001 to 50000",
          "More than 50000",
          "More than 50000",
          "No Income",
          "Below Rs.10000",
          "No Income",
          "No Income",
          "No Income",
          "Below Rs.10000",
          "10001 to 25000",
          "More than 50000",
          "25001 to 50000",
          "25001 to 50000",
          "More than 50000",
          "More than 50000",
          "No Income",
          "No Income",
          "No Income",
          "More than 50000",
          "No Income",
          "No Income",
          "25001 to 50000",
          "More than 50000",
          "No Income",
          "25001 to 50000",
          "No Income",
          "10001 to 25000",
          "More than 50000",
          "10001 to 25000",
          "No Income",
          "More than 50000",
          "No Income",
          "No Income",
          "25001 to 50000",
          "More than 50000",
          "No Income",
          "More than 50000",
          "10001 to 25000",
          "25001 to 50000",
          "More than 50000",
          "More than 50000",
          "No Income",
          "No Income",
          "25001 to 50000",
          "Below Rs.10000",
          "No Income",
          "More than 50000",
          "Below Rs.10000",
          "Below Rs.10000",
          "No Income",
          "More than 50000",
          "No Income",
          "10001 to 25000",
          "More than 50000",
          "No Income",
          "25001 to 50000",
          "25001 to 50000",
          "No Income",
          "More than 50000",
          "No Income",
          "No Income",
          "More than 50000",
          "No Income",
          "25001 to 50000",
          "More than 50000",
          "25001 to 50000",
          "10001 to 25000",
          "No Income",
          "No Income",
          "10001 to 25000",
          "25001 to 50000",
          "10001 to 25000",
          "10001 to 25000",
          "More than 50000",
          "10001 to 25000",
          "No Income",
          "25001 to 50000",
          "More than 50000",
          "No Income",
          "More than 50000",
          "More than 50000",
          "25001 to 50000",
          "No Income",
          "No Income",
          "25001 to 50000",
          "More than 50000",
          "25001 to 50000",
          "More than 50000",
          "No Income",
          "More than 50000",
          "Below Rs.10000",
          "No Income",
          "No Income",
          "10001 to 25000",
          "More than 50000",
          "No Income",
          "25001 to 50000",
          "No Income",
          "More than 50000",
          "No Income",
          "More than 50000",
          "10001 to 25000",
          "25001 to 50000",
          "10001 to 25000",
          "25001 to 50000",
          "No Income",
          "More than 50000",
          "More than 50000",
          "No Income",
          "No Income",
          "No Income",
          "10001 to 25000",
          "25001 to 50000",
          "Below Rs.10000",
          "Below Rs.10000",
          "No Income",
          "Below Rs.10000",
          "More than 50000",
          "10001 to 25000",
          "No Income",
          "25001 to 50000",
          "More than 50000",
          "No Income",
          "More than 50000",
          "More than 50000",
          "25001 to 50000",
          "No Income",
          "No Income",
          "25001 to 50000",
          "More than 50000",
          "More than 50000",
          "No Income",
          "25001 to 50000",
          "More than 50000",
          "25001 to 50000",
          "10001 to 25000",
          "No Income",
          "No Income",
          "10001 to 25000",
          "25001 to 50000",
          "10001 to 25000",
          "More than 50000",
          "No Income",
          "25001 to 50000",
          "More than 50000",
          "25001 to 50000",
          "10001 to 25000",
          "No Income",
          "No Income",
          "25001 to 50000",
          "More than 50000",
          "No Income",
          "More than 50000",
          "More than 50000",
          "25001 to 50000",
          "No Income",
          "No Income",
          "25001 to 50000",
          "More than 50000",
          "25001 to 50000",
          "More than 50000",
          "No Income",
          "More than 50000",
          "Below Rs.10000",
          "Below Rs.10000",
          "No Income",
          "Below Rs.10000",
          "No Income"
         ],
         "y0": " ",
         "yaxis": "y"
        }
       ],
       "layout": {
        "boxmode": "group",
        "legend": {
         "title": {
          "font": {
           "size": 16
          },
          "text": "Gender"
         },
         "tracegroupgap": 0
        },
        "template": {
         "data": {
          "bar": [
           {
            "error_x": {
             "color": "#2a3f5f"
            },
            "error_y": {
             "color": "#2a3f5f"
            },
            "marker": {
             "line": {
              "color": "#E5ECF6",
              "width": 0.5
             },
             "pattern": {
              "fillmode": "overlay",
              "size": 10,
              "solidity": 0.2
             }
            },
            "type": "bar"
           }
          ],
          "barpolar": [
           {
            "marker": {
             "line": {
              "color": "#E5ECF6",
              "width": 0.5
             },
             "pattern": {
              "fillmode": "overlay",
              "size": 10,
              "solidity": 0.2
             }
            },
            "type": "barpolar"
           }
          ],
          "carpet": [
           {
            "aaxis": {
             "endlinecolor": "#2a3f5f",
             "gridcolor": "white",
             "linecolor": "white",
             "minorgridcolor": "white",
             "startlinecolor": "#2a3f5f"
            },
            "baxis": {
             "endlinecolor": "#2a3f5f",
             "gridcolor": "white",
             "linecolor": "white",
             "minorgridcolor": "white",
             "startlinecolor": "#2a3f5f"
            },
            "type": "carpet"
           }
          ],
          "choropleth": [
           {
            "colorbar": {
             "outlinewidth": 0,
             "ticks": ""
            },
            "type": "choropleth"
           }
          ],
          "contour": [
           {
            "colorbar": {
             "outlinewidth": 0,
             "ticks": ""
            },
            "colorscale": [
             [
              0,
              "#0d0887"
             ],
             [
              0.1111111111111111,
              "#46039f"
             ],
             [
              0.2222222222222222,
              "#7201a8"
             ],
             [
              0.3333333333333333,
              "#9c179e"
             ],
             [
              0.4444444444444444,
              "#bd3786"
             ],
             [
              0.5555555555555556,
              "#d8576b"
             ],
             [
              0.6666666666666666,
              "#ed7953"
             ],
             [
              0.7777777777777778,
              "#fb9f3a"
             ],
             [
              0.8888888888888888,
              "#fdca26"
             ],
             [
              1,
              "#f0f921"
             ]
            ],
            "type": "contour"
           }
          ],
          "contourcarpet": [
           {
            "colorbar": {
             "outlinewidth": 0,
             "ticks": ""
            },
            "type": "contourcarpet"
           }
          ],
          "heatmap": [
           {
            "colorbar": {
             "outlinewidth": 0,
             "ticks": ""
            },
            "colorscale": [
             [
              0,
              "#0d0887"
             ],
             [
              0.1111111111111111,
              "#46039f"
             ],
             [
              0.2222222222222222,
              "#7201a8"
             ],
             [
              0.3333333333333333,
              "#9c179e"
             ],
             [
              0.4444444444444444,
              "#bd3786"
             ],
             [
              0.5555555555555556,
              "#d8576b"
             ],
             [
              0.6666666666666666,
              "#ed7953"
             ],
             [
              0.7777777777777778,
              "#fb9f3a"
             ],
             [
              0.8888888888888888,
              "#fdca26"
             ],
             [
              1,
              "#f0f921"
             ]
            ],
            "type": "heatmap"
           }
          ],
          "heatmapgl": [
           {
            "colorbar": {
             "outlinewidth": 0,
             "ticks": ""
            },
            "colorscale": [
             [
              0,
              "#0d0887"
             ],
             [
              0.1111111111111111,
              "#46039f"
             ],
             [
              0.2222222222222222,
              "#7201a8"
             ],
             [
              0.3333333333333333,
              "#9c179e"
             ],
             [
              0.4444444444444444,
              "#bd3786"
             ],
             [
              0.5555555555555556,
              "#d8576b"
             ],
             [
              0.6666666666666666,
              "#ed7953"
             ],
             [
              0.7777777777777778,
              "#fb9f3a"
             ],
             [
              0.8888888888888888,
              "#fdca26"
             ],
             [
              1,
              "#f0f921"
             ]
            ],
            "type": "heatmapgl"
           }
          ],
          "histogram": [
           {
            "marker": {
             "pattern": {
              "fillmode": "overlay",
              "size": 10,
              "solidity": 0.2
             }
            },
            "type": "histogram"
           }
          ],
          "histogram2d": [
           {
            "colorbar": {
             "outlinewidth": 0,
             "ticks": ""
            },
            "colorscale": [
             [
              0,
              "#0d0887"
             ],
             [
              0.1111111111111111,
              "#46039f"
             ],
             [
              0.2222222222222222,
              "#7201a8"
             ],
             [
              0.3333333333333333,
              "#9c179e"
             ],
             [
              0.4444444444444444,
              "#bd3786"
             ],
             [
              0.5555555555555556,
              "#d8576b"
             ],
             [
              0.6666666666666666,
              "#ed7953"
             ],
             [
              0.7777777777777778,
              "#fb9f3a"
             ],
             [
              0.8888888888888888,
              "#fdca26"
             ],
             [
              1,
              "#f0f921"
             ]
            ],
            "type": "histogram2d"
           }
          ],
          "histogram2dcontour": [
           {
            "colorbar": {
             "outlinewidth": 0,
             "ticks": ""
            },
            "colorscale": [
             [
              0,
              "#0d0887"
             ],
             [
              0.1111111111111111,
              "#46039f"
             ],
             [
              0.2222222222222222,
              "#7201a8"
             ],
             [
              0.3333333333333333,
              "#9c179e"
             ],
             [
              0.4444444444444444,
              "#bd3786"
             ],
             [
              0.5555555555555556,
              "#d8576b"
             ],
             [
              0.6666666666666666,
              "#ed7953"
             ],
             [
              0.7777777777777778,
              "#fb9f3a"
             ],
             [
              0.8888888888888888,
              "#fdca26"
             ],
             [
              1,
              "#f0f921"
             ]
            ],
            "type": "histogram2dcontour"
           }
          ],
          "mesh3d": [
           {
            "colorbar": {
             "outlinewidth": 0,
             "ticks": ""
            },
            "type": "mesh3d"
           }
          ],
          "parcoords": [
           {
            "line": {
             "colorbar": {
              "outlinewidth": 0,
              "ticks": ""
             }
            },
            "type": "parcoords"
           }
          ],
          "pie": [
           {
            "automargin": true,
            "type": "pie"
           }
          ],
          "scatter": [
           {
            "fillpattern": {
             "fillmode": "overlay",
             "size": 10,
             "solidity": 0.2
            },
            "type": "scatter"
           }
          ],
          "scatter3d": [
           {
            "line": {
             "colorbar": {
              "outlinewidth": 0,
              "ticks": ""
             }
            },
            "marker": {
             "colorbar": {
              "outlinewidth": 0,
              "ticks": ""
             }
            },
            "type": "scatter3d"
           }
          ],
          "scattercarpet": [
           {
            "marker": {
             "colorbar": {
              "outlinewidth": 0,
              "ticks": ""
             }
            },
            "type": "scattercarpet"
           }
          ],
          "scattergeo": [
           {
            "marker": {
             "colorbar": {
              "outlinewidth": 0,
              "ticks": ""
             }
            },
            "type": "scattergeo"
           }
          ],
          "scattergl": [
           {
            "marker": {
             "colorbar": {
              "outlinewidth": 0,
              "ticks": ""
             }
            },
            "type": "scattergl"
           }
          ],
          "scattermapbox": [
           {
            "marker": {
             "colorbar": {
              "outlinewidth": 0,
              "ticks": ""
             }
            },
            "type": "scattermapbox"
           }
          ],
          "scatterpolar": [
           {
            "marker": {
             "colorbar": {
              "outlinewidth": 0,
              "ticks": ""
             }
            },
            "type": "scatterpolar"
           }
          ],
          "scatterpolargl": [
           {
            "marker": {
             "colorbar": {
              "outlinewidth": 0,
              "ticks": ""
             }
            },
            "type": "scatterpolargl"
           }
          ],
          "scatterternary": [
           {
            "marker": {
             "colorbar": {
              "outlinewidth": 0,
              "ticks": ""
             }
            },
            "type": "scatterternary"
           }
          ],
          "surface": [
           {
            "colorbar": {
             "outlinewidth": 0,
             "ticks": ""
            },
            "colorscale": [
             [
              0,
              "#0d0887"
             ],
             [
              0.1111111111111111,
              "#46039f"
             ],
             [
              0.2222222222222222,
              "#7201a8"
             ],
             [
              0.3333333333333333,
              "#9c179e"
             ],
             [
              0.4444444444444444,
              "#bd3786"
             ],
             [
              0.5555555555555556,
              "#d8576b"
             ],
             [
              0.6666666666666666,
              "#ed7953"
             ],
             [
              0.7777777777777778,
              "#fb9f3a"
             ],
             [
              0.8888888888888888,
              "#fdca26"
             ],
             [
              1,
              "#f0f921"
             ]
            ],
            "type": "surface"
           }
          ],
          "table": [
           {
            "cells": {
             "fill": {
              "color": "#EBF0F8"
             },
             "line": {
              "color": "white"
             }
            },
            "header": {
             "fill": {
              "color": "#C8D4E3"
             },
             "line": {
              "color": "white"
             }
            },
            "type": "table"
           }
          ]
         },
         "layout": {
          "annotationdefaults": {
           "arrowcolor": "#2a3f5f",
           "arrowhead": 0,
           "arrowwidth": 1
          },
          "autotypenumbers": "strict",
          "coloraxis": {
           "colorbar": {
            "outlinewidth": 0,
            "ticks": ""
           }
          },
          "colorscale": {
           "diverging": [
            [
             0,
             "#8e0152"
            ],
            [
             0.1,
             "#c51b7d"
            ],
            [
             0.2,
             "#de77ae"
            ],
            [
             0.3,
             "#f1b6da"
            ],
            [
             0.4,
             "#fde0ef"
            ],
            [
             0.5,
             "#f7f7f7"
            ],
            [
             0.6,
             "#e6f5d0"
            ],
            [
             0.7,
             "#b8e186"
            ],
            [
             0.8,
             "#7fbc41"
            ],
            [
             0.9,
             "#4d9221"
            ],
            [
             1,
             "#276419"
            ]
           ],
           "sequential": [
            [
             0,
             "#0d0887"
            ],
            [
             0.1111111111111111,
             "#46039f"
            ],
            [
             0.2222222222222222,
             "#7201a8"
            ],
            [
             0.3333333333333333,
             "#9c179e"
            ],
            [
             0.4444444444444444,
             "#bd3786"
            ],
            [
             0.5555555555555556,
             "#d8576b"
            ],
            [
             0.6666666666666666,
             "#ed7953"
            ],
            [
             0.7777777777777778,
             "#fb9f3a"
            ],
            [
             0.8888888888888888,
             "#fdca26"
            ],
            [
             1,
             "#f0f921"
            ]
           ],
           "sequentialminus": [
            [
             0,
             "#0d0887"
            ],
            [
             0.1111111111111111,
             "#46039f"
            ],
            [
             0.2222222222222222,
             "#7201a8"
            ],
            [
             0.3333333333333333,
             "#9c179e"
            ],
            [
             0.4444444444444444,
             "#bd3786"
            ],
            [
             0.5555555555555556,
             "#d8576b"
            ],
            [
             0.6666666666666666,
             "#ed7953"
            ],
            [
             0.7777777777777778,
             "#fb9f3a"
            ],
            [
             0.8888888888888888,
             "#fdca26"
            ],
            [
             1,
             "#f0f921"
            ]
           ]
          },
          "colorway": [
           "#636efa",
           "#EF553B",
           "#00cc96",
           "#ab63fa",
           "#FFA15A",
           "#19d3f3",
           "#FF6692",
           "#B6E880",
           "#FF97FF",
           "#FECB52"
          ],
          "font": {
           "color": "#2a3f5f"
          },
          "geo": {
           "bgcolor": "white",
           "lakecolor": "white",
           "landcolor": "#E5ECF6",
           "showlakes": true,
           "showland": true,
           "subunitcolor": "white"
          },
          "hoverlabel": {
           "align": "left"
          },
          "hovermode": "closest",
          "mapbox": {
           "style": "light"
          },
          "paper_bgcolor": "white",
          "plot_bgcolor": "#E5ECF6",
          "polar": {
           "angularaxis": {
            "gridcolor": "white",
            "linecolor": "white",
            "ticks": ""
           },
           "bgcolor": "#E5ECF6",
           "radialaxis": {
            "gridcolor": "white",
            "linecolor": "white",
            "ticks": ""
           }
          },
          "scene": {
           "xaxis": {
            "backgroundcolor": "#E5ECF6",
            "gridcolor": "white",
            "gridwidth": 2,
            "linecolor": "white",
            "showbackground": true,
            "ticks": "",
            "zerolinecolor": "white"
           },
           "yaxis": {
            "backgroundcolor": "#E5ECF6",
            "gridcolor": "white",
            "gridwidth": 2,
            "linecolor": "white",
            "showbackground": true,
            "ticks": "",
            "zerolinecolor": "white"
           },
           "zaxis": {
            "backgroundcolor": "#E5ECF6",
            "gridcolor": "white",
            "gridwidth": 2,
            "linecolor": "white",
            "showbackground": true,
            "ticks": "",
            "zerolinecolor": "white"
           }
          },
          "shapedefaults": {
           "line": {
            "color": "#2a3f5f"
           }
          },
          "ternary": {
           "aaxis": {
            "gridcolor": "white",
            "linecolor": "white",
            "ticks": ""
           },
           "baxis": {
            "gridcolor": "white",
            "linecolor": "white",
            "ticks": ""
           },
           "bgcolor": "#E5ECF6",
           "caxis": {
            "gridcolor": "white",
            "linecolor": "white",
            "ticks": ""
           }
          },
          "title": {
           "x": 0.05
          },
          "xaxis": {
           "automargin": true,
           "gridcolor": "white",
           "linecolor": "white",
           "ticks": "",
           "title": {
            "standoff": 15
           },
           "zerolinecolor": "white",
           "zerolinewidth": 2
          },
          "yaxis": {
           "automargin": true,
           "gridcolor": "white",
           "linecolor": "white",
           "ticks": "",
           "title": {
            "standoff": 15
           },
           "zerolinecolor": "white",
           "zerolinewidth": 2
          }
         }
        },
        "title": {
         "font": {
          "size": 20
         },
         "text": "Monthly Income Distribution by Occupation (Colored by Gender)"
        },
        "xaxis": {
         "anchor": "y",
         "domain": [
          0,
          1
         ],
         "title": {
          "font": {
           "size": 16
          },
          "text": "Occupation"
         }
        },
        "yaxis": {
         "anchor": "x",
         "domain": [
          0,
          1
         ],
         "title": {
          "font": {
           "size": 16
          },
          "text": "Monthly Income"
         }
        }
       }
      }
     },
     "metadata": {},
     "output_type": "display_data"
    }
   ],
   "source": [
    "fig = px.box(data, x='Occupation', y='Monthly Income', color='Gender',\n",
    "             title='Monthly Income Distribution by Occupation (Colored by Gender)',\n",
    "             labels={'Occupation': 'Occupation', 'Monthly Income': 'Monthly Income', 'Gender': 'Gender'})\n",
    "\n",
    "# Customize layout\n",
    "fig.update_layout(\n",
    "    title=dict(font=dict(size=20)),\n",
    "    xaxis=dict(title=dict(font=dict(size=16))),\n",
    "    yaxis=dict(title=dict(font=dict(size=16))),\n",
    "    legend=dict(title=dict(font=dict(size=16))),\n",
    ")\n",
    "\n",
    "# Show the plot\n",
    "fig.show()"
   ]
  },
  {
   "cell_type": "markdown",
   "metadata": {
    "vscode": {
     "languageId": "bat"
    }
   },
   "source": [
    "### **Distribution of educational qualifications by gender**"
   ]
  },
  {
   "cell_type": "code",
   "execution_count": 26,
   "metadata": {},
   "outputs": [
    {
     "data": {
      "application/vnd.plotly.v1+json": {
       "config": {
        "plotlyServerURL": "https://plot.ly"
       },
       "data": [
        {
         "alignmentgroup": "True",
         "hovertemplate": "Gender=Female<br>Educational Qualifications=%{x}<br>Count=%{y}<extra></extra>",
         "legendgroup": "Female",
         "marker": {
          "color": "#636efa",
          "pattern": {
           "shape": ""
          }
         },
         "name": "Female",
         "offsetgroup": "Female",
         "orientation": "v",
         "showlegend": true,
         "textposition": "auto",
         "type": "bar",
         "x": [
          "Post Graduate",
          "Graduate",
          "Graduate",
          "Post Graduate",
          "Post Graduate",
          "Post Graduate",
          "Post Graduate",
          "Post Graduate",
          "Post Graduate",
          "Post Graduate",
          "Post Graduate",
          "Graduate",
          "Post Graduate",
          "Graduate",
          "Post Graduate",
          "Graduate",
          "Graduate",
          "Post Graduate",
          "Post Graduate",
          "Graduate",
          "Post Graduate",
          "Post Graduate",
          "Post Graduate",
          "Post Graduate",
          "Post Graduate",
          "Graduate",
          "Post Graduate",
          "Graduate",
          "Post Graduate",
          "Graduate",
          "Post Graduate",
          "Graduate",
          "Post Graduate",
          "Post Graduate",
          "Post Graduate",
          "Ph.D",
          "Post Graduate",
          "Post Graduate",
          "Post Graduate",
          "Post Graduate",
          "Post Graduate",
          "Post Graduate",
          "Post Graduate",
          "Post Graduate",
          "Graduate",
          "Graduate",
          "Uneducated",
          "Post Graduate",
          "Graduate",
          "Ph.D",
          "Graduate",
          "Graduate",
          "School",
          "Graduate",
          "Graduate",
          "Post Graduate",
          "Graduate",
          "Post Graduate",
          "Graduate",
          "Graduate",
          "Post Graduate",
          "Graduate",
          "Post Graduate",
          "Graduate",
          "School",
          "Post Graduate",
          "Post Graduate",
          "Graduate",
          "Post Graduate",
          "Graduate",
          "Graduate",
          "Graduate",
          "Ph.D",
          "Post Graduate",
          "Ph.D",
          "Post Graduate",
          "Graduate",
          "Post Graduate",
          "Graduate",
          "Graduate",
          "School",
          "Post Graduate",
          "Ph.D",
          "Graduate",
          "Graduate",
          "School",
          "Graduate",
          "Graduate",
          "Ph.D",
          "Graduate",
          "Graduate",
          "Post Graduate",
          "Graduate",
          "Graduate",
          "Post Graduate",
          "Graduate",
          "Post Graduate",
          "Post Graduate",
          "Graduate",
          "Post Graduate",
          "Post Graduate",
          "Graduate",
          "Post Graduate",
          "Graduate",
          "Post Graduate",
          "Ph.D",
          "School",
          "Post Graduate",
          "Post Graduate",
          "Graduate",
          "Graduate",
          "Post Graduate",
          "Post Graduate",
          "Graduate",
          "Post Graduate",
          "Post Graduate",
          "Graduate",
          "Graduate",
          "Graduate",
          "Graduate",
          "Post Graduate",
          "Ph.D",
          "Graduate",
          "Graduate",
          "Post Graduate",
          "Graduate",
          "Graduate",
          "Graduate",
          "Post Graduate",
          "Graduate",
          "Post Graduate",
          "Ph.D",
          "Post Graduate",
          "Graduate",
          "Post Graduate",
          "Post Graduate",
          "Post Graduate",
          "Post Graduate",
          "Post Graduate",
          "Post Graduate",
          "Post Graduate",
          "Graduate",
          "Post Graduate",
          "Post Graduate",
          "Graduate",
          "Graduate",
          "Ph.D",
          "Graduate",
          "Graduate",
          "Post Graduate",
          "Graduate",
          "Ph.D",
          "Graduate",
          "Graduate",
          "Graduate",
          "Post Graduate",
          "Post Graduate",
          "Graduate",
          "Post Graduate",
          "Graduate",
          "Post Graduate",
          "Post Graduate",
          "Post Graduate",
          "Post Graduate",
          "Post Graduate",
          "Post Graduate"
         ],
         "xaxis": "x",
         "y": [
          1,
          1,
          1,
          1,
          1,
          1,
          1,
          1,
          1,
          1,
          1,
          1,
          1,
          1,
          1,
          1,
          1,
          1,
          1,
          1,
          1,
          1,
          1,
          1,
          1,
          1,
          1,
          1,
          1,
          1,
          1,
          1,
          1,
          1,
          1,
          1,
          1,
          1,
          1,
          1,
          1,
          1,
          1,
          1,
          1,
          1,
          1,
          1,
          1,
          1,
          1,
          1,
          1,
          1,
          1,
          1,
          1,
          1,
          1,
          1,
          1,
          1,
          1,
          1,
          1,
          1,
          1,
          1,
          1,
          1,
          1,
          1,
          1,
          1,
          1,
          1,
          1,
          1,
          1,
          1,
          1,
          1,
          1,
          1,
          1,
          1,
          1,
          1,
          1,
          1,
          1,
          1,
          1,
          1,
          1,
          1,
          1,
          1,
          1,
          1,
          1,
          1,
          1,
          1,
          1,
          1,
          1,
          1,
          1,
          1,
          1,
          1,
          1,
          1,
          1,
          1,
          1,
          1,
          1,
          1,
          1,
          1,
          1,
          1,
          1,
          1,
          1,
          1,
          1,
          1,
          1,
          1,
          1,
          1,
          1,
          1,
          1,
          1,
          1,
          1,
          1,
          1,
          1,
          1,
          1,
          1,
          1,
          1,
          1,
          1,
          1,
          1,
          1,
          1,
          1,
          1,
          1,
          1,
          1,
          1,
          1,
          1,
          1,
          1,
          1,
          1
         ],
         "yaxis": "y"
        },
        {
         "alignmentgroup": "True",
         "hovertemplate": "Gender=Male<br>Educational Qualifications=%{x}<br>Count=%{y}<extra></extra>",
         "legendgroup": "Male",
         "marker": {
          "color": "#EF553B",
          "pattern": {
           "shape": ""
          }
         },
         "name": "Male",
         "offsetgroup": "Male",
         "orientation": "v",
         "showlegend": true,
         "textposition": "auto",
         "type": "bar",
         "x": [
          "Post Graduate",
          "Post Graduate",
          "Graduate",
          "Post Graduate",
          "Post Graduate",
          "Graduate",
          "Graduate",
          "Post Graduate",
          "Post Graduate",
          "Graduate",
          "Post Graduate",
          "Post Graduate",
          "Post Graduate",
          "Post Graduate",
          "Post Graduate",
          "Ph.D",
          "Post Graduate",
          "Post Graduate",
          "Uneducated",
          "Graduate",
          "Post Graduate",
          "Graduate",
          "Post Graduate",
          "Post Graduate",
          "Post Graduate",
          "Post Graduate",
          "Ph.D",
          "Post Graduate",
          "Post Graduate",
          "Post Graduate",
          "Post Graduate",
          "Graduate",
          "Post Graduate",
          "Graduate",
          "Graduate",
          "Post Graduate",
          "Post Graduate",
          "Post Graduate",
          "Graduate",
          "Post Graduate",
          "Post Graduate",
          "Post Graduate",
          "Post Graduate",
          "Post Graduate",
          "Post Graduate",
          "Graduate",
          "Post Graduate",
          "Graduate",
          "Ph.D",
          "Post Graduate",
          "Post Graduate",
          "Graduate",
          "Graduate",
          "Post Graduate",
          "Graduate",
          "Graduate",
          "Post Graduate",
          "Post Graduate",
          "Graduate",
          "Graduate",
          "Post Graduate",
          "Post Graduate",
          "Post Graduate",
          "Post Graduate",
          "Ph.D",
          "Graduate",
          "Graduate",
          "Ph.D",
          "Ph.D",
          "Post Graduate",
          "Post Graduate",
          "Post Graduate",
          "Post Graduate",
          "Post Graduate",
          "Graduate",
          "Graduate",
          "Ph.D",
          "Post Graduate",
          "Graduate",
          "Post Graduate",
          "Post Graduate",
          "Post Graduate",
          "Graduate",
          "Post Graduate",
          "Post Graduate",
          "Graduate",
          "Graduate",
          "Post Graduate",
          "Ph.D",
          "Graduate",
          "Post Graduate",
          "Graduate",
          "Post Graduate",
          "Ph.D",
          "School",
          "Graduate",
          "Post Graduate",
          "Post Graduate",
          "Graduate",
          "Graduate",
          "Post Graduate",
          "Post Graduate",
          "Graduate",
          "Graduate",
          "Post Graduate",
          "Post Graduate",
          "Graduate",
          "School",
          "Post Graduate",
          "Post Graduate",
          "Graduate",
          "Graduate",
          "Post Graduate",
          "Post Graduate",
          "Post Graduate",
          "Graduate",
          "Graduate",
          "Graduate",
          "Graduate",
          "Graduate",
          "Graduate",
          "Graduate",
          "Graduate",
          "School",
          "Post Graduate",
          "Graduate",
          "Graduate",
          "Graduate",
          "Post Graduate",
          "Post Graduate",
          "Graduate",
          "Graduate",
          "Graduate",
          "Post Graduate",
          "Ph.D",
          "Graduate",
          "Graduate",
          "Graduate",
          "Graduate",
          "Post Graduate",
          "Graduate",
          "Graduate",
          "Graduate",
          "School",
          "Graduate",
          "Graduate",
          "Graduate",
          "Graduate",
          "Graduate",
          "Post Graduate",
          "School",
          "Post Graduate",
          "Graduate",
          "Graduate",
          "Post Graduate",
          "Graduate",
          "Graduate",
          "Graduate",
          "Graduate",
          "Graduate",
          "Post Graduate",
          "Graduate",
          "Graduate",
          "Graduate",
          "Post Graduate",
          "Graduate",
          "Post Graduate",
          "Post Graduate",
          "Post Graduate",
          "Graduate",
          "Post Graduate",
          "Graduate",
          "Post Graduate",
          "Post Graduate",
          "Graduate",
          "Graduate",
          "Graduate",
          "Post Graduate",
          "Ph.D",
          "Graduate",
          "Graduate",
          "Graduate",
          "Graduate",
          "Post Graduate",
          "Graduate",
          "Graduate",
          "Graduate",
          "Graduate",
          "Graduate",
          "Graduate",
          "Graduate",
          "Graduate",
          "School",
          "Post Graduate",
          "Graduate",
          "Graduate",
          "Graduate",
          "Graduate",
          "Graduate",
          "Graduate",
          "Graduate",
          "Graduate",
          "Post Graduate",
          "Graduate",
          "Graduate",
          "Graduate",
          "Post Graduate",
          "Ph.D",
          "Graduate",
          "Graduate",
          "Graduate",
          "Graduate",
          "Post Graduate",
          "Graduate",
          "Graduate",
          "Graduate",
          "School",
          "Graduate",
          "Post Graduate",
          "Graduate",
          "Post Graduate",
          "Post Graduate"
         ],
         "xaxis": "x",
         "y": [
          1,
          1,
          1,
          1,
          1,
          1,
          1,
          1,
          1,
          1,
          1,
          1,
          1,
          1,
          1,
          1,
          1,
          1,
          1,
          1,
          1,
          1,
          1,
          1,
          1,
          1,
          1,
          1,
          1,
          1,
          1,
          1,
          1,
          1,
          1,
          1,
          1,
          1,
          1,
          1,
          1,
          1,
          1,
          1,
          1,
          1,
          1,
          1,
          1,
          1,
          1,
          1,
          1,
          1,
          1,
          1,
          1,
          1,
          1,
          1,
          1,
          1,
          1,
          1,
          1,
          1,
          1,
          1,
          1,
          1,
          1,
          1,
          1,
          1,
          1,
          1,
          1,
          1,
          1,
          1,
          1,
          1,
          1,
          1,
          1,
          1,
          1,
          1,
          1,
          1,
          1,
          1,
          1,
          1,
          1,
          1,
          1,
          1,
          1,
          1,
          1,
          1,
          1,
          1,
          1,
          1,
          1,
          1,
          1,
          1,
          1,
          1,
          1,
          1,
          1,
          1,
          1,
          1,
          1,
          1,
          1,
          1,
          1,
          1,
          1,
          1,
          1,
          1,
          1,
          1,
          1,
          1,
          1,
          1,
          1,
          1,
          1,
          1,
          1,
          1,
          1,
          1,
          1,
          1,
          1,
          1,
          1,
          1,
          1,
          1,
          1,
          1,
          1,
          1,
          1,
          1,
          1,
          1,
          1,
          1,
          1,
          1,
          1,
          1,
          1,
          1,
          1,
          1,
          1,
          1,
          1,
          1,
          1,
          1,
          1,
          1,
          1,
          1,
          1,
          1,
          1,
          1,
          1,
          1,
          1,
          1,
          1,
          1,
          1,
          1,
          1,
          1,
          1,
          1,
          1,
          1,
          1,
          1,
          1,
          1,
          1,
          1,
          1,
          1,
          1,
          1,
          1,
          1,
          1,
          1,
          1,
          1,
          1,
          1,
          1,
          1,
          1,
          1,
          1,
          1,
          1,
          1
         ],
         "yaxis": "y"
        }
       ],
       "layout": {
        "barmode": "relative",
        "legend": {
         "title": {
          "text": "Gender"
         },
         "tracegroupgap": 0
        },
        "template": {
         "data": {
          "bar": [
           {
            "error_x": {
             "color": "#2a3f5f"
            },
            "error_y": {
             "color": "#2a3f5f"
            },
            "marker": {
             "line": {
              "color": "#E5ECF6",
              "width": 0.5
             },
             "pattern": {
              "fillmode": "overlay",
              "size": 10,
              "solidity": 0.2
             }
            },
            "type": "bar"
           }
          ],
          "barpolar": [
           {
            "marker": {
             "line": {
              "color": "#E5ECF6",
              "width": 0.5
             },
             "pattern": {
              "fillmode": "overlay",
              "size": 10,
              "solidity": 0.2
             }
            },
            "type": "barpolar"
           }
          ],
          "carpet": [
           {
            "aaxis": {
             "endlinecolor": "#2a3f5f",
             "gridcolor": "white",
             "linecolor": "white",
             "minorgridcolor": "white",
             "startlinecolor": "#2a3f5f"
            },
            "baxis": {
             "endlinecolor": "#2a3f5f",
             "gridcolor": "white",
             "linecolor": "white",
             "minorgridcolor": "white",
             "startlinecolor": "#2a3f5f"
            },
            "type": "carpet"
           }
          ],
          "choropleth": [
           {
            "colorbar": {
             "outlinewidth": 0,
             "ticks": ""
            },
            "type": "choropleth"
           }
          ],
          "contour": [
           {
            "colorbar": {
             "outlinewidth": 0,
             "ticks": ""
            },
            "colorscale": [
             [
              0,
              "#0d0887"
             ],
             [
              0.1111111111111111,
              "#46039f"
             ],
             [
              0.2222222222222222,
              "#7201a8"
             ],
             [
              0.3333333333333333,
              "#9c179e"
             ],
             [
              0.4444444444444444,
              "#bd3786"
             ],
             [
              0.5555555555555556,
              "#d8576b"
             ],
             [
              0.6666666666666666,
              "#ed7953"
             ],
             [
              0.7777777777777778,
              "#fb9f3a"
             ],
             [
              0.8888888888888888,
              "#fdca26"
             ],
             [
              1,
              "#f0f921"
             ]
            ],
            "type": "contour"
           }
          ],
          "contourcarpet": [
           {
            "colorbar": {
             "outlinewidth": 0,
             "ticks": ""
            },
            "type": "contourcarpet"
           }
          ],
          "heatmap": [
           {
            "colorbar": {
             "outlinewidth": 0,
             "ticks": ""
            },
            "colorscale": [
             [
              0,
              "#0d0887"
             ],
             [
              0.1111111111111111,
              "#46039f"
             ],
             [
              0.2222222222222222,
              "#7201a8"
             ],
             [
              0.3333333333333333,
              "#9c179e"
             ],
             [
              0.4444444444444444,
              "#bd3786"
             ],
             [
              0.5555555555555556,
              "#d8576b"
             ],
             [
              0.6666666666666666,
              "#ed7953"
             ],
             [
              0.7777777777777778,
              "#fb9f3a"
             ],
             [
              0.8888888888888888,
              "#fdca26"
             ],
             [
              1,
              "#f0f921"
             ]
            ],
            "type": "heatmap"
           }
          ],
          "heatmapgl": [
           {
            "colorbar": {
             "outlinewidth": 0,
             "ticks": ""
            },
            "colorscale": [
             [
              0,
              "#0d0887"
             ],
             [
              0.1111111111111111,
              "#46039f"
             ],
             [
              0.2222222222222222,
              "#7201a8"
             ],
             [
              0.3333333333333333,
              "#9c179e"
             ],
             [
              0.4444444444444444,
              "#bd3786"
             ],
             [
              0.5555555555555556,
              "#d8576b"
             ],
             [
              0.6666666666666666,
              "#ed7953"
             ],
             [
              0.7777777777777778,
              "#fb9f3a"
             ],
             [
              0.8888888888888888,
              "#fdca26"
             ],
             [
              1,
              "#f0f921"
             ]
            ],
            "type": "heatmapgl"
           }
          ],
          "histogram": [
           {
            "marker": {
             "pattern": {
              "fillmode": "overlay",
              "size": 10,
              "solidity": 0.2
             }
            },
            "type": "histogram"
           }
          ],
          "histogram2d": [
           {
            "colorbar": {
             "outlinewidth": 0,
             "ticks": ""
            },
            "colorscale": [
             [
              0,
              "#0d0887"
             ],
             [
              0.1111111111111111,
              "#46039f"
             ],
             [
              0.2222222222222222,
              "#7201a8"
             ],
             [
              0.3333333333333333,
              "#9c179e"
             ],
             [
              0.4444444444444444,
              "#bd3786"
             ],
             [
              0.5555555555555556,
              "#d8576b"
             ],
             [
              0.6666666666666666,
              "#ed7953"
             ],
             [
              0.7777777777777778,
              "#fb9f3a"
             ],
             [
              0.8888888888888888,
              "#fdca26"
             ],
             [
              1,
              "#f0f921"
             ]
            ],
            "type": "histogram2d"
           }
          ],
          "histogram2dcontour": [
           {
            "colorbar": {
             "outlinewidth": 0,
             "ticks": ""
            },
            "colorscale": [
             [
              0,
              "#0d0887"
             ],
             [
              0.1111111111111111,
              "#46039f"
             ],
             [
              0.2222222222222222,
              "#7201a8"
             ],
             [
              0.3333333333333333,
              "#9c179e"
             ],
             [
              0.4444444444444444,
              "#bd3786"
             ],
             [
              0.5555555555555556,
              "#d8576b"
             ],
             [
              0.6666666666666666,
              "#ed7953"
             ],
             [
              0.7777777777777778,
              "#fb9f3a"
             ],
             [
              0.8888888888888888,
              "#fdca26"
             ],
             [
              1,
              "#f0f921"
             ]
            ],
            "type": "histogram2dcontour"
           }
          ],
          "mesh3d": [
           {
            "colorbar": {
             "outlinewidth": 0,
             "ticks": ""
            },
            "type": "mesh3d"
           }
          ],
          "parcoords": [
           {
            "line": {
             "colorbar": {
              "outlinewidth": 0,
              "ticks": ""
             }
            },
            "type": "parcoords"
           }
          ],
          "pie": [
           {
            "automargin": true,
            "type": "pie"
           }
          ],
          "scatter": [
           {
            "fillpattern": {
             "fillmode": "overlay",
             "size": 10,
             "solidity": 0.2
            },
            "type": "scatter"
           }
          ],
          "scatter3d": [
           {
            "line": {
             "colorbar": {
              "outlinewidth": 0,
              "ticks": ""
             }
            },
            "marker": {
             "colorbar": {
              "outlinewidth": 0,
              "ticks": ""
             }
            },
            "type": "scatter3d"
           }
          ],
          "scattercarpet": [
           {
            "marker": {
             "colorbar": {
              "outlinewidth": 0,
              "ticks": ""
             }
            },
            "type": "scattercarpet"
           }
          ],
          "scattergeo": [
           {
            "marker": {
             "colorbar": {
              "outlinewidth": 0,
              "ticks": ""
             }
            },
            "type": "scattergeo"
           }
          ],
          "scattergl": [
           {
            "marker": {
             "colorbar": {
              "outlinewidth": 0,
              "ticks": ""
             }
            },
            "type": "scattergl"
           }
          ],
          "scattermapbox": [
           {
            "marker": {
             "colorbar": {
              "outlinewidth": 0,
              "ticks": ""
             }
            },
            "type": "scattermapbox"
           }
          ],
          "scatterpolar": [
           {
            "marker": {
             "colorbar": {
              "outlinewidth": 0,
              "ticks": ""
             }
            },
            "type": "scatterpolar"
           }
          ],
          "scatterpolargl": [
           {
            "marker": {
             "colorbar": {
              "outlinewidth": 0,
              "ticks": ""
             }
            },
            "type": "scatterpolargl"
           }
          ],
          "scatterternary": [
           {
            "marker": {
             "colorbar": {
              "outlinewidth": 0,
              "ticks": ""
             }
            },
            "type": "scatterternary"
           }
          ],
          "surface": [
           {
            "colorbar": {
             "outlinewidth": 0,
             "ticks": ""
            },
            "colorscale": [
             [
              0,
              "#0d0887"
             ],
             [
              0.1111111111111111,
              "#46039f"
             ],
             [
              0.2222222222222222,
              "#7201a8"
             ],
             [
              0.3333333333333333,
              "#9c179e"
             ],
             [
              0.4444444444444444,
              "#bd3786"
             ],
             [
              0.5555555555555556,
              "#d8576b"
             ],
             [
              0.6666666666666666,
              "#ed7953"
             ],
             [
              0.7777777777777778,
              "#fb9f3a"
             ],
             [
              0.8888888888888888,
              "#fdca26"
             ],
             [
              1,
              "#f0f921"
             ]
            ],
            "type": "surface"
           }
          ],
          "table": [
           {
            "cells": {
             "fill": {
              "color": "#EBF0F8"
             },
             "line": {
              "color": "white"
             }
            },
            "header": {
             "fill": {
              "color": "#C8D4E3"
             },
             "line": {
              "color": "white"
             }
            },
            "type": "table"
           }
          ]
         },
         "layout": {
          "annotationdefaults": {
           "arrowcolor": "#2a3f5f",
           "arrowhead": 0,
           "arrowwidth": 1
          },
          "autotypenumbers": "strict",
          "coloraxis": {
           "colorbar": {
            "outlinewidth": 0,
            "ticks": ""
           }
          },
          "colorscale": {
           "diverging": [
            [
             0,
             "#8e0152"
            ],
            [
             0.1,
             "#c51b7d"
            ],
            [
             0.2,
             "#de77ae"
            ],
            [
             0.3,
             "#f1b6da"
            ],
            [
             0.4,
             "#fde0ef"
            ],
            [
             0.5,
             "#f7f7f7"
            ],
            [
             0.6,
             "#e6f5d0"
            ],
            [
             0.7,
             "#b8e186"
            ],
            [
             0.8,
             "#7fbc41"
            ],
            [
             0.9,
             "#4d9221"
            ],
            [
             1,
             "#276419"
            ]
           ],
           "sequential": [
            [
             0,
             "#0d0887"
            ],
            [
             0.1111111111111111,
             "#46039f"
            ],
            [
             0.2222222222222222,
             "#7201a8"
            ],
            [
             0.3333333333333333,
             "#9c179e"
            ],
            [
             0.4444444444444444,
             "#bd3786"
            ],
            [
             0.5555555555555556,
             "#d8576b"
            ],
            [
             0.6666666666666666,
             "#ed7953"
            ],
            [
             0.7777777777777778,
             "#fb9f3a"
            ],
            [
             0.8888888888888888,
             "#fdca26"
            ],
            [
             1,
             "#f0f921"
            ]
           ],
           "sequentialminus": [
            [
             0,
             "#0d0887"
            ],
            [
             0.1111111111111111,
             "#46039f"
            ],
            [
             0.2222222222222222,
             "#7201a8"
            ],
            [
             0.3333333333333333,
             "#9c179e"
            ],
            [
             0.4444444444444444,
             "#bd3786"
            ],
            [
             0.5555555555555556,
             "#d8576b"
            ],
            [
             0.6666666666666666,
             "#ed7953"
            ],
            [
             0.7777777777777778,
             "#fb9f3a"
            ],
            [
             0.8888888888888888,
             "#fdca26"
            ],
            [
             1,
             "#f0f921"
            ]
           ]
          },
          "colorway": [
           "#636efa",
           "#EF553B",
           "#00cc96",
           "#ab63fa",
           "#FFA15A",
           "#19d3f3",
           "#FF6692",
           "#B6E880",
           "#FF97FF",
           "#FECB52"
          ],
          "font": {
           "color": "#2a3f5f"
          },
          "geo": {
           "bgcolor": "white",
           "lakecolor": "white",
           "landcolor": "#E5ECF6",
           "showlakes": true,
           "showland": true,
           "subunitcolor": "white"
          },
          "hoverlabel": {
           "align": "left"
          },
          "hovermode": "closest",
          "mapbox": {
           "style": "light"
          },
          "paper_bgcolor": "white",
          "plot_bgcolor": "#E5ECF6",
          "polar": {
           "angularaxis": {
            "gridcolor": "white",
            "linecolor": "white",
            "ticks": ""
           },
           "bgcolor": "#E5ECF6",
           "radialaxis": {
            "gridcolor": "white",
            "linecolor": "white",
            "ticks": ""
           }
          },
          "scene": {
           "xaxis": {
            "backgroundcolor": "#E5ECF6",
            "gridcolor": "white",
            "gridwidth": 2,
            "linecolor": "white",
            "showbackground": true,
            "ticks": "",
            "zerolinecolor": "white"
           },
           "yaxis": {
            "backgroundcolor": "#E5ECF6",
            "gridcolor": "white",
            "gridwidth": 2,
            "linecolor": "white",
            "showbackground": true,
            "ticks": "",
            "zerolinecolor": "white"
           },
           "zaxis": {
            "backgroundcolor": "#E5ECF6",
            "gridcolor": "white",
            "gridwidth": 2,
            "linecolor": "white",
            "showbackground": true,
            "ticks": "",
            "zerolinecolor": "white"
           }
          },
          "shapedefaults": {
           "line": {
            "color": "#2a3f5f"
           }
          },
          "ternary": {
           "aaxis": {
            "gridcolor": "white",
            "linecolor": "white",
            "ticks": ""
           },
           "baxis": {
            "gridcolor": "white",
            "linecolor": "white",
            "ticks": ""
           },
           "bgcolor": "#E5ECF6",
           "caxis": {
            "gridcolor": "white",
            "linecolor": "white",
            "ticks": ""
           }
          },
          "title": {
           "x": 0.05
          },
          "xaxis": {
           "automargin": true,
           "gridcolor": "white",
           "linecolor": "white",
           "ticks": "",
           "title": {
            "standoff": 15
           },
           "zerolinecolor": "white",
           "zerolinewidth": 2
          },
          "yaxis": {
           "automargin": true,
           "gridcolor": "white",
           "linecolor": "white",
           "ticks": "",
           "title": {
            "standoff": 15
           },
           "zerolinecolor": "white",
           "zerolinewidth": 2
          }
         }
        },
        "title": {
         "text": "Distribution of Educational Qualifications by Gender"
        },
        "xaxis": {
         "anchor": "y",
         "domain": [
          0,
          1
         ],
         "title": {
          "text": "Educational Qualifications"
         }
        },
        "yaxis": {
         "anchor": "x",
         "domain": [
          0,
          1
         ],
         "title": {
          "text": "Count"
         }
        }
       }
      }
     },
     "metadata": {},
     "output_type": "display_data"
    }
   ],
   "source": [
    "fig = px.bar(data, x='Educational Qualifications', color='Gender', \n",
    "             title='Distribution of Educational Qualifications by Gender',\n",
    "             labels={'Educational Qualifications': 'Educational Qualifications', 'Gender': 'Gender', 'count': 'Count'})\n",
    "fig.show()"
   ]
  },
  {
   "cell_type": "markdown",
   "metadata": {},
   "source": [
    "### **Monthly income distribution by occupation, colored by gender**"
   ]
  },
  {
   "cell_type": "code",
   "execution_count": 27,
   "metadata": {},
   "outputs": [
    {
     "data": {
      "application/vnd.plotly.v1+json": {
       "config": {
        "plotlyServerURL": "https://plot.ly"
       },
       "data": [
        {
         "alignmentgroup": "True",
         "hovertemplate": "Gender=Female<br>Occupation=%{x}<br>Monthly Income=%{y}<extra></extra>",
         "legendgroup": "Female",
         "marker": {
          "color": "#636efa"
         },
         "name": "Female",
         "notched": false,
         "offsetgroup": "Female",
         "orientation": "v",
         "showlegend": true,
         "type": "box",
         "x": [
          "Student",
          "Student",
          "Student",
          "Employee",
          "Student",
          "Student",
          "Student",
          "Student",
          "Self Employeed",
          "Student",
          "Employee",
          "Student",
          "Student",
          "Student",
          "Student",
          "Employee",
          "Employee",
          "Student",
          "Student",
          "House wife",
          "Student",
          "Student",
          "Student",
          "Self Employeed",
          "Student",
          "Student",
          "Student",
          "Student",
          "Student",
          "Student",
          "Student",
          "Student",
          "Student",
          "Student",
          "Student",
          "Employee",
          "Student",
          "Student",
          "Student",
          "Student",
          "Student",
          "Student",
          "Employee",
          "Student",
          "Student",
          "Student",
          "House wife",
          "Student",
          "Employee",
          "Student",
          "Student",
          "Employee",
          "House wife",
          "Employee",
          "Self Employeed",
          "Self Employeed",
          "Self Employeed",
          "Student",
          "Employee",
          "Student",
          "Employee",
          "Employee",
          "Student",
          "Student",
          "House wife",
          "Student",
          "Student",
          "Self Employeed",
          "Student",
          "House wife",
          "Student",
          "Employee",
          "Student",
          "Student",
          "Student",
          "Student",
          "Employee",
          "Self Employeed",
          "Employee",
          "Employee",
          "House wife",
          "Employee",
          "Employee",
          "Self Employeed",
          "Student",
          "House wife",
          "Student",
          "Employee",
          "Student",
          "Student",
          "Employee",
          "Employee",
          "House wife",
          "Self Employeed",
          "Student",
          "Student",
          "Student",
          "Student",
          "Self Employeed",
          "Self Employeed",
          "Student",
          "Student",
          "Student",
          "Employee",
          "Employee",
          "Employee",
          "House wife",
          "Employee",
          "Employee",
          "Employee",
          "Employee",
          "Employee",
          "Employee",
          "Employee",
          "Employee",
          "Student",
          "Student",
          "Employee",
          "Student",
          "Employee",
          "Employee",
          "Student",
          "Student",
          "Employee",
          "Student",
          "Student",
          "Self Employeed",
          "Employee",
          "Student",
          "Employee",
          "Employee",
          "Student",
          "Employee",
          "Student",
          "Employee",
          "Student",
          "Student",
          "Student",
          "Student",
          "Student",
          "Student",
          "Self Employeed",
          "Self Employeed",
          "Student",
          "Student",
          "Employee",
          "Student",
          "Student",
          "Employee",
          "Employee",
          "Employee",
          "Student",
          "Student",
          "Employee",
          "Self Employeed",
          "Self Employeed",
          "Student",
          "Student",
          "Student",
          "Employee",
          "Employee",
          "Employee",
          "Student",
          "Student",
          "Student",
          "Student"
         ],
         "x0": " ",
         "xaxis": "x",
         "y": [
          "No Income",
          "Below Rs.10000",
          "No Income",
          "More than 50000",
          "No Income",
          "No Income",
          "No Income",
          "No Income",
          "10001 to 25000",
          "No Income",
          "25001 to 50000",
          "No Income",
          "Below Rs.10000",
          "No Income",
          "No Income",
          "10001 to 25000",
          "10001 to 25000",
          "10001 to 25000",
          "No Income",
          "No Income",
          "No Income",
          "No Income",
          "No Income",
          "10001 to 25000",
          "No Income",
          "No Income",
          "10001 to 25000",
          "No Income",
          "No Income",
          "No Income",
          "No Income",
          "No Income",
          "No Income",
          "No Income",
          "No Income",
          "More than 50000",
          "10001 to 25000",
          "No Income",
          "25001 to 50000",
          "No Income",
          "No Income",
          "No Income",
          "25001 to 50000",
          "No Income",
          "No Income",
          "No Income",
          "No Income",
          "10001 to 25000",
          "10001 to 25000",
          "No Income",
          "No Income",
          "25001 to 50000",
          "No Income",
          "25001 to 50000",
          "More than 50000",
          "25001 to 50000",
          "25001 to 50000",
          "No Income",
          "More than 50000",
          "No Income",
          "25001 to 50000",
          "More than 50000",
          "Below Rs.10000",
          "No Income",
          "No Income",
          "No Income",
          "No Income",
          "10001 to 25000",
          "No Income",
          "No Income",
          "No Income",
          "25001 to 50000",
          "No Income",
          "No Income",
          "Below Rs.10000",
          "No Income",
          "10001 to 25000",
          "25001 to 50000",
          "More than 50000",
          "25001 to 50000",
          "No Income",
          "25001 to 50000",
          "More than 50000",
          "More than 50000",
          "No Income",
          "No Income",
          "No Income",
          "25001 to 50000",
          "No Income",
          "No Income",
          "25001 to 50000",
          "10001 to 25000",
          "No Income",
          "25001 to 50000",
          "No Income",
          "No Income",
          "No Income",
          "No Income",
          "10001 to 25000",
          "25001 to 50000",
          "No Income",
          "No Income",
          "No Income",
          "Below Rs.10000",
          "25001 to 50000",
          "25001 to 50000",
          "No Income",
          "25001 to 50000",
          "25001 to 50000",
          "10001 to 25000",
          "25001 to 50000",
          "25001 to 50000",
          "25001 to 50000",
          "Below Rs.10000",
          "10001 to 25000",
          "No Income",
          "No Income",
          "10001 to 25000",
          "No Income",
          "25001 to 50000",
          "10001 to 25000",
          "No Income",
          "10001 to 25000",
          "25001 to 50000",
          "No Income",
          "No Income",
          "More than 50000",
          "25001 to 50000",
          "No Income",
          "More than 50000",
          "25001 to 50000",
          "Below Rs.10000",
          "More than 50000",
          "No Income",
          "More than 50000",
          "No Income",
          "No Income",
          "No Income",
          "No Income",
          "No Income",
          "No Income",
          "10001 to 25000",
          "25001 to 50000",
          "No Income",
          "No Income",
          "25001 to 50000",
          "No Income",
          "No Income",
          "25001 to 50000",
          "10001 to 25000",
          "25001 to 50000",
          "No Income",
          "No Income",
          "25001 to 50000",
          "10001 to 25000",
          "25001 to 50000",
          "No Income",
          "No Income",
          "No Income",
          "Below Rs.10000",
          "25001 to 50000",
          "More than 50000",
          "No Income",
          "No Income",
          "No Income",
          "No Income"
         ],
         "y0": " ",
         "yaxis": "y"
        },
        {
         "alignmentgroup": "True",
         "hovertemplate": "Gender=Male<br>Occupation=%{x}<br>Monthly Income=%{y}<extra></extra>",
         "legendgroup": "Male",
         "marker": {
          "color": "#EF553B"
         },
         "name": "Male",
         "notched": false,
         "offsetgroup": "Male",
         "orientation": "v",
         "showlegend": true,
         "type": "box",
         "x": [
          "Student",
          "Student",
          "Student",
          "Student",
          "Student",
          "Student",
          "Student",
          "Student",
          "Student",
          "Student",
          "Student",
          "Student",
          "Student",
          "Student",
          "Student",
          "Employee",
          "Student",
          "Student",
          "Self Employeed",
          "Student",
          "Student",
          "Student",
          "Student",
          "Student",
          "Student",
          "Student",
          "Employee",
          "Student",
          "Student",
          "Student",
          "Student",
          "Student",
          "Student",
          "Employee",
          "Student",
          "Student",
          "Student",
          "Student",
          "Student",
          "Student",
          "Student",
          "Student",
          "Student",
          "Student",
          "Student",
          "Student",
          "Student",
          "Self Employeed",
          "Self Employeed",
          "Student",
          "Student",
          "Student",
          "Employee",
          "Student",
          "Employee",
          "Employee",
          "Employee",
          "Student",
          "Employee",
          "Student",
          "Student",
          "Student",
          "Student",
          "Employee",
          "Self Employeed",
          "Employee",
          "Self Employeed",
          "Employee",
          "Self Employeed",
          "Student",
          "Student",
          "Student",
          "Employee",
          "Student",
          "Student",
          "Self Employeed",
          "Employee",
          "Student",
          "Employee",
          "Student",
          "Employee",
          "Student",
          "Employee",
          "Student",
          "Student",
          "Student",
          "Student",
          "Employee",
          "Employee",
          "Student",
          "Employee",
          "Employee",
          "Employee",
          "Employee",
          "Self Employeed",
          "Student",
          "Student",
          "Employee",
          "Employee",
          "Student",
          "Self Employeed",
          "Employee",
          "Student",
          "Student",
          "Employee",
          "Student",
          "Employee",
          "Self Employeed",
          "Student",
          "Employee",
          "Employee",
          "Student",
          "Employee",
          "Student",
          "Student",
          "Employee",
          "Student",
          "Employee",
          "Self Employeed",
          "Self Employeed",
          "Self Employeed",
          "Student",
          "Student",
          "Self Employeed",
          "Employee",
          "Employee",
          "Employee",
          "Employee",
          "Self Employeed",
          "Student",
          "Employee",
          "Self Employeed",
          "Student",
          "Self Employeed",
          "Employee",
          "Employee",
          "Student",
          "Student",
          "Employee",
          "Employee",
          "Employee",
          "Self Employeed",
          "Student",
          "Self Employeed",
          "Employee",
          "Student",
          "Student",
          "Employee",
          "Self Employeed",
          "Student",
          "Self Employeed",
          "Student",
          "Self Employeed",
          "Student",
          "Self Employeed",
          "Employee",
          "Student",
          "Employee",
          "Self Employeed",
          "Student",
          "Employee",
          "Employee",
          "Student",
          "Student",
          "Student",
          "Employee",
          "Employee",
          "Student",
          "Student",
          "Student",
          "Student",
          "Employee",
          "Self Employeed",
          "Student",
          "Employee",
          "Self Employeed",
          "Student",
          "Self Employeed",
          "Employee",
          "Employee",
          "Student",
          "Student",
          "Employee",
          "Employee",
          "Employee",
          "Student",
          "Employee",
          "Self Employeed",
          "Self Employeed",
          "Self Employeed",
          "Student",
          "Student",
          "Self Employeed",
          "Employee",
          "Employee",
          "Employee",
          "Student",
          "Employee",
          "Self Employeed",
          "Self Employeed",
          "Self Employeed",
          "Student",
          "Student",
          "Employee",
          "Self Employeed",
          "Student",
          "Self Employeed",
          "Employee",
          "Employee",
          "Student",
          "Student",
          "Employee",
          "Employee",
          "Employee",
          "Self Employeed",
          "Student",
          "Self Employeed",
          "Employee",
          "Student",
          "Student",
          "Student",
          "Student"
         ],
         "x0": " ",
         "xaxis": "x",
         "y": [
          "Below Rs.10000",
          "Below Rs.10000",
          "No Income",
          "Below Rs.10000",
          "No Income",
          "No Income",
          "No Income",
          "No Income",
          "No Income",
          "No Income",
          "Below Rs.10000",
          "No Income",
          "No Income",
          "Below Rs.10000",
          "No Income",
          "More than 50000",
          "10001 to 25000",
          "No Income",
          "More than 50000",
          "No Income",
          "No Income",
          "No Income",
          "No Income",
          "No Income",
          "No Income",
          "No Income",
          "More than 50000",
          "No Income",
          "No Income",
          "No Income",
          "25001 to 50000",
          "No Income",
          "No Income",
          "10001 to 25000",
          "No Income",
          "No Income",
          "No Income",
          "No Income",
          "No Income",
          "No Income",
          "10001 to 25000",
          "No Income",
          "No Income",
          "No Income",
          "No Income",
          "No Income",
          "No Income",
          "10001 to 25000",
          "10001 to 25000",
          "No Income",
          "No Income",
          "No Income",
          "25001 to 50000",
          "No Income",
          "25001 to 50000",
          "More than 50000",
          "More than 50000",
          "No Income",
          "Below Rs.10000",
          "No Income",
          "No Income",
          "No Income",
          "Below Rs.10000",
          "10001 to 25000",
          "More than 50000",
          "25001 to 50000",
          "25001 to 50000",
          "More than 50000",
          "More than 50000",
          "No Income",
          "No Income",
          "No Income",
          "More than 50000",
          "No Income",
          "No Income",
          "25001 to 50000",
          "More than 50000",
          "No Income",
          "25001 to 50000",
          "No Income",
          "10001 to 25000",
          "More than 50000",
          "10001 to 25000",
          "No Income",
          "More than 50000",
          "No Income",
          "No Income",
          "25001 to 50000",
          "More than 50000",
          "No Income",
          "More than 50000",
          "10001 to 25000",
          "25001 to 50000",
          "More than 50000",
          "More than 50000",
          "No Income",
          "No Income",
          "25001 to 50000",
          "Below Rs.10000",
          "No Income",
          "More than 50000",
          "Below Rs.10000",
          "Below Rs.10000",
          "No Income",
          "More than 50000",
          "No Income",
          "10001 to 25000",
          "More than 50000",
          "No Income",
          "25001 to 50000",
          "25001 to 50000",
          "No Income",
          "More than 50000",
          "No Income",
          "No Income",
          "More than 50000",
          "No Income",
          "25001 to 50000",
          "More than 50000",
          "25001 to 50000",
          "10001 to 25000",
          "No Income",
          "No Income",
          "10001 to 25000",
          "25001 to 50000",
          "10001 to 25000",
          "10001 to 25000",
          "More than 50000",
          "10001 to 25000",
          "No Income",
          "25001 to 50000",
          "More than 50000",
          "No Income",
          "More than 50000",
          "More than 50000",
          "25001 to 50000",
          "No Income",
          "No Income",
          "25001 to 50000",
          "More than 50000",
          "25001 to 50000",
          "More than 50000",
          "No Income",
          "More than 50000",
          "Below Rs.10000",
          "No Income",
          "No Income",
          "10001 to 25000",
          "More than 50000",
          "No Income",
          "25001 to 50000",
          "No Income",
          "More than 50000",
          "No Income",
          "More than 50000",
          "10001 to 25000",
          "25001 to 50000",
          "10001 to 25000",
          "25001 to 50000",
          "No Income",
          "More than 50000",
          "More than 50000",
          "No Income",
          "No Income",
          "No Income",
          "10001 to 25000",
          "25001 to 50000",
          "Below Rs.10000",
          "Below Rs.10000",
          "No Income",
          "Below Rs.10000",
          "More than 50000",
          "10001 to 25000",
          "No Income",
          "25001 to 50000",
          "More than 50000",
          "No Income",
          "More than 50000",
          "More than 50000",
          "25001 to 50000",
          "No Income",
          "No Income",
          "25001 to 50000",
          "More than 50000",
          "More than 50000",
          "No Income",
          "25001 to 50000",
          "More than 50000",
          "25001 to 50000",
          "10001 to 25000",
          "No Income",
          "No Income",
          "10001 to 25000",
          "25001 to 50000",
          "10001 to 25000",
          "More than 50000",
          "No Income",
          "25001 to 50000",
          "More than 50000",
          "25001 to 50000",
          "10001 to 25000",
          "No Income",
          "No Income",
          "25001 to 50000",
          "More than 50000",
          "No Income",
          "More than 50000",
          "More than 50000",
          "25001 to 50000",
          "No Income",
          "No Income",
          "25001 to 50000",
          "More than 50000",
          "25001 to 50000",
          "More than 50000",
          "No Income",
          "More than 50000",
          "Below Rs.10000",
          "Below Rs.10000",
          "No Income",
          "Below Rs.10000",
          "No Income"
         ],
         "y0": " ",
         "yaxis": "y"
        }
       ],
       "layout": {
        "boxmode": "group",
        "legend": {
         "title": {
          "text": "Gender"
         },
         "tracegroupgap": 0
        },
        "template": {
         "data": {
          "bar": [
           {
            "error_x": {
             "color": "#2a3f5f"
            },
            "error_y": {
             "color": "#2a3f5f"
            },
            "marker": {
             "line": {
              "color": "#E5ECF6",
              "width": 0.5
             },
             "pattern": {
              "fillmode": "overlay",
              "size": 10,
              "solidity": 0.2
             }
            },
            "type": "bar"
           }
          ],
          "barpolar": [
           {
            "marker": {
             "line": {
              "color": "#E5ECF6",
              "width": 0.5
             },
             "pattern": {
              "fillmode": "overlay",
              "size": 10,
              "solidity": 0.2
             }
            },
            "type": "barpolar"
           }
          ],
          "carpet": [
           {
            "aaxis": {
             "endlinecolor": "#2a3f5f",
             "gridcolor": "white",
             "linecolor": "white",
             "minorgridcolor": "white",
             "startlinecolor": "#2a3f5f"
            },
            "baxis": {
             "endlinecolor": "#2a3f5f",
             "gridcolor": "white",
             "linecolor": "white",
             "minorgridcolor": "white",
             "startlinecolor": "#2a3f5f"
            },
            "type": "carpet"
           }
          ],
          "choropleth": [
           {
            "colorbar": {
             "outlinewidth": 0,
             "ticks": ""
            },
            "type": "choropleth"
           }
          ],
          "contour": [
           {
            "colorbar": {
             "outlinewidth": 0,
             "ticks": ""
            },
            "colorscale": [
             [
              0,
              "#0d0887"
             ],
             [
              0.1111111111111111,
              "#46039f"
             ],
             [
              0.2222222222222222,
              "#7201a8"
             ],
             [
              0.3333333333333333,
              "#9c179e"
             ],
             [
              0.4444444444444444,
              "#bd3786"
             ],
             [
              0.5555555555555556,
              "#d8576b"
             ],
             [
              0.6666666666666666,
              "#ed7953"
             ],
             [
              0.7777777777777778,
              "#fb9f3a"
             ],
             [
              0.8888888888888888,
              "#fdca26"
             ],
             [
              1,
              "#f0f921"
             ]
            ],
            "type": "contour"
           }
          ],
          "contourcarpet": [
           {
            "colorbar": {
             "outlinewidth": 0,
             "ticks": ""
            },
            "type": "contourcarpet"
           }
          ],
          "heatmap": [
           {
            "colorbar": {
             "outlinewidth": 0,
             "ticks": ""
            },
            "colorscale": [
             [
              0,
              "#0d0887"
             ],
             [
              0.1111111111111111,
              "#46039f"
             ],
             [
              0.2222222222222222,
              "#7201a8"
             ],
             [
              0.3333333333333333,
              "#9c179e"
             ],
             [
              0.4444444444444444,
              "#bd3786"
             ],
             [
              0.5555555555555556,
              "#d8576b"
             ],
             [
              0.6666666666666666,
              "#ed7953"
             ],
             [
              0.7777777777777778,
              "#fb9f3a"
             ],
             [
              0.8888888888888888,
              "#fdca26"
             ],
             [
              1,
              "#f0f921"
             ]
            ],
            "type": "heatmap"
           }
          ],
          "heatmapgl": [
           {
            "colorbar": {
             "outlinewidth": 0,
             "ticks": ""
            },
            "colorscale": [
             [
              0,
              "#0d0887"
             ],
             [
              0.1111111111111111,
              "#46039f"
             ],
             [
              0.2222222222222222,
              "#7201a8"
             ],
             [
              0.3333333333333333,
              "#9c179e"
             ],
             [
              0.4444444444444444,
              "#bd3786"
             ],
             [
              0.5555555555555556,
              "#d8576b"
             ],
             [
              0.6666666666666666,
              "#ed7953"
             ],
             [
              0.7777777777777778,
              "#fb9f3a"
             ],
             [
              0.8888888888888888,
              "#fdca26"
             ],
             [
              1,
              "#f0f921"
             ]
            ],
            "type": "heatmapgl"
           }
          ],
          "histogram": [
           {
            "marker": {
             "pattern": {
              "fillmode": "overlay",
              "size": 10,
              "solidity": 0.2
             }
            },
            "type": "histogram"
           }
          ],
          "histogram2d": [
           {
            "colorbar": {
             "outlinewidth": 0,
             "ticks": ""
            },
            "colorscale": [
             [
              0,
              "#0d0887"
             ],
             [
              0.1111111111111111,
              "#46039f"
             ],
             [
              0.2222222222222222,
              "#7201a8"
             ],
             [
              0.3333333333333333,
              "#9c179e"
             ],
             [
              0.4444444444444444,
              "#bd3786"
             ],
             [
              0.5555555555555556,
              "#d8576b"
             ],
             [
              0.6666666666666666,
              "#ed7953"
             ],
             [
              0.7777777777777778,
              "#fb9f3a"
             ],
             [
              0.8888888888888888,
              "#fdca26"
             ],
             [
              1,
              "#f0f921"
             ]
            ],
            "type": "histogram2d"
           }
          ],
          "histogram2dcontour": [
           {
            "colorbar": {
             "outlinewidth": 0,
             "ticks": ""
            },
            "colorscale": [
             [
              0,
              "#0d0887"
             ],
             [
              0.1111111111111111,
              "#46039f"
             ],
             [
              0.2222222222222222,
              "#7201a8"
             ],
             [
              0.3333333333333333,
              "#9c179e"
             ],
             [
              0.4444444444444444,
              "#bd3786"
             ],
             [
              0.5555555555555556,
              "#d8576b"
             ],
             [
              0.6666666666666666,
              "#ed7953"
             ],
             [
              0.7777777777777778,
              "#fb9f3a"
             ],
             [
              0.8888888888888888,
              "#fdca26"
             ],
             [
              1,
              "#f0f921"
             ]
            ],
            "type": "histogram2dcontour"
           }
          ],
          "mesh3d": [
           {
            "colorbar": {
             "outlinewidth": 0,
             "ticks": ""
            },
            "type": "mesh3d"
           }
          ],
          "parcoords": [
           {
            "line": {
             "colorbar": {
              "outlinewidth": 0,
              "ticks": ""
             }
            },
            "type": "parcoords"
           }
          ],
          "pie": [
           {
            "automargin": true,
            "type": "pie"
           }
          ],
          "scatter": [
           {
            "fillpattern": {
             "fillmode": "overlay",
             "size": 10,
             "solidity": 0.2
            },
            "type": "scatter"
           }
          ],
          "scatter3d": [
           {
            "line": {
             "colorbar": {
              "outlinewidth": 0,
              "ticks": ""
             }
            },
            "marker": {
             "colorbar": {
              "outlinewidth": 0,
              "ticks": ""
             }
            },
            "type": "scatter3d"
           }
          ],
          "scattercarpet": [
           {
            "marker": {
             "colorbar": {
              "outlinewidth": 0,
              "ticks": ""
             }
            },
            "type": "scattercarpet"
           }
          ],
          "scattergeo": [
           {
            "marker": {
             "colorbar": {
              "outlinewidth": 0,
              "ticks": ""
             }
            },
            "type": "scattergeo"
           }
          ],
          "scattergl": [
           {
            "marker": {
             "colorbar": {
              "outlinewidth": 0,
              "ticks": ""
             }
            },
            "type": "scattergl"
           }
          ],
          "scattermapbox": [
           {
            "marker": {
             "colorbar": {
              "outlinewidth": 0,
              "ticks": ""
             }
            },
            "type": "scattermapbox"
           }
          ],
          "scatterpolar": [
           {
            "marker": {
             "colorbar": {
              "outlinewidth": 0,
              "ticks": ""
             }
            },
            "type": "scatterpolar"
           }
          ],
          "scatterpolargl": [
           {
            "marker": {
             "colorbar": {
              "outlinewidth": 0,
              "ticks": ""
             }
            },
            "type": "scatterpolargl"
           }
          ],
          "scatterternary": [
           {
            "marker": {
             "colorbar": {
              "outlinewidth": 0,
              "ticks": ""
             }
            },
            "type": "scatterternary"
           }
          ],
          "surface": [
           {
            "colorbar": {
             "outlinewidth": 0,
             "ticks": ""
            },
            "colorscale": [
             [
              0,
              "#0d0887"
             ],
             [
              0.1111111111111111,
              "#46039f"
             ],
             [
              0.2222222222222222,
              "#7201a8"
             ],
             [
              0.3333333333333333,
              "#9c179e"
             ],
             [
              0.4444444444444444,
              "#bd3786"
             ],
             [
              0.5555555555555556,
              "#d8576b"
             ],
             [
              0.6666666666666666,
              "#ed7953"
             ],
             [
              0.7777777777777778,
              "#fb9f3a"
             ],
             [
              0.8888888888888888,
              "#fdca26"
             ],
             [
              1,
              "#f0f921"
             ]
            ],
            "type": "surface"
           }
          ],
          "table": [
           {
            "cells": {
             "fill": {
              "color": "#EBF0F8"
             },
             "line": {
              "color": "white"
             }
            },
            "header": {
             "fill": {
              "color": "#C8D4E3"
             },
             "line": {
              "color": "white"
             }
            },
            "type": "table"
           }
          ]
         },
         "layout": {
          "annotationdefaults": {
           "arrowcolor": "#2a3f5f",
           "arrowhead": 0,
           "arrowwidth": 1
          },
          "autotypenumbers": "strict",
          "coloraxis": {
           "colorbar": {
            "outlinewidth": 0,
            "ticks": ""
           }
          },
          "colorscale": {
           "diverging": [
            [
             0,
             "#8e0152"
            ],
            [
             0.1,
             "#c51b7d"
            ],
            [
             0.2,
             "#de77ae"
            ],
            [
             0.3,
             "#f1b6da"
            ],
            [
             0.4,
             "#fde0ef"
            ],
            [
             0.5,
             "#f7f7f7"
            ],
            [
             0.6,
             "#e6f5d0"
            ],
            [
             0.7,
             "#b8e186"
            ],
            [
             0.8,
             "#7fbc41"
            ],
            [
             0.9,
             "#4d9221"
            ],
            [
             1,
             "#276419"
            ]
           ],
           "sequential": [
            [
             0,
             "#0d0887"
            ],
            [
             0.1111111111111111,
             "#46039f"
            ],
            [
             0.2222222222222222,
             "#7201a8"
            ],
            [
             0.3333333333333333,
             "#9c179e"
            ],
            [
             0.4444444444444444,
             "#bd3786"
            ],
            [
             0.5555555555555556,
             "#d8576b"
            ],
            [
             0.6666666666666666,
             "#ed7953"
            ],
            [
             0.7777777777777778,
             "#fb9f3a"
            ],
            [
             0.8888888888888888,
             "#fdca26"
            ],
            [
             1,
             "#f0f921"
            ]
           ],
           "sequentialminus": [
            [
             0,
             "#0d0887"
            ],
            [
             0.1111111111111111,
             "#46039f"
            ],
            [
             0.2222222222222222,
             "#7201a8"
            ],
            [
             0.3333333333333333,
             "#9c179e"
            ],
            [
             0.4444444444444444,
             "#bd3786"
            ],
            [
             0.5555555555555556,
             "#d8576b"
            ],
            [
             0.6666666666666666,
             "#ed7953"
            ],
            [
             0.7777777777777778,
             "#fb9f3a"
            ],
            [
             0.8888888888888888,
             "#fdca26"
            ],
            [
             1,
             "#f0f921"
            ]
           ]
          },
          "colorway": [
           "#636efa",
           "#EF553B",
           "#00cc96",
           "#ab63fa",
           "#FFA15A",
           "#19d3f3",
           "#FF6692",
           "#B6E880",
           "#FF97FF",
           "#FECB52"
          ],
          "font": {
           "color": "#2a3f5f"
          },
          "geo": {
           "bgcolor": "white",
           "lakecolor": "white",
           "landcolor": "#E5ECF6",
           "showlakes": true,
           "showland": true,
           "subunitcolor": "white"
          },
          "hoverlabel": {
           "align": "left"
          },
          "hovermode": "closest",
          "mapbox": {
           "style": "light"
          },
          "paper_bgcolor": "white",
          "plot_bgcolor": "#E5ECF6",
          "polar": {
           "angularaxis": {
            "gridcolor": "white",
            "linecolor": "white",
            "ticks": ""
           },
           "bgcolor": "#E5ECF6",
           "radialaxis": {
            "gridcolor": "white",
            "linecolor": "white",
            "ticks": ""
           }
          },
          "scene": {
           "xaxis": {
            "backgroundcolor": "#E5ECF6",
            "gridcolor": "white",
            "gridwidth": 2,
            "linecolor": "white",
            "showbackground": true,
            "ticks": "",
            "zerolinecolor": "white"
           },
           "yaxis": {
            "backgroundcolor": "#E5ECF6",
            "gridcolor": "white",
            "gridwidth": 2,
            "linecolor": "white",
            "showbackground": true,
            "ticks": "",
            "zerolinecolor": "white"
           },
           "zaxis": {
            "backgroundcolor": "#E5ECF6",
            "gridcolor": "white",
            "gridwidth": 2,
            "linecolor": "white",
            "showbackground": true,
            "ticks": "",
            "zerolinecolor": "white"
           }
          },
          "shapedefaults": {
           "line": {
            "color": "#2a3f5f"
           }
          },
          "ternary": {
           "aaxis": {
            "gridcolor": "white",
            "linecolor": "white",
            "ticks": ""
           },
           "baxis": {
            "gridcolor": "white",
            "linecolor": "white",
            "ticks": ""
           },
           "bgcolor": "#E5ECF6",
           "caxis": {
            "gridcolor": "white",
            "linecolor": "white",
            "ticks": ""
           }
          },
          "title": {
           "x": 0.05
          },
          "xaxis": {
           "automargin": true,
           "gridcolor": "white",
           "linecolor": "white",
           "ticks": "",
           "title": {
            "standoff": 15
           },
           "zerolinecolor": "white",
           "zerolinewidth": 2
          },
          "yaxis": {
           "automargin": true,
           "gridcolor": "white",
           "linecolor": "white",
           "ticks": "",
           "title": {
            "standoff": 15
           },
           "zerolinecolor": "white",
           "zerolinewidth": 2
          }
         }
        },
        "title": {
         "text": "Monthly Income Distribution by Occupation (Colored by Gender)"
        },
        "xaxis": {
         "anchor": "y",
         "domain": [
          0,
          1
         ],
         "title": {
          "text": "Occupation"
         }
        },
        "yaxis": {
         "anchor": "x",
         "domain": [
          0,
          1
         ],
         "title": {
          "text": "Monthly Income"
         }
        }
       }
      }
     },
     "metadata": {},
     "output_type": "display_data"
    }
   ],
   "source": [
    "fig = px.box(data, x='Occupation', y='Monthly Income', color='Gender',\n",
    "             title='Monthly Income Distribution by Occupation (Colored by Gender)',\n",
    "             labels={'Occupation': 'Occupation', 'Monthly Income': 'Monthly Income', 'Gender': 'Gender'})\n",
    "fig.show()"
   ]
  },
  {
   "cell_type": "markdown",
   "metadata": {},
   "source": [
    "### **Correlation matrix of numerical variables in the dataset**"
   ]
  },
  {
   "cell_type": "code",
   "execution_count": 28,
   "metadata": {},
   "outputs": [
    {
     "data": {
      "application/vnd.plotly.v1+json": {
       "config": {
        "plotlyServerURL": "https://plot.ly"
       },
       "data": [
        {
         "coloraxis": "coloraxis",
         "hovertemplate": "x: %{x}<br>y: %{y}<br>color: %{z}<extra></extra>",
         "name": "0",
         "type": "heatmap",
         "x": [
          "Age",
          "Family size",
          "latitude",
          "longitude",
          "Pin code"
         ],
         "xaxis": "x",
         "y": [
          "Age",
          "Family size",
          "latitude",
          "longitude",
          "Pin code"
         ],
         "yaxis": "y",
         "z": [
          [
           1,
           0.1699815116173852,
           0.006594548564951838,
           0.04749955885869151,
           0.13729412519147735
          ],
          [
           0.1699815116173852,
           1,
           -0.0535367331128184,
           0.07012643909215698,
           -0.009402395669635036
          ],
          [
           0.006594548564951838,
           -0.0535367331128184,
           1,
           -0.1442336125164801,
           -0.20181349707547022
          ],
          [
           0.04749955885869151,
           0.07012643909215698,
           -0.1442336125164801,
           1,
           0.1561194790151041
          ],
          [
           0.13729412519147735,
           -0.009402395669635036,
           -0.20181349707547022,
           0.1561194790151041,
           1
          ]
         ]
        }
       ],
       "layout": {
        "coloraxis": {
         "colorscale": [
          [
           0,
           "#440154"
          ],
          [
           0.1111111111111111,
           "#482878"
          ],
          [
           0.2222222222222222,
           "#3e4989"
          ],
          [
           0.3333333333333333,
           "#31688e"
          ],
          [
           0.4444444444444444,
           "#26828e"
          ],
          [
           0.5555555555555556,
           "#1f9e89"
          ],
          [
           0.6666666666666666,
           "#35b779"
          ],
          [
           0.7777777777777778,
           "#6ece58"
          ],
          [
           0.8888888888888888,
           "#b5de2b"
          ],
          [
           1,
           "#fde725"
          ]
         ]
        },
        "template": {
         "data": {
          "bar": [
           {
            "error_x": {
             "color": "#2a3f5f"
            },
            "error_y": {
             "color": "#2a3f5f"
            },
            "marker": {
             "line": {
              "color": "#E5ECF6",
              "width": 0.5
             },
             "pattern": {
              "fillmode": "overlay",
              "size": 10,
              "solidity": 0.2
             }
            },
            "type": "bar"
           }
          ],
          "barpolar": [
           {
            "marker": {
             "line": {
              "color": "#E5ECF6",
              "width": 0.5
             },
             "pattern": {
              "fillmode": "overlay",
              "size": 10,
              "solidity": 0.2
             }
            },
            "type": "barpolar"
           }
          ],
          "carpet": [
           {
            "aaxis": {
             "endlinecolor": "#2a3f5f",
             "gridcolor": "white",
             "linecolor": "white",
             "minorgridcolor": "white",
             "startlinecolor": "#2a3f5f"
            },
            "baxis": {
             "endlinecolor": "#2a3f5f",
             "gridcolor": "white",
             "linecolor": "white",
             "minorgridcolor": "white",
             "startlinecolor": "#2a3f5f"
            },
            "type": "carpet"
           }
          ],
          "choropleth": [
           {
            "colorbar": {
             "outlinewidth": 0,
             "ticks": ""
            },
            "type": "choropleth"
           }
          ],
          "contour": [
           {
            "colorbar": {
             "outlinewidth": 0,
             "ticks": ""
            },
            "colorscale": [
             [
              0,
              "#0d0887"
             ],
             [
              0.1111111111111111,
              "#46039f"
             ],
             [
              0.2222222222222222,
              "#7201a8"
             ],
             [
              0.3333333333333333,
              "#9c179e"
             ],
             [
              0.4444444444444444,
              "#bd3786"
             ],
             [
              0.5555555555555556,
              "#d8576b"
             ],
             [
              0.6666666666666666,
              "#ed7953"
             ],
             [
              0.7777777777777778,
              "#fb9f3a"
             ],
             [
              0.8888888888888888,
              "#fdca26"
             ],
             [
              1,
              "#f0f921"
             ]
            ],
            "type": "contour"
           }
          ],
          "contourcarpet": [
           {
            "colorbar": {
             "outlinewidth": 0,
             "ticks": ""
            },
            "type": "contourcarpet"
           }
          ],
          "heatmap": [
           {
            "colorbar": {
             "outlinewidth": 0,
             "ticks": ""
            },
            "colorscale": [
             [
              0,
              "#0d0887"
             ],
             [
              0.1111111111111111,
              "#46039f"
             ],
             [
              0.2222222222222222,
              "#7201a8"
             ],
             [
              0.3333333333333333,
              "#9c179e"
             ],
             [
              0.4444444444444444,
              "#bd3786"
             ],
             [
              0.5555555555555556,
              "#d8576b"
             ],
             [
              0.6666666666666666,
              "#ed7953"
             ],
             [
              0.7777777777777778,
              "#fb9f3a"
             ],
             [
              0.8888888888888888,
              "#fdca26"
             ],
             [
              1,
              "#f0f921"
             ]
            ],
            "type": "heatmap"
           }
          ],
          "heatmapgl": [
           {
            "colorbar": {
             "outlinewidth": 0,
             "ticks": ""
            },
            "colorscale": [
             [
              0,
              "#0d0887"
             ],
             [
              0.1111111111111111,
              "#46039f"
             ],
             [
              0.2222222222222222,
              "#7201a8"
             ],
             [
              0.3333333333333333,
              "#9c179e"
             ],
             [
              0.4444444444444444,
              "#bd3786"
             ],
             [
              0.5555555555555556,
              "#d8576b"
             ],
             [
              0.6666666666666666,
              "#ed7953"
             ],
             [
              0.7777777777777778,
              "#fb9f3a"
             ],
             [
              0.8888888888888888,
              "#fdca26"
             ],
             [
              1,
              "#f0f921"
             ]
            ],
            "type": "heatmapgl"
           }
          ],
          "histogram": [
           {
            "marker": {
             "pattern": {
              "fillmode": "overlay",
              "size": 10,
              "solidity": 0.2
             }
            },
            "type": "histogram"
           }
          ],
          "histogram2d": [
           {
            "colorbar": {
             "outlinewidth": 0,
             "ticks": ""
            },
            "colorscale": [
             [
              0,
              "#0d0887"
             ],
             [
              0.1111111111111111,
              "#46039f"
             ],
             [
              0.2222222222222222,
              "#7201a8"
             ],
             [
              0.3333333333333333,
              "#9c179e"
             ],
             [
              0.4444444444444444,
              "#bd3786"
             ],
             [
              0.5555555555555556,
              "#d8576b"
             ],
             [
              0.6666666666666666,
              "#ed7953"
             ],
             [
              0.7777777777777778,
              "#fb9f3a"
             ],
             [
              0.8888888888888888,
              "#fdca26"
             ],
             [
              1,
              "#f0f921"
             ]
            ],
            "type": "histogram2d"
           }
          ],
          "histogram2dcontour": [
           {
            "colorbar": {
             "outlinewidth": 0,
             "ticks": ""
            },
            "colorscale": [
             [
              0,
              "#0d0887"
             ],
             [
              0.1111111111111111,
              "#46039f"
             ],
             [
              0.2222222222222222,
              "#7201a8"
             ],
             [
              0.3333333333333333,
              "#9c179e"
             ],
             [
              0.4444444444444444,
              "#bd3786"
             ],
             [
              0.5555555555555556,
              "#d8576b"
             ],
             [
              0.6666666666666666,
              "#ed7953"
             ],
             [
              0.7777777777777778,
              "#fb9f3a"
             ],
             [
              0.8888888888888888,
              "#fdca26"
             ],
             [
              1,
              "#f0f921"
             ]
            ],
            "type": "histogram2dcontour"
           }
          ],
          "mesh3d": [
           {
            "colorbar": {
             "outlinewidth": 0,
             "ticks": ""
            },
            "type": "mesh3d"
           }
          ],
          "parcoords": [
           {
            "line": {
             "colorbar": {
              "outlinewidth": 0,
              "ticks": ""
             }
            },
            "type": "parcoords"
           }
          ],
          "pie": [
           {
            "automargin": true,
            "type": "pie"
           }
          ],
          "scatter": [
           {
            "fillpattern": {
             "fillmode": "overlay",
             "size": 10,
             "solidity": 0.2
            },
            "type": "scatter"
           }
          ],
          "scatter3d": [
           {
            "line": {
             "colorbar": {
              "outlinewidth": 0,
              "ticks": ""
             }
            },
            "marker": {
             "colorbar": {
              "outlinewidth": 0,
              "ticks": ""
             }
            },
            "type": "scatter3d"
           }
          ],
          "scattercarpet": [
           {
            "marker": {
             "colorbar": {
              "outlinewidth": 0,
              "ticks": ""
             }
            },
            "type": "scattercarpet"
           }
          ],
          "scattergeo": [
           {
            "marker": {
             "colorbar": {
              "outlinewidth": 0,
              "ticks": ""
             }
            },
            "type": "scattergeo"
           }
          ],
          "scattergl": [
           {
            "marker": {
             "colorbar": {
              "outlinewidth": 0,
              "ticks": ""
             }
            },
            "type": "scattergl"
           }
          ],
          "scattermapbox": [
           {
            "marker": {
             "colorbar": {
              "outlinewidth": 0,
              "ticks": ""
             }
            },
            "type": "scattermapbox"
           }
          ],
          "scatterpolar": [
           {
            "marker": {
             "colorbar": {
              "outlinewidth": 0,
              "ticks": ""
             }
            },
            "type": "scatterpolar"
           }
          ],
          "scatterpolargl": [
           {
            "marker": {
             "colorbar": {
              "outlinewidth": 0,
              "ticks": ""
             }
            },
            "type": "scatterpolargl"
           }
          ],
          "scatterternary": [
           {
            "marker": {
             "colorbar": {
              "outlinewidth": 0,
              "ticks": ""
             }
            },
            "type": "scatterternary"
           }
          ],
          "surface": [
           {
            "colorbar": {
             "outlinewidth": 0,
             "ticks": ""
            },
            "colorscale": [
             [
              0,
              "#0d0887"
             ],
             [
              0.1111111111111111,
              "#46039f"
             ],
             [
              0.2222222222222222,
              "#7201a8"
             ],
             [
              0.3333333333333333,
              "#9c179e"
             ],
             [
              0.4444444444444444,
              "#bd3786"
             ],
             [
              0.5555555555555556,
              "#d8576b"
             ],
             [
              0.6666666666666666,
              "#ed7953"
             ],
             [
              0.7777777777777778,
              "#fb9f3a"
             ],
             [
              0.8888888888888888,
              "#fdca26"
             ],
             [
              1,
              "#f0f921"
             ]
            ],
            "type": "surface"
           }
          ],
          "table": [
           {
            "cells": {
             "fill": {
              "color": "#EBF0F8"
             },
             "line": {
              "color": "white"
             }
            },
            "header": {
             "fill": {
              "color": "#C8D4E3"
             },
             "line": {
              "color": "white"
             }
            },
            "type": "table"
           }
          ]
         },
         "layout": {
          "annotationdefaults": {
           "arrowcolor": "#2a3f5f",
           "arrowhead": 0,
           "arrowwidth": 1
          },
          "autotypenumbers": "strict",
          "coloraxis": {
           "colorbar": {
            "outlinewidth": 0,
            "ticks": ""
           }
          },
          "colorscale": {
           "diverging": [
            [
             0,
             "#8e0152"
            ],
            [
             0.1,
             "#c51b7d"
            ],
            [
             0.2,
             "#de77ae"
            ],
            [
             0.3,
             "#f1b6da"
            ],
            [
             0.4,
             "#fde0ef"
            ],
            [
             0.5,
             "#f7f7f7"
            ],
            [
             0.6,
             "#e6f5d0"
            ],
            [
             0.7,
             "#b8e186"
            ],
            [
             0.8,
             "#7fbc41"
            ],
            [
             0.9,
             "#4d9221"
            ],
            [
             1,
             "#276419"
            ]
           ],
           "sequential": [
            [
             0,
             "#0d0887"
            ],
            [
             0.1111111111111111,
             "#46039f"
            ],
            [
             0.2222222222222222,
             "#7201a8"
            ],
            [
             0.3333333333333333,
             "#9c179e"
            ],
            [
             0.4444444444444444,
             "#bd3786"
            ],
            [
             0.5555555555555556,
             "#d8576b"
            ],
            [
             0.6666666666666666,
             "#ed7953"
            ],
            [
             0.7777777777777778,
             "#fb9f3a"
            ],
            [
             0.8888888888888888,
             "#fdca26"
            ],
            [
             1,
             "#f0f921"
            ]
           ],
           "sequentialminus": [
            [
             0,
             "#0d0887"
            ],
            [
             0.1111111111111111,
             "#46039f"
            ],
            [
             0.2222222222222222,
             "#7201a8"
            ],
            [
             0.3333333333333333,
             "#9c179e"
            ],
            [
             0.4444444444444444,
             "#bd3786"
            ],
            [
             0.5555555555555556,
             "#d8576b"
            ],
            [
             0.6666666666666666,
             "#ed7953"
            ],
            [
             0.7777777777777778,
             "#fb9f3a"
            ],
            [
             0.8888888888888888,
             "#fdca26"
            ],
            [
             1,
             "#f0f921"
            ]
           ]
          },
          "colorway": [
           "#636efa",
           "#EF553B",
           "#00cc96",
           "#ab63fa",
           "#FFA15A",
           "#19d3f3",
           "#FF6692",
           "#B6E880",
           "#FF97FF",
           "#FECB52"
          ],
          "font": {
           "color": "#2a3f5f"
          },
          "geo": {
           "bgcolor": "white",
           "lakecolor": "white",
           "landcolor": "#E5ECF6",
           "showlakes": true,
           "showland": true,
           "subunitcolor": "white"
          },
          "hoverlabel": {
           "align": "left"
          },
          "hovermode": "closest",
          "mapbox": {
           "style": "light"
          },
          "paper_bgcolor": "white",
          "plot_bgcolor": "#E5ECF6",
          "polar": {
           "angularaxis": {
            "gridcolor": "white",
            "linecolor": "white",
            "ticks": ""
           },
           "bgcolor": "#E5ECF6",
           "radialaxis": {
            "gridcolor": "white",
            "linecolor": "white",
            "ticks": ""
           }
          },
          "scene": {
           "xaxis": {
            "backgroundcolor": "#E5ECF6",
            "gridcolor": "white",
            "gridwidth": 2,
            "linecolor": "white",
            "showbackground": true,
            "ticks": "",
            "zerolinecolor": "white"
           },
           "yaxis": {
            "backgroundcolor": "#E5ECF6",
            "gridcolor": "white",
            "gridwidth": 2,
            "linecolor": "white",
            "showbackground": true,
            "ticks": "",
            "zerolinecolor": "white"
           },
           "zaxis": {
            "backgroundcolor": "#E5ECF6",
            "gridcolor": "white",
            "gridwidth": 2,
            "linecolor": "white",
            "showbackground": true,
            "ticks": "",
            "zerolinecolor": "white"
           }
          },
          "shapedefaults": {
           "line": {
            "color": "#2a3f5f"
           }
          },
          "ternary": {
           "aaxis": {
            "gridcolor": "white",
            "linecolor": "white",
            "ticks": ""
           },
           "baxis": {
            "gridcolor": "white",
            "linecolor": "white",
            "ticks": ""
           },
           "bgcolor": "#E5ECF6",
           "caxis": {
            "gridcolor": "white",
            "linecolor": "white",
            "ticks": ""
           }
          },
          "title": {
           "x": 0.05
          },
          "xaxis": {
           "automargin": true,
           "gridcolor": "white",
           "linecolor": "white",
           "ticks": "",
           "title": {
            "standoff": 15
           },
           "zerolinecolor": "white",
           "zerolinewidth": 2
          },
          "yaxis": {
           "automargin": true,
           "gridcolor": "white",
           "linecolor": "white",
           "ticks": "",
           "title": {
            "standoff": 15
           },
           "zerolinecolor": "white",
           "zerolinewidth": 2
          }
         }
        },
        "title": {
         "text": "Correlation Matrix of Numerical Variables"
        },
        "xaxis": {
         "anchor": "y",
         "constrain": "domain",
         "domain": [
          0,
          1
         ],
         "scaleanchor": "y"
        },
        "yaxis": {
         "anchor": "x",
         "autorange": "reversed",
         "constrain": "domain",
         "domain": [
          0,
          1
         ]
        }
       }
      }
     },
     "metadata": {},
     "output_type": "display_data"
    }
   ],
   "source": [
    "numeric_data = data.select_dtypes(include=['float64', 'int64'])\n",
    "\n",
    "# Compute correlation matrix\n",
    "correlation_matrix = numeric_data.corr()\n",
    "\n",
    "# Create the heatmap\n",
    "fig = px.imshow(correlation_matrix, color_continuous_scale='Viridis',\n",
    "                title='Correlation Matrix of Numerical Variables')\n",
    "\n",
    "# Show the plot\n",
    "fig.show()"
   ]
  }
 ],
 "metadata": {
  "kernelspec": {
   "display_name": "base",
   "language": "python",
   "name": "python3"
  },
  "language_info": {
   "codemirror_mode": {
    "name": "ipython",
    "version": 3
   },
   "file_extension": ".py",
   "mimetype": "text/x-python",
   "name": "python",
   "nbconvert_exporter": "python",
   "pygments_lexer": "ipython3",
   "version": "3.11.7"
  }
 },
 "nbformat": 4,
 "nbformat_minor": 2
}

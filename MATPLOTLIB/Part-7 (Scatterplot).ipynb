{
 "cells": [
  {
   "cell_type": "code",
   "execution_count": null,
   "metadata": {},
   "outputs": [],
   "source": [
    "from matplotlib import pyplot as plt\n",
    "import pandas as pd\n",
    "plt.style.use(\"ggplot\")"
   ]
  },
  {
   "cell_type": "code",
   "execution_count": null,
   "metadata": {},
   "outputs": [],
   "source": [
    "x = [5, 7, 8, 5, 6, 7, 9, 2, 3, 4, 4, 4, 2, 6, 3, 6, 8, 6, 4, 1]\n",
    "y = [7, 4, 3, 9, 1, 3, 2, 5, 2, 4, 8, 7, 1, 6, 4, 9, 7, 7, 5, 1]\n",
    "\n",
    "colors = [7, 5, 9, 7, 5, 7, 2, 5, 3, 7, 1, 2, 8, 1, 9, 2, 5, 6, 7, 5]\n",
    "\n",
    "sizes = [209, 486, 381, 255, 191, 315, 185, 228, 174,\n",
    "         538, 239, 394, 399, 153, 273, 293, 436, 501, 397, 539]\n"
   ]
  },
  {
   "cell_type": "code",
   "execution_count": null,
   "metadata": {},
   "outputs": [],
   "source": [
    "plt.scatter(x,y)\n",
    "plt.show()"
   ]
  },
  {
   "cell_type": "code",
   "execution_count": null,
   "metadata": {},
   "outputs": [],
   "source": [
    "plt.scatter(x,y,s=100)\n",
    "plt.show()"
   ]
  },
  {
   "cell_type": "code",
   "execution_count": null,
   "metadata": {},
   "outputs": [],
   "source": [
    "plt.scatter(x,y,s=100,c='r')\n",
    "plt.show"
   ]
  },
  {
   "cell_type": "code",
   "execution_count": null,
   "metadata": {},
   "outputs": [],
   "source": [
    "plt.scatter(x,y,s=100,c='r',marker=\"p\")\n",
    "plt.show()"
   ]
  },
  {
   "cell_type": "code",
   "execution_count": null,
   "metadata": {},
   "outputs": [],
   "source": [
    "plt.scatter(x,y,s=100,c='r',marker=\"p\",edgecolors=\"black\")\n",
    "plt.show()"
   ]
  },
  {
   "cell_type": "code",
   "execution_count": null,
   "metadata": {},
   "outputs": [],
   "source": [
    "plt.scatter(x,y,s=100,c=colors,marker=\"p\",edgecolors='green')\n",
    "\n",
    "colorbar=plt.colorbar()\n",
    "colorbar.set_label(\"Satisfaction level\")\n",
    "\n",
    "plt.xlabel(\"x-axis\")\n",
    "plt.ylabel(\"y-label\")\n",
    "plt.title(\"satisfication\")\n",
    "plt.show()"
   ]
  },
  {
   "cell_type": "code",
   "execution_count": null,
   "metadata": {},
   "outputs": [],
   "source": [
    "plt.scatter(x,y,s=sizes,c=colors,marker=\"o\",edgecolor='yellow')\n",
    "colorbar=plt.colorbar()\n",
    "colorbar.set_label(\"Satisfaction label\")\n",
    "plt.show()"
   ]
  },
  {
   "cell_type": "code",
   "execution_count": null,
   "metadata": {},
   "outputs": [],
   "source": [
    "data=pd.read_csv(r\"C:\\Users\\Ranjithbalan\\Downloads\\DATA(4).csv\")\n",
    "data"
   ]
  },
  {
   "cell_type": "code",
   "execution_count": null,
   "metadata": {},
   "outputs": [],
   "source": [
    "views=data[\"view_count\"]\n",
    "like=data['likes']\n",
    "ratio=data['ratio']"
   ]
  },
  {
   "cell_type": "code",
   "execution_count": null,
   "metadata": {},
   "outputs": [],
   "source": [
    "plt.scatter(views,like)\n",
    "plt.show()"
   ]
  },
  {
   "cell_type": "code",
   "execution_count": null,
   "metadata": {},
   "outputs": [],
   "source": [
    "plt.scatter(views,like,edgecolors=\"black\")\n",
    "plt.show()"
   ]
  },
  {
   "cell_type": "code",
   "execution_count": null,
   "metadata": {},
   "outputs": [],
   "source": [
    "plt.scatter(views,like,c=ratio,cmap=\"summer\",edgecolor=\"black\",marker=\"p\")\n",
    "plt.xscale(\"log\")\n",
    "plt.yscale('log')\n",
    "\n",
    "plt.xlabel(\"VIEWS COUNT\")\n",
    "plt.ylabel('Likes')\n",
    "\n",
    "plt.show()"
   ]
  },
  {
   "cell_type": "code",
   "execution_count": null,
   "metadata": {},
   "outputs": [],
   "source": [
    "plt.scatter(views,like,c=ratio,edgecolor=\"black\",marker=\"p\")\n",
    "plt.xscale(\"log\")\n",
    "plt.yscale('log')\n",
    "\n",
    "cbar=plt.colorbar()\n",
    "cbar.set_label(\"like & dislike ratio\")\n",
    "\n",
    "plt.xlabel(\"VIEWS COUNT\")\n",
    "plt.ylabel('LIKES')\n",
    "plt.title(\"Analayze of the data\")\n",
    "\n",
    "plt.show()"
   ]
  }
 ],
 "metadata": {
  "kernelspec": {
   "display_name": "base",
   "language": "python",
   "name": "python3"
  },
  "language_info": {
   "codemirror_mode": {
    "name": "ipython",
    "version": 3
   },
   "file_extension": ".py",
   "mimetype": "text/x-python",
   "name": "python",
   "nbconvert_exporter": "python",
   "pygments_lexer": "ipython3",
   "version": "3.11.7"
  }
 },
 "nbformat": 4,
 "nbformat_minor": 2
}

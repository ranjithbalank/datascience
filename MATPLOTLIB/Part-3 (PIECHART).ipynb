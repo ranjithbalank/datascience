{
 "cells": [
  {
   "cell_type": "markdown",
   "metadata": {},
   "source": [
    "# Library"
   ]
  },
  {
   "cell_type": "code",
   "execution_count": null,
   "metadata": {},
   "outputs": [],
   "source": [
    "from matplotlib import pyplot as plt\n",
    "from collections import Counter\n",
    "import pandas as pd"
   ]
  },
  {
   "cell_type": "markdown",
   "metadata": {},
   "source": [
    "## DATA"
   ]
  },
  {
   "cell_type": "code",
   "execution_count": null,
   "metadata": {},
   "outputs": [],
   "source": [
    "# slices = [59219, 55466, 47544, 36443, 35917]\n",
    "# labels = ['JavaScript', 'HTML/CSS', 'SQL', 'Python', 'Java']\n",
    "explode = [0, 0, 0, 0.1, 0,0,0,0,0,0,0,0,0,0,0]\n",
    "# print(len(explode))\n",
    "# print(len(labels))\n",
    "\n",
    "# Language Popularity\n",
    "slices = [59219, 55466, 47544, 36443, 35917, 31991, 27097, 23030, 20524, 18523, 18017, 7920, 7331, 7201, 5833]\n",
    "labels = ['JavaScript', 'HTML/CSS', 'SQL', 'Python', 'Java', 'Bash/Shell/PowerShell', 'C#', 'PHP', 'C++', 'TypeScript', 'C', 'Other(s):', 'Ruby', 'Go', 'Assembly']"
   ]
  },
  {
   "cell_type": "code",
   "execution_count": null,
   "metadata": {},
   "outputs": [],
   "source": [
    "plt.pie(slices)\n",
    "plt.title(\"My Awesome Pie Chart\")\n",
    "plt.show()"
   ]
  },
  {
   "cell_type": "code",
   "execution_count": null,
   "metadata": {},
   "outputs": [],
   "source": [
    "plt.pie(slices,labels=labels)\n",
    "plt.title(\"My Awesome Pie Chart\")\n",
    "\n",
    "plt.show()"
   ]
  },
  {
   "cell_type": "code",
   "execution_count": null,
   "metadata": {},
   "outputs": [],
   "source": [
    "plt.pie(slices,labels=labels,wedgeprops={\"edgecolor\":\"black\"})\n",
    "plt.title(\"My Awesome Pie Chart\")\n",
    "\n",
    "plt.show()"
   ]
  },
  {
   "cell_type": "code",
   "execution_count": null,
   "metadata": {},
   "outputs": [],
   "source": [
    "plt.pie(slices,labels=labels,explode=explode,wedgeprops={\"edgecolor\":\"black\"})\n",
    "plt.title(\"My Awesome Pie Chart\")\n",
    "\n",
    "plt.show()"
   ]
  },
  {
   "cell_type": "code",
   "execution_count": null,
   "metadata": {},
   "outputs": [],
   "source": [
    "plt.pie(slices,labels=labels,explode=explode,shadow=True\n",
    ",wedgeprops={\"edgecolor\":\"black\"})\n",
    "plt.title(\"My Awesome Pie Chart\")\n",
    "\n",
    "plt.show()"
   ]
  },
  {
   "cell_type": "code",
   "execution_count": null,
   "metadata": {},
   "outputs": [],
   "source": [
    "plt.pie(slices,labels=labels,explode=explode,shadow=True,startangle=240\n",
    ",wedgeprops={\"edgecolor\":\"black\"})\n",
    "plt.title(\"My Awesome Pie Chart\")\n",
    "\n",
    "plt.show()"
   ]
  },
  {
   "cell_type": "code",
   "execution_count": null,
   "metadata": {},
   "outputs": [],
   "source": [
    "plt.pie(slices[1:4],labels=labels[1:4],explode=explode[1:4],shadow=True,startangle=240, autopct=\"%1.1f%%\"\n",
    ",wedgeprops={\"edgecolor\":\"black\"})\n",
    "plt.title(\"My Awesome Pie Chart\")\n",
    "\n",
    "plt.show()"
   ]
  },
  {
   "cell_type": "code",
   "execution_count": null,
   "metadata": {},
   "outputs": [],
   "source": [
    "data=pd.read_csv(r\"C:\\Users\\Ranjithbalan\\Downloads\\data (1).csv\")\n",
    "data"
   ]
  },
  {
   "cell_type": "code",
   "execution_count": null,
   "metadata": {},
   "outputs": [],
   "source": [
    "language_count=Counter()\n",
    "\n",
    "for i in data['LanguagesWorkedWith']:\n",
    "    a=i.split(';')\n",
    "    language_count.update(a)\n",
    "\n",
    "lang=[]\n",
    "pop=[]\n",
    "\n",
    "for i,j in language_count.most_common(7):\n",
    "    lang.append(i)\n",
    "    pop.append(j)"
   ]
  },
  {
   "cell_type": "code",
   "execution_count": null,
   "metadata": {},
   "outputs": [],
   "source": [
    "plt.pie(pop,labels=lang,startangle=165,wedgeprops={\"edgecolor\":'black'},autopct=\"%1.2f%%\")\n",
    "plt.tight_layout()\n",
    "plt.show()\n"
   ]
  },
  {
   "cell_type": "code",
   "execution_count": null,
   "metadata": {},
   "outputs": [],
   "source": [
    "plt.pie(pop,labels=lang,startangle=165,explode=explode[0:7],shadow=True,wedgeprops={\"edgecolor\":'black'})\n",
    "plt.tight_layout()\n",
    "\n",
    "plt.show()\n",
    "\n"
   ]
  },
  {
   "cell_type": "code",
   "execution_count": null,
   "metadata": {},
   "outputs": [],
   "source": []
  }
 ],
 "metadata": {
  "kernelspec": {
   "display_name": "base",
   "language": "python",
   "name": "python3"
  },
  "language_info": {
   "codemirror_mode": {
    "name": "ipython",
    "version": 3
   },
   "file_extension": ".py",
   "mimetype": "text/x-python",
   "name": "python",
   "nbconvert_exporter": "python",
   "pygments_lexer": "ipython3",
   "version": "3.11.7"
  }
 },
 "nbformat": 4,
 "nbformat_minor": 2
}

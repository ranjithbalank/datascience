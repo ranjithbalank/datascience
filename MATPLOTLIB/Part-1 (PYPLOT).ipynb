{
 "cells": [
  {
   "cell_type": "markdown",
   "metadata": {},
   "source": [
    "# PYPLOT"
   ]
  },
  {
   "cell_type": "markdown",
   "metadata": {},
   "source": [
    "## Library - Import "
   ]
  },
  {
   "cell_type": "code",
   "execution_count": 1,
   "metadata": {},
   "outputs": [],
   "source": [
    "from matplotlib import pyplot as plt"
   ]
  },
  {
   "cell_type": "markdown",
   "metadata": {},
   "source": [
    "## Datasets"
   ]
  },
  {
   "cell_type": "code",
   "execution_count": null,
   "metadata": {},
   "outputs": [],
   "source": []
  },
  {
   "cell_type": "code",
   "execution_count": null,
   "metadata": {},
   "outputs": [],
   "source": [
    "# Median Developer Salaries by Age\n",
    "# dev_x = [25, 26, 27, 28, 29, 30, 31, 32, 33, 34, 35]\n",
    "\n",
    "# dev_y = [38496, 42000, 46752, 49320, 53200,\n",
    "#          56000, 62316, 64928, 67317, 68748, 73752]\n",
    "\n",
    "\n",
    "# # Median Python Developer Salaries by Age\n",
    "# py_dev_x = [25, 26, 27, 28, 29, 30, 31, 32, 33, 34, 35]\n",
    "# py_dev_y = [45372, 48876, 53850, 57287, 63016,\n",
    "#             65998, 70003, 70000, 71496, 75370, 83640]\n",
    "\n",
    "\n",
    "# # Median JavaScript Developer Salaries by Age\n",
    "# js_dev_y = [37810, 43515, 46823, 49293, 53437,\n",
    "#             56373, 62375, 66674, 68745, 68746, 74583]\n",
    "\n",
    "# Ages 18 to 55\n",
    "ages_x = [18, 19, 20, 21, 22, 23, 24, 25, 26, 27, 28, 29, 30, 31, 32, 33, 34, 35,\n",
    "          36, 37, 38, 39, 40, 41, 42, 43, 44, 45, 46, 47, 48, 49, 50, 51, 52, 53, 54, 55]\n",
    "\n",
    "py_dev_y = [20046, 17100, 20000, 24744, 30500, 37732, 41247, 45372, 48876, 53850, 57287, 63016, 65998, 70003, 70000, 71496, 75370, 83640, 84666,\n",
    "            84392, 78254, 85000, 87038, 91991, 100000, 94796, 97962, 93302, 99240, 102736, 112285, 100771, 104708, 108423, 101407, 112542, 122870, 120000]\n",
    "\n",
    "js_dev_y = [16446, 16791, 18942, 21780, 25704, 29000, 34372, 37810, 43515, 46823, 49293, 53437, 56373, 62375, 66674, 68745, 68746, 74583, 79000,\n",
    "            78508, 79996, 80403, 83820, 88833, 91660, 87892, 96243, 90000, 99313, 91660, 102264, 100000, 100000, 91660, 99240, 108000, 105000, 104000]\n",
    "\n",
    "dev_y = [17784, 16500, 18012, 20628, 25206, 30252, 34368, 38496, 42000, 46752, 49320, 53200, 56000, 62316, 64928, 67317, 68748, 73752, 77232,\n",
    "         78000, 78508, 79536, 82488, 88935, 90000, 90056, 95000, 90000, 91633, 91660, 98150, 98964, 100000, 98988, 100000, 108923, 105000, 103117]"
   ]
  },
  {
   "cell_type": "markdown",
   "metadata": {},
   "source": [
    "##  Codes"
   ]
  },
  {
   "cell_type": "code",
   "execution_count": null,
   "metadata": {},
   "outputs": [],
   "source": [
    "plt.plot(ages_x,dev_y)\n",
    "plt.show()"
   ]
  },
  {
   "cell_type": "code",
   "execution_count": null,
   "metadata": {},
   "outputs": [],
   "source": [
    "plt.plot(ages_x,dev_y)\n",
    "plt.xlabel(\"Ages\")\n",
    "plt.ylabel(\"salary\")\n",
    "plt.show()"
   ]
  },
  {
   "cell_type": "markdown",
   "metadata": {},
   "source": [
    "      1) Here's a quick reference: (color)\n",
    "      ------------------------------------------------\n",
    "      Black : 'k'  | Red: 'r'   | Green: 'g'     |\n",
    "      Blue: 'b'    | Cyan: 'c'  | Magenta: 'm'   | \n",
    "      Yellow: 'y'  | White: 'w' |"
   ]
  },
  {
   "cell_type": "markdown",
   "metadata": {},
   "source": [
    "      2) Some commonly used marker codes: [markers]\n",
    "      --------------------------------------------------------------------------------------\n",
    "      '.': Point marker           | ',': Pixel marker        | 'o': Circle marker        | \n",
    "      'v': Triangle_down marker   | '^': Triangle_up marker  | '<': Triangle_left marker |\n",
    "      '>': Triangle_right marker  | '1': Tri_down marker     | '2': Tri_up marker        |\n",
    "      '3': Tri_left marker        | '4': Tri_right marker    | 's': Square marker        | \n",
    "      'p': Pentagon marker        | '*': Star marker         | 'h': Hexagon1 marker      |\n",
    "      'H': Hexagon2 marker        | '+': Plus marker         | 'x': X marker             | \n",
    "      'D': Diamond marker         | 'd': Thin_diamond marker"
   ]
  },
  {
   "cell_type": "markdown",
   "metadata": {},
   "source": [
    "        3)some commonly used line styles: (linestyle)\n",
    "        ----------------------------------------------\n",
    "        '-' (solid line)     | '--' (dashed line)  | \n",
    "        '-.' (dash-dot line) | ':' (dotted line)   | "
   ]
  },
  {
   "cell_type": "code",
   "execution_count": null,
   "metadata": {},
   "outputs": [],
   "source": [
    "plt.plot(ages_x,dev_y,color=\"r\",marker=\"p\",linestyle='--',label=\"AllDevelopers\")\n",
    "plt.plot(ages_x,py_dev_y,color='b',marker='^',linestyle='-',label='Python')\n",
    "plt.plot(ages_x,js_dev_y,color='g',marker='+',linestyle='-',label='Java')\n",
    "plt.xlabel(\"Ages\")\n",
    "plt.ylabel(\"Developer Salary\")\n",
    "plt.title(\"Median Salary (USD) by AGES\")\n",
    "plt.legend()\n",
    "plt.tight_layout()\n",
    "plt.savefig('plot.png') # saves the graph as image\n",
    "\n",
    "plt.show()\n"
   ]
  },
  {
   "cell_type": "markdown",
   "metadata": {},
   "source": []
  }
 ],
 "metadata": {
  "kernelspec": {
   "display_name": "base",
   "language": "python",
   "name": "python3"
  },
  "language_info": {
   "codemirror_mode": {
    "name": "ipython",
    "version": 3
   },
   "file_extension": ".py",
   "mimetype": "text/x-python",
   "name": "python",
   "nbconvert_exporter": "python",
   "pygments_lexer": "ipython3",
   "version": "3.11.7"
  }
 },
 "nbformat": 4,
 "nbformat_minor": 2
}
